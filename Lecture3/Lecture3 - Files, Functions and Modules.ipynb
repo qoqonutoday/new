{
 "cells": [
  {
   "cell_type": "markdown",
   "id": "4f3dab01",
   "metadata": {},
   "source": [
    "## Accessing file contents"
   ]
  },
  {
   "cell_type": "markdown",
   "id": "bad9cb62",
   "metadata": {},
   "source": [
    "### global read (global_read.py)"
   ]
  },
  {
   "cell_type": "code",
   "execution_count": 1,
   "id": "903deb5f",
   "metadata": {},
   "outputs": [],
   "source": [
    "f2 = open(\"sequence.txt\", \"r\") "
   ]
  },
  {
   "cell_type": "code",
   "execution_count": 2,
   "id": "4d8c335c",
   "metadata": {},
   "outputs": [],
   "source": [
    "bigstring = f2.read()"
   ]
  },
  {
   "cell_type": "code",
   "execution_count": 3,
   "id": "ade7ed14",
   "metadata": {
    "scrolled": true
   },
   "outputs": [
    {
     "name": "stdout",
     "output_type": "stream",
     "text": [
      ">NC_000020\n",
      "# sequence on the next 3 lines...\n",
      "GGCCATGGTCAGCGTGAACG\n",
      "CGCCCCTCGGGGCTCCAGTG\n",
      "GAGAGTTCTTACGGTAAGTG\n",
      "\n"
     ]
    }
   ],
   "source": [
    "print(bigstring)"
   ]
  },
  {
   "cell_type": "markdown",
   "id": "f4270cf9",
   "metadata": {},
   "source": [
    "### line read (line_read.py)"
   ]
  },
  {
   "cell_type": "code",
   "execution_count": 4,
   "id": "320e25f1",
   "metadata": {},
   "outputs": [],
   "source": [
    "f2 = open(\"sequence.txt\", \"r\") "
   ]
  },
  {
   "cell_type": "code",
   "execution_count": 5,
   "id": "74163f1d",
   "metadata": {},
   "outputs": [
    {
     "name": "stdout",
     "output_type": "stream",
     "text": [
      ">NC_000020\n",
      "# sequence on the next 3 lines...\n",
      "GGCCATGGTCAGCGTGAACG\n",
      "CGCCCCTCGGGGCTCCAGTG\n",
      "GAGAGTTCTTACGGTAAGTG\n"
     ]
    }
   ],
   "source": [
    "for line in f2: # do not forget the column\n",
    "    print(line,end='')"
   ]
  },
  {
   "cell_type": "markdown",
   "id": "c957d465",
   "metadata": {},
   "source": [
    "### Splitting strings"
   ]
  },
  {
   "cell_type": "code",
   "execution_count": 6,
   "id": "c1fd7d20",
   "metadata": {},
   "outputs": [],
   "source": [
    "text = \"Once upon a time in a far galaxy\""
   ]
  },
  {
   "cell_type": "code",
   "execution_count": 7,
   "id": "86b970c0",
   "metadata": {
    "scrolled": true
   },
   "outputs": [
    {
     "data": {
      "text/plain": [
       "['Once', 'upon', 'a', 'time', 'in', 'a', 'far', 'galaxy']"
      ]
     },
     "execution_count": 7,
     "metadata": {},
     "output_type": "execute_result"
    }
   ],
   "source": [
    " text.split()"
   ]
  },
  {
   "cell_type": "code",
   "execution_count": 8,
   "id": "1dfc0d82",
   "metadata": {},
   "outputs": [],
   "source": [
    "record =\"1,'Einstein, Albert', 1905, 1955\""
   ]
  },
  {
   "cell_type": "code",
   "execution_count": 9,
   "id": "db15ab7e",
   "metadata": {},
   "outputs": [
    {
     "data": {
      "text/plain": [
       "[\"1,'Einstein,\", \"Albert',\", '1905,', '1955']"
      ]
     },
     "execution_count": 9,
     "metadata": {},
     "output_type": "execute_result"
    }
   ],
   "source": [
    "record.split()"
   ]
  },
  {
   "cell_type": "code",
   "execution_count": 10,
   "id": "551f7808",
   "metadata": {
    "scrolled": true
   },
   "outputs": [
    {
     "data": {
      "text/plain": [
       "['1', \"'Einstein\", \" Albert'\", ' 1905', ' 1955']"
      ]
     },
     "execution_count": 10,
     "metadata": {},
     "output_type": "execute_result"
    }
   ],
   "source": [
    "record.split(',')"
   ]
  },
  {
   "cell_type": "markdown",
   "id": "64fd12ba",
   "metadata": {},
   "source": [
    "### Pickled files"
   ]
  },
  {
   "cell_type": "code",
   "execution_count": 11,
   "id": "b620287d",
   "metadata": {},
   "outputs": [],
   "source": [
    " mylist = [ 2, 'Apples', 5, 'Oranges']"
   ]
  },
  {
   "cell_type": "code",
   "execution_count": 12,
   "id": "fb081c76",
   "metadata": {},
   "outputs": [
    {
     "data": {
      "text/plain": [
       "[2, 'Apples', 5, 'Oranges']"
      ]
     },
     "execution_count": 12,
     "metadata": {},
     "output_type": "execute_result"
    }
   ],
   "source": [
    "mylist"
   ]
  },
  {
   "cell_type": "code",
   "execution_count": 13,
   "id": "c78b1298",
   "metadata": {},
   "outputs": [],
   "source": [
    "fh = open('testfile.txt', 'wb')"
   ]
  },
  {
   "cell_type": "code",
   "execution_count": 14,
   "id": "224d512d",
   "metadata": {},
   "outputs": [],
   "source": [
    "import pickle"
   ]
  },
  {
   "cell_type": "code",
   "execution_count": 15,
   "id": "164de6b8",
   "metadata": {},
   "outputs": [],
   "source": [
    "pickle.dump(mylist, fh)"
   ]
  },
  {
   "cell_type": "code",
   "execution_count": 16,
   "id": "6b296230",
   "metadata": {},
   "outputs": [],
   "source": [
    "fh.close()"
   ]
  },
  {
   "cell_type": "code",
   "execution_count": 17,
   "id": "b4c5abd9",
   "metadata": {},
   "outputs": [],
   "source": [
    " fhh = open('testfile.txt', 'rb')"
   ]
  },
  {
   "cell_type": "code",
   "execution_count": 18,
   "id": "b7528096",
   "metadata": {},
   "outputs": [],
   "source": [
    " theirlist = pickle.load(fhh)"
   ]
  },
  {
   "cell_type": "code",
   "execution_count": 19,
   "id": "2ee650b6",
   "metadata": {},
   "outputs": [
    {
     "data": {
      "text/plain": [
       "[2, 'Apples', 5, 'Oranges']"
      ]
     },
     "execution_count": 19,
     "metadata": {},
     "output_type": "execute_result"
    }
   ],
   "source": [
    " theirlist"
   ]
  },
  {
   "cell_type": "code",
   "execution_count": 20,
   "id": "a606209f",
   "metadata": {},
   "outputs": [
    {
     "data": {
      "text/plain": [
       "True"
      ]
     },
     "execution_count": 20,
     "metadata": {},
     "output_type": "execute_result"
    }
   ],
   "source": [
    "theirlist==mylist"
   ]
  },
  {
   "cell_type": "code",
   "execution_count": 21,
   "id": "eea330b8",
   "metadata": {},
   "outputs": [],
   "source": [
    "mydict = {'Alice': 22, 'Bob' : 27}"
   ]
  },
  {
   "cell_type": "code",
   "execution_count": 22,
   "id": "7de0e452",
   "metadata": {},
   "outputs": [
    {
     "data": {
      "text/plain": [
       "{'Alice': 22, 'Bob': 27}"
      ]
     },
     "execution_count": 22,
     "metadata": {},
     "output_type": "execute_result"
    }
   ],
   "source": [
    "mydict"
   ]
  },
  {
   "cell_type": "code",
   "execution_count": 23,
   "id": "8ded7de1",
   "metadata": {},
   "outputs": [],
   "source": [
    " fh = open('asciifile.txt', 'wb')"
   ]
  },
  {
   "cell_type": "code",
   "execution_count": 24,
   "id": "4113e56b",
   "metadata": {},
   "outputs": [],
   "source": [
    "pickle.dump(mydict, fh, protocol = 0)"
   ]
  },
  {
   "cell_type": "code",
   "execution_count": 25,
   "id": "2ebb8498",
   "metadata": {},
   "outputs": [],
   "source": [
    " fh.close()"
   ]
  },
  {
   "cell_type": "code",
   "execution_count": 26,
   "id": "7931ba31",
   "metadata": {},
   "outputs": [],
   "source": [
    "fhh = open('asciifile.txt', 'rb')"
   ]
  },
  {
   "cell_type": "code",
   "execution_count": 27,
   "id": "9214d56d",
   "metadata": {},
   "outputs": [],
   "source": [
    " theirdict = pickle.load(fhh)"
   ]
  },
  {
   "cell_type": "code",
   "execution_count": 28,
   "id": "cc072ec7",
   "metadata": {
    "scrolled": true
   },
   "outputs": [
    {
     "data": {
      "text/plain": [
       "True"
      ]
     },
     "execution_count": 28,
     "metadata": {},
     "output_type": "execute_result"
    }
   ],
   "source": [
    "theirdict == mydict"
   ]
  },
  {
   "cell_type": "markdown",
   "id": "2f9cb6a4",
   "metadata": {},
   "source": [
    "# Functions"
   ]
  },
  {
   "cell_type": "code",
   "execution_count": 29,
   "id": "cf552825",
   "metadata": {},
   "outputs": [],
   "source": [
    "def find_max(data):\n",
    "    max = data.pop()\n",
    "    for x in data:\n",
    "        if x > max:\n",
    "            max = x\n",
    "    return max"
   ]
  },
  {
   "cell_type": "code",
   "execution_count": 30,
   "id": "f5bbb3de",
   "metadata": {},
   "outputs": [],
   "source": [
    "data = [1, 5, 1, 12, 3, 4, 6]"
   ]
  },
  {
   "cell_type": "code",
   "execution_count": 31,
   "id": "f1789435",
   "metadata": {},
   "outputs": [
    {
     "name": "stdout",
     "output_type": "stream",
     "text": [
      "Data: [1, 5, 1, 12, 3, 4, 6]\n"
     ]
    }
   ],
   "source": [
    "print(\"Data:\", data)"
   ]
  },
  {
   "cell_type": "code",
   "execution_count": 32,
   "id": "574370d2",
   "metadata": {},
   "outputs": [
    {
     "name": "stdout",
     "output_type": "stream",
     "text": [
      "Maximum: 12\n"
     ]
    }
   ],
   "source": [
    "print(\"Maximum: %i\" %find_max(data))"
   ]
  },
  {
   "cell_type": "markdown",
   "id": "a0559825",
   "metadata": {},
   "source": [
    "### lambda functions"
   ]
  },
  {
   "cell_type": "code",
   "execution_count": 33,
   "id": "ce8b10f5",
   "metadata": {},
   "outputs": [
    {
     "data": {
      "text/plain": [
       "[3, 6, 9]"
      ]
     },
     "execution_count": 33,
     "metadata": {},
     "output_type": "execute_result"
    }
   ],
   "source": [
    "list(map(lambda x: x*3, [1,2,3]))"
   ]
  }
 ],
 "metadata": {
  "kernelspec": {
   "display_name": "Python 3 (ipykernel)",
   "language": "python",
   "name": "python3"
  },
  "language_info": {
   "codemirror_mode": {
    "name": "ipython",
    "version": 3
   },
   "file_extension": ".py",
   "mimetype": "text/x-python",
   "name": "python",
   "nbconvert_exporter": "python",
   "pygments_lexer": "ipython3",
   "version": "3.8.12"
  }
 },
 "nbformat": 4,
 "nbformat_minor": 5
}
