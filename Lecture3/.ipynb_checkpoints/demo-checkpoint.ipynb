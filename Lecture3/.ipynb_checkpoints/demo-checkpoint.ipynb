{
 "cells": [
  {
   "cell_type": "code",
   "execution_count": 1,
   "id": "614b7f34",
   "metadata": {},
   "outputs": [],
   "source": [
    "mylist = [ 2, 'Apples', 5, 'Oranges']"
   ]
  },
  {
   "cell_type": "code",
   "execution_count": 2,
   "id": "522eb70a",
   "metadata": {},
   "outputs": [
    {
     "data": {
      "text/plain": [
       "[2, 'Apples', 5, 'Oranges']"
      ]
     },
     "execution_count": 2,
     "metadata": {},
     "output_type": "execute_result"
    }
   ],
   "source": [
    "mylist"
   ]
  },
  {
   "cell_type": "code",
   "execution_count": 3,
   "id": "b61cc876",
   "metadata": {},
   "outputs": [],
   "source": [
    "fh=open('testfile.txt','wb')"
   ]
  },
  {
   "cell_type": "code",
   "execution_count": 4,
   "id": "8d1b6fdb",
   "metadata": {},
   "outputs": [],
   "source": [
    "import pickle"
   ]
  },
  {
   "cell_type": "code",
   "execution_count": 5,
   "id": "8b19b62f",
   "metadata": {},
   "outputs": [],
   "source": [
    "pickle.dump(mylist, fh, protocol=0)"
   ]
  },
  {
   "cell_type": "code",
   "execution_count": 6,
   "id": "f8399838",
   "metadata": {},
   "outputs": [],
   "source": [
    "fh.close()"
   ]
  },
  {
   "cell_type": "code",
   "execution_count": 7,
   "id": "878e48c0",
   "metadata": {},
   "outputs": [],
   "source": [
    "fhh = open('testfile.txt','rb')"
   ]
  },
  {
   "cell_type": "code",
   "execution_count": 8,
   "id": "a78d1bea",
   "metadata": {},
   "outputs": [],
   "source": [
    "theirlist=pickle.load(fhh)"
   ]
  },
  {
   "cell_type": "code",
   "execution_count": 9,
   "id": "30967aa9",
   "metadata": {},
   "outputs": [
    {
     "data": {
      "text/plain": [
       "[2, 'Apples', 5, 'Oranges']"
      ]
     },
     "execution_count": 9,
     "metadata": {},
     "output_type": "execute_result"
    }
   ],
   "source": [
    "theirlist"
   ]
  },
  {
   "cell_type": "code",
   "execution_count": 10,
   "id": "41d6045b",
   "metadata": {},
   "outputs": [
    {
     "data": {
      "text/plain": [
       "True"
      ]
     },
     "execution_count": 10,
     "metadata": {},
     "output_type": "execute_result"
    }
   ],
   "source": [
    "theirlist==mylist"
   ]
  },
  {
   "cell_type": "code",
   "execution_count": 11,
   "id": "ced0a9a2",
   "metadata": {},
   "outputs": [],
   "source": [
    "import os"
   ]
  },
  {
   "cell_type": "code",
   "execution_count": 12,
   "id": "0fd36fa2",
   "metadata": {},
   "outputs": [],
   "source": [
    "folder = \"./\""
   ]
  },
  {
   "cell_type": "code",
   "execution_count": null,
   "id": "011ae2aa",
   "metadata": {
    "collapsed": true
   },
   "outputs": [],
   "source": []
  }
 ],
 "metadata": {
  "kernelspec": {
   "display_name": "Python 3 (ipykernel)",
   "language": "python",
   "name": "python3"
  },
  "language_info": {
   "codemirror_mode": {
    "name": "ipython",
    "version": 3
   },
   "file_extension": ".py",
   "mimetype": "text/x-python",
   "name": "python",
   "nbconvert_exporter": "python",
   "pygments_lexer": "ipython3",
   "version": "3.8.12"
  }
 },
 "nbformat": 4,
 "nbformat_minor": 5
}
