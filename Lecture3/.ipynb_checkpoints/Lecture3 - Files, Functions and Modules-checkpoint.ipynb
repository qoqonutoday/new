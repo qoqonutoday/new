{
 "cells": [
  {
   "cell_type": "markdown",
   "id": "cb38a74d",
   "metadata": {},
   "source": [
    "## Accessing file contents"
   ]
  },
  {
   "cell_type": "markdown",
   "id": "84507a6a",
   "metadata": {},
   "source": [
    "### global read (global_read.py)"
   ]
  },
  {
   "cell_type": "code",
   "execution_count": 1,
   "id": "4fddcd35",
   "metadata": {},
   "outputs": [],
   "source": [
    "f2 = open(\"sequence.txt\", \"r\") "
   ]
  },
  {
   "cell_type": "code",
   "execution_count": 2,
   "id": "d3ffb29a",
   "metadata": {},
   "outputs": [],
   "source": [
    "bigstring = f2.read()"
   ]
  },
  {
   "cell_type": "code",
   "execution_count": 3,
   "id": "b055dcb5",
   "metadata": {
    "scrolled": true
   },
   "outputs": [
    {
     "name": "stdout",
     "output_type": "stream",
     "text": [
      ">NC_000020\n",
      "# sequence on the next 3 lines...\n",
      "GGCCATGGTCAGCGTGAACG\n",
      "CGCCCCTCGGGGCTCCAGTG\n",
      "GAGAGTTCTTACGGTAAGTG\n",
      "\n"
     ]
    }
   ],
   "source": [
    "print(bigstring)"
   ]
  },
  {
   "cell_type": "markdown",
   "id": "6f2e8e24",
   "metadata": {},
   "source": [
    "### line read (line_read.py)"
   ]
  },
  {
   "cell_type": "code",
   "execution_count": 5,
   "id": "616d9b79",
   "metadata": {},
   "outputs": [],
   "source": [
    "f2 = open(\"sequence.txt\", \"r\") "
   ]
  },
  {
   "cell_type": "code",
   "execution_count": 6,
   "id": "353a93d2",
   "metadata": {},
   "outputs": [
    {
     "name": "stdout",
     "output_type": "stream",
     "text": [
      ">NC_000020\n",
      "# sequence on the next 3 lines...\n",
      "GGCCATGGTCAGCGTGAACG\n",
      "CGCCCCTCGGGGCTCCAGTG\n",
      "GAGAGTTCTTACGGTAAGTG\n"
     ]
    }
   ],
   "source": [
    "for line in f2: # do not forget the column\n",
    "    print(line,end='')"
   ]
  },
  {
   "cell_type": "markdown",
   "id": "4763f884",
   "metadata": {},
   "source": [
    "### Splitting strings"
   ]
  },
  {
   "cell_type": "code",
   "execution_count": 7,
   "id": "5ea7c0c5",
   "metadata": {},
   "outputs": [],
   "source": [
    "text = \"Once upon a time in a far galaxy\""
   ]
  },
  {
   "cell_type": "code",
   "execution_count": 8,
   "id": "b0e1b7fe",
   "metadata": {
    "scrolled": true
   },
   "outputs": [
    {
     "data": {
      "text/plain": [
       "['Once', 'upon', 'a', 'time', 'in', 'a', 'far', 'galaxy']"
      ]
     },
     "execution_count": 8,
     "metadata": {},
     "output_type": "execute_result"
    }
   ],
   "source": [
    " text.split()"
   ]
  },
  {
   "cell_type": "code",
   "execution_count": 9,
   "id": "51ca8656",
   "metadata": {},
   "outputs": [],
   "source": [
    "record =\"1,'Einstein, Albert', 1905, 1955\""
   ]
  },
  {
   "cell_type": "code",
   "execution_count": 10,
   "id": "470d3e43",
   "metadata": {},
   "outputs": [
    {
     "data": {
      "text/plain": [
       "[\"1,'Einstein,\", \"Albert',\", '1905,', '1955']"
      ]
     },
     "execution_count": 10,
     "metadata": {},
     "output_type": "execute_result"
    }
   ],
   "source": [
    "record.split()"
   ]
  },
  {
   "cell_type": "code",
   "execution_count": 11,
   "id": "e614f3fd",
   "metadata": {
    "scrolled": true
   },
   "outputs": [
    {
     "data": {
      "text/plain": [
       "['1', \"'Einstein\", \" Albert'\", ' 1905', ' 1955']"
      ]
     },
     "execution_count": 11,
     "metadata": {},
     "output_type": "execute_result"
    }
   ],
   "source": [
    "record.split(',')"
   ]
  },
  {
   "cell_type": "markdown",
   "id": "a50672db",
   "metadata": {},
   "source": [
    "### Pickled files"
   ]
  },
  {
   "cell_type": "code",
   "execution_count": 12,
   "id": "32c9a8d4",
   "metadata": {},
   "outputs": [],
   "source": [
    " mylist = [ 2, 'Apples', 5, 'Oranges']"
   ]
  },
  {
   "cell_type": "code",
   "execution_count": 13,
   "id": "5842c921",
   "metadata": {},
   "outputs": [
    {
     "data": {
      "text/plain": [
       "[2, 'Apples', 5, 'Oranges']"
      ]
     },
     "execution_count": 13,
     "metadata": {},
     "output_type": "execute_result"
    }
   ],
   "source": [
    "mylist"
   ]
  },
  {
   "cell_type": "code",
   "execution_count": 14,
   "id": "ea7edfb6",
   "metadata": {},
   "outputs": [],
   "source": [
    "fh = open('testfile.txt', 'wb')"
   ]
  },
  {
   "cell_type": "code",
   "execution_count": 15,
   "id": "60b8ce85",
   "metadata": {},
   "outputs": [],
   "source": [
    "import pickle"
   ]
  },
  {
   "cell_type": "code",
   "execution_count": 16,
   "id": "6dc0fef3",
   "metadata": {},
   "outputs": [],
   "source": [
    "pickle.dump(mylist, fh)"
   ]
  },
  {
   "cell_type": "code",
   "execution_count": 17,
   "id": "6bdc1b4d",
   "metadata": {},
   "outputs": [],
   "source": [
    "fh.close()"
   ]
  },
  {
   "cell_type": "code",
   "execution_count": 18,
   "id": "ebbddf5f",
   "metadata": {},
   "outputs": [],
   "source": [
    " fhh = open('testfile.txt', 'rb')"
   ]
  },
  {
   "cell_type": "code",
   "execution_count": 19,
   "id": "8a1ad36b",
   "metadata": {},
   "outputs": [],
   "source": [
    " theirlist = pickle.load(fhh)"
   ]
  },
  {
   "cell_type": "code",
   "execution_count": 20,
   "id": "0f445922",
   "metadata": {},
   "outputs": [
    {
     "data": {
      "text/plain": [
       "[2, 'Apples', 5, 'Oranges']"
      ]
     },
     "execution_count": 20,
     "metadata": {},
     "output_type": "execute_result"
    }
   ],
   "source": [
    " theirlist"
   ]
  },
  {
   "cell_type": "code",
   "execution_count": 21,
   "id": "00939722",
   "metadata": {},
   "outputs": [
    {
     "data": {
      "text/plain": [
       "True"
      ]
     },
     "execution_count": 21,
     "metadata": {},
     "output_type": "execute_result"
    }
   ],
   "source": [
    "theirlist==mylist"
   ]
  },
  {
   "cell_type": "code",
   "execution_count": 22,
   "id": "3a4f77f0",
   "metadata": {},
   "outputs": [],
   "source": [
    "mydict = {'Alice': 22, 'Bob' : 27}"
   ]
  },
  {
   "cell_type": "code",
   "execution_count": 23,
   "id": "917f8955",
   "metadata": {},
   "outputs": [
    {
     "data": {
      "text/plain": [
       "{'Alice': 22, 'Bob': 27}"
      ]
     },
     "execution_count": 23,
     "metadata": {},
     "output_type": "execute_result"
    }
   ],
   "source": [
    "mydict"
   ]
  },
  {
   "cell_type": "code",
   "execution_count": 24,
   "id": "a5dae04e",
   "metadata": {},
   "outputs": [],
   "source": [
    " fh = open('asciifile.txt', 'wb')"
   ]
  },
  {
   "cell_type": "code",
   "execution_count": 25,
   "id": "b6626b40",
   "metadata": {},
   "outputs": [],
   "source": [
    "pickle.dump(mydict, fh, protocol = 0)"
   ]
  },
  {
   "cell_type": "code",
   "execution_count": 26,
   "id": "e5dc2523",
   "metadata": {},
   "outputs": [],
   "source": [
    " fh.close()"
   ]
  },
  {
   "cell_type": "code",
   "execution_count": 27,
   "id": "b9eff289",
   "metadata": {},
   "outputs": [],
   "source": [
    "fhh = open('asciifile.txt', 'rb')"
   ]
  },
  {
   "cell_type": "code",
   "execution_count": 28,
   "id": "eec15020",
   "metadata": {},
   "outputs": [],
   "source": [
    " theirdict = pickle.load(fhh)"
   ]
  },
  {
   "cell_type": "code",
   "execution_count": 29,
   "id": "6dbc2cf7",
   "metadata": {
    "scrolled": true
   },
   "outputs": [
    {
     "data": {
      "text/plain": [
       "True"
      ]
     },
     "execution_count": 29,
     "metadata": {},
     "output_type": "execute_result"
    }
   ],
   "source": [
    "theirdict == mydict"
   ]
  },
  {
   "cell_type": "markdown",
   "id": "7542b562",
   "metadata": {},
   "source": [
    "# Functions"
   ]
  },
  {
   "cell_type": "code",
   "execution_count": null,
   "id": "90b84b37",
   "metadata": {},
   "outputs": [],
   "source": [
    "def find_max(data):\n",
    "    max = data.pop()\n",
    "    for x in data:\n",
    "        if x > max:\n",
    "            max = x\n",
    "    return max"
   ]
  }
 ],
 "metadata": {
  "kernelspec": {
   "display_name": "Python 3 (ipykernel)",
   "language": "python",
   "name": "python3"
  },
  "language_info": {
   "codemirror_mode": {
    "name": "ipython",
    "version": 3
   },
   "file_extension": ".py",
   "mimetype": "text/x-python",
   "name": "python",
   "nbconvert_exporter": "python",
   "pygments_lexer": "ipython3",
   "version": "3.8.12"
  }
 },
 "nbformat": 4,
 "nbformat_minor": 5
}
