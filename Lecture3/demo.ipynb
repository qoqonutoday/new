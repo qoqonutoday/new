{
 "cells": [
  {
   "cell_type": "code",
   "execution_count": 1,
   "id": "e39130ed",
   "metadata": {},
   "outputs": [],
   "source": [
    "mylist = [ 2, 'Apples', 5, 'Oranges']"
   ]
  },
  {
   "cell_type": "code",
   "execution_count": 2,
   "id": "a80ba2ce",
   "metadata": {},
   "outputs": [
    {
     "data": {
      "text/plain": [
       "[2, 'Apples', 5, 'Oranges']"
      ]
     },
     "execution_count": 2,
     "metadata": {},
     "output_type": "execute_result"
    }
   ],
   "source": [
    "mylist"
   ]
  },
  {
   "cell_type": "code",
   "execution_count": 3,
   "id": "eeeb4180",
   "metadata": {},
   "outputs": [],
   "source": [
    "fh=open('testfile.txt','wb')"
   ]
  },
  {
   "cell_type": "code",
   "execution_count": 4,
   "id": "3ea4f73a",
   "metadata": {},
   "outputs": [],
   "source": [
    "import pickle"
   ]
  },
  {
   "cell_type": "code",
   "execution_count": 5,
   "id": "1df20b99",
   "metadata": {},
   "outputs": [],
   "source": [
    "pickle.dump(mylist, fh, protocol=0)"
   ]
  },
  {
   "cell_type": "code",
   "execution_count": 6,
   "id": "c68a2072",
   "metadata": {},
   "outputs": [],
   "source": [
    "fh.close()"
   ]
  },
  {
   "cell_type": "code",
   "execution_count": 7,
   "id": "bd9bc465",
   "metadata": {},
   "outputs": [],
   "source": [
    "fhh = open('testfile.txt','rb')"
   ]
  },
  {
   "cell_type": "code",
   "execution_count": 8,
   "id": "1d03d7c2",
   "metadata": {},
   "outputs": [],
   "source": [
    "theirlist=pickle.load(fhh)"
   ]
  },
  {
   "cell_type": "code",
   "execution_count": 9,
   "id": "90f90a9d",
   "metadata": {},
   "outputs": [
    {
     "data": {
      "text/plain": [
       "[2, 'Apples', 5, 'Oranges']"
      ]
     },
     "execution_count": 9,
     "metadata": {},
     "output_type": "execute_result"
    }
   ],
   "source": [
    "theirlist"
   ]
  },
  {
   "cell_type": "code",
   "execution_count": 10,
   "id": "ce031947",
   "metadata": {},
   "outputs": [
    {
     "data": {
      "text/plain": [
       "True"
      ]
     },
     "execution_count": 10,
     "metadata": {},
     "output_type": "execute_result"
    }
   ],
   "source": [
    "theirlist==mylist"
   ]
  },
  {
   "cell_type": "code",
   "execution_count": 11,
   "id": "eefb8a05",
   "metadata": {},
   "outputs": [],
   "source": [
    "import os"
   ]
  },
  {
   "cell_type": "code",
   "execution_count": 12,
   "id": "cbd9ce73",
   "metadata": {},
   "outputs": [],
   "source": [
    "folder = \"./\""
   ]
  },
  {
   "cell_type": "code",
   "execution_count": 14,
   "id": "9965d734",
   "metadata": {},
   "outputs": [],
   "source": [
    "files_list = os.listdir(folder)"
   ]
  },
  {
   "cell_type": "code",
   "execution_count": 15,
   "id": "99ec2883",
   "metadata": {},
   "outputs": [
    {
     "name": "stdout",
     "output_type": "stream",
     "text": [
      "annotation.txt\n",
      "asciifile.txt\n",
      "data.txt\n",
      "fly3utr.txt\n",
      "raw_data.txt\n",
      "sample.txt\n",
      "sequence.txt\n",
      "testfile.txt\n",
      "test.txt\n",
      "grades.txt\n",
      "fly3utr_names.txt\n"
     ]
    }
   ],
   "source": [
    "for file in files_list:\n",
    "    if file.endswith('.txt'):\n",
    "        print(file)"
   ]
  }
 ],
 "metadata": {
  "kernelspec": {
   "display_name": "Python 3 (ipykernel)",
   "language": "python",
   "name": "python3"
  },
  "language_info": {
   "codemirror_mode": {
    "name": "ipython",
    "version": 3
   },
   "file_extension": ".py",
   "mimetype": "text/x-python",
   "name": "python",
   "nbconvert_exporter": "python",
   "pygments_lexer": "ipython3",
   "version": "3.8.12"
  }
 },
 "nbformat": 4,
 "nbformat_minor": 5
}
