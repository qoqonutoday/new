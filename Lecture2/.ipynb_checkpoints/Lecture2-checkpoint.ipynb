{
 "cells": [
  {
   "cell_type": "markdown",
   "id": "6c73403f",
   "metadata": {},
   "source": [
    "# Lecture 2\n",
    "## Sequences\n",
    "### Lists"
   ]
  },
  {
   "cell_type": "code",
   "execution_count": 1,
   "id": "25636a5b",
   "metadata": {},
   "outputs": [],
   "source": [
    "mylist = [11, 12, 13, 14, 'done']"
   ]
  },
  {
   "cell_type": "code",
   "execution_count": 2,
   "id": "8d561d40",
   "metadata": {},
   "outputs": [
    {
     "data": {
      "text/plain": [
       "[11, 12, 13, 14, 'done']"
      ]
     },
     "execution_count": 2,
     "metadata": {},
     "output_type": "execute_result"
    }
   ],
   "source": [
    "mylist"
   ]
  },
  {
   "cell_type": "code",
   "execution_count": 3,
   "id": "f4ee9649",
   "metadata": {},
   "outputs": [
    {
     "name": "stdout",
     "output_type": "stream",
     "text": [
      "[11, 12, 13, 14, 'done']\n"
     ]
    }
   ],
   "source": [
    "print(mylist)"
   ]
  },
  {
   "cell_type": "code",
   "execution_count": 4,
   "id": "84628fb9",
   "metadata": {},
   "outputs": [
    {
     "data": {
      "text/plain": [
       "14"
      ]
     },
     "execution_count": 4,
     "metadata": {},
     "output_type": "execute_result"
    }
   ],
   "source": [
    "mylist[3]"
   ]
  },
  {
   "cell_type": "code",
   "execution_count": 5,
   "id": "3521aa0d",
   "metadata": {},
   "outputs": [
    {
     "data": {
      "text/plain": [
       "int"
      ]
     },
     "execution_count": 5,
     "metadata": {},
     "output_type": "execute_result"
    }
   ],
   "source": [
    "type(mylist[3])"
   ]
  },
  {
   "cell_type": "code",
   "execution_count": 6,
   "id": "98792108",
   "metadata": {},
   "outputs": [
    {
     "data": {
      "text/plain": [
       "11"
      ]
     },
     "execution_count": 6,
     "metadata": {},
     "output_type": "execute_result"
    }
   ],
   "source": [
    "mylist[0]"
   ]
  },
  {
   "cell_type": "code",
   "execution_count": 7,
   "id": "23eda94b",
   "metadata": {},
   "outputs": [
    {
     "data": {
      "text/plain": [
       "[11]"
      ]
     },
     "execution_count": 7,
     "metadata": {},
     "output_type": "execute_result"
    }
   ],
   "source": [
    "mylist[0:1]"
   ]
  },
  {
   "cell_type": "code",
   "execution_count": 8,
   "id": "f91727e6",
   "metadata": {},
   "outputs": [
    {
     "data": {
      "text/plain": [
       "list"
      ]
     },
     "execution_count": 8,
     "metadata": {},
     "output_type": "execute_result"
    }
   ],
   "source": [
    "type(mylist[0:1])"
   ]
  },
  {
   "cell_type": "code",
   "execution_count": 9,
   "id": "8ba83c4d",
   "metadata": {
    "scrolled": true
   },
   "outputs": [
    {
     "data": {
      "text/plain": [
       "[11, 12, 13, 14, 'done']"
      ]
     },
     "execution_count": 9,
     "metadata": {},
     "output_type": "execute_result"
    }
   ],
   "source": [
    "mylist"
   ]
  },
  {
   "cell_type": "code",
   "execution_count": 10,
   "id": "442e4f13",
   "metadata": {},
   "outputs": [
    {
     "data": {
      "text/plain": [
       "[11, 12, 13]"
      ]
     },
     "execution_count": 10,
     "metadata": {},
     "output_type": "execute_result"
    }
   ],
   "source": [
    "mylist[0:3]"
   ]
  },
  {
   "cell_type": "code",
   "execution_count": 11,
   "id": "c3289772",
   "metadata": {},
   "outputs": [
    {
     "data": {
      "text/plain": [
       "[11, 12, 13, 14, 'done']"
      ]
     },
     "execution_count": 11,
     "metadata": {},
     "output_type": "execute_result"
    }
   ],
   "source": [
    "mylist[0:]"
   ]
  },
  {
   "cell_type": "code",
   "execution_count": 12,
   "id": "112508fe",
   "metadata": {},
   "outputs": [
    {
     "data": {
      "text/plain": [
       "[11, 12, 13, 14, 'done']"
      ]
     },
     "execution_count": 12,
     "metadata": {},
     "output_type": "execute_result"
    }
   ],
   "source": [
    "mylist[:]"
   ]
  },
  {
   "cell_type": "code",
   "execution_count": 13,
   "id": "7522917c",
   "metadata": {},
   "outputs": [
    {
     "data": {
      "text/plain": [
       "'done'"
      ]
     },
     "execution_count": 13,
     "metadata": {},
     "output_type": "execute_result"
    }
   ],
   "source": [
    "mylist[-1]"
   ]
  },
  {
   "cell_type": "code",
   "execution_count": 14,
   "id": "229a50f9",
   "metadata": {},
   "outputs": [
    {
     "data": {
      "text/plain": [
       "['done']"
      ]
     },
     "execution_count": 14,
     "metadata": {},
     "output_type": "execute_result"
    }
   ],
   "source": [
    "mylist[-1:]"
   ]
  },
  {
   "cell_type": "markdown",
   "id": "956fdda5",
   "metadata": {},
   "source": [
    "### List of lists"
   ]
  },
  {
   "cell_type": "code",
   "execution_count": 15,
   "id": "b4422d41",
   "metadata": {},
   "outputs": [],
   "source": [
    " a = [[1, 2], [3, 1]]"
   ]
  },
  {
   "cell_type": "code",
   "execution_count": 16,
   "id": "363cfccd",
   "metadata": {},
   "outputs": [
    {
     "data": {
      "text/plain": [
       "[[1, 2], [3, 1]]"
      ]
     },
     "execution_count": 16,
     "metadata": {},
     "output_type": "execute_result"
    }
   ],
   "source": [
    "a"
   ]
  },
  {
   "cell_type": "code",
   "execution_count": 17,
   "id": "e6eae58e",
   "metadata": {},
   "outputs": [
    {
     "data": {
      "text/plain": [
       "[1, 2]"
      ]
     },
     "execution_count": 17,
     "metadata": {},
     "output_type": "execute_result"
    }
   ],
   "source": [
    "a[0]"
   ]
  },
  {
   "cell_type": "code",
   "execution_count": 18,
   "id": "4f36c20c",
   "metadata": {},
   "outputs": [
    {
     "data": {
      "text/plain": [
       "2"
      ]
     },
     "execution_count": 18,
     "metadata": {},
     "output_type": "execute_result"
    }
   ],
   "source": [
    "a[0][1]"
   ]
  },
  {
   "cell_type": "markdown",
   "id": "08585008",
   "metadata": {},
   "source": [
    "### Sorting lists"
   ]
  },
  {
   "cell_type": "code",
   "execution_count": 19,
   "id": "edda6251",
   "metadata": {},
   "outputs": [
    {
     "data": {
      "text/plain": [
       "[11, 12, 13, 14, 'done']"
      ]
     },
     "execution_count": 19,
     "metadata": {},
     "output_type": "execute_result"
    }
   ],
   "source": [
    "mylist"
   ]
  },
  {
   "cell_type": "markdown",
   "id": "9aafcb97",
   "metadata": {},
   "source": [
    "#### This will not work!"
   ]
  },
  {
   "cell_type": "code",
   "execution_count": 20,
   "id": "ec369a2e",
   "metadata": {
    "scrolled": false
   },
   "outputs": [
    {
     "ename": "TypeError",
     "evalue": "'<' not supported between instances of 'str' and 'int'",
     "output_type": "error",
     "traceback": [
      "\u001b[0;31m---------------------------------------------------------------------------\u001b[0m",
      "\u001b[0;31mTypeError\u001b[0m                                 Traceback (most recent call last)",
      "Cell \u001b[0;32mIn[20], line 1\u001b[0m\n\u001b[0;32m----> 1\u001b[0m \u001b[43mmylist\u001b[49m\u001b[38;5;241;43m.\u001b[39;49m\u001b[43msort\u001b[49m\u001b[43m(\u001b[49m\u001b[43m)\u001b[49m\n",
      "\u001b[0;31mTypeError\u001b[0m: '<' not supported between instances of 'str' and 'int'"
     ]
    }
   ],
   "source": [
    "mylist.sort()"
   ]
  },
  {
   "cell_type": "code",
   "execution_count": null,
   "id": "ef46709d",
   "metadata": {},
   "outputs": [],
   "source": [
    "newlist=[1,2344,9,-10]"
   ]
  },
  {
   "cell_type": "markdown",
   "id": "22ca4899",
   "metadata": {},
   "source": [
    "### Sorting lists of strings\n",
    "#### In-place sort"
   ]
  },
  {
   "cell_type": "code",
   "execution_count": null,
   "id": "5f84b5de",
   "metadata": {},
   "outputs": [],
   "source": [
    " namelist = ['Alpha', 'Gamma', 'Beta']"
   ]
  },
  {
   "cell_type": "code",
   "execution_count": null,
   "id": "8278c5c5",
   "metadata": {},
   "outputs": [],
   "source": [
    "namelist.sort()"
   ]
  },
  {
   "cell_type": "code",
   "execution_count": null,
   "id": "d46c899a",
   "metadata": {},
   "outputs": [],
   "source": [
    "namelist"
   ]
  },
  {
   "cell_type": "markdown",
   "id": "fffe9cab",
   "metadata": {},
   "source": [
    "### Sorting into a new list"
   ]
  },
  {
   "cell_type": "code",
   "execution_count": null,
   "id": "a44cfeb8",
   "metadata": {},
   "outputs": [],
   "source": [
    "newlist = [0, -1, +1, -2, +2]"
   ]
  },
  {
   "cell_type": "code",
   "execution_count": null,
   "id": "17d08aad",
   "metadata": {},
   "outputs": [],
   "source": [
    "sortedlist = sorted(newlist)"
   ]
  },
  {
   "cell_type": "code",
   "execution_count": null,
   "id": "2a9c7cf0",
   "metadata": {},
   "outputs": [],
   "source": [
    "newlist"
   ]
  },
  {
   "cell_type": "code",
   "execution_count": null,
   "id": "14d710fb",
   "metadata": {
    "scrolled": true
   },
   "outputs": [],
   "source": [
    "sortedlist"
   ]
  },
  {
   "cell_type": "markdown",
   "id": "a9b5dfbe",
   "metadata": {},
   "source": [
    "### Modifying the elements of a list"
   ]
  },
  {
   "cell_type": "code",
   "execution_count": null,
   "id": "16b418ea",
   "metadata": {
    "scrolled": true
   },
   "outputs": [],
   "source": [
    "mylist"
   ]
  },
  {
   "cell_type": "code",
   "execution_count": null,
   "id": "6d4f4d85",
   "metadata": {},
   "outputs": [],
   "source": [
    "mylist[-1] = 'finished'"
   ]
  },
  {
   "cell_type": "code",
   "execution_count": null,
   "id": "8373e9cd",
   "metadata": {},
   "outputs": [],
   "source": [
    "mylist"
   ]
  },
  {
   "cell_type": "code",
   "execution_count": null,
   "id": "b8826f8c",
   "metadata": {},
   "outputs": [],
   "source": [
    "mylist[0:4] = ['a','b','c','d']"
   ]
  },
  {
   "cell_type": "code",
   "execution_count": null,
   "id": "d5dd4124",
   "metadata": {},
   "outputs": [],
   "source": [
    "mylist"
   ]
  },
  {
   "cell_type": "markdown",
   "id": "f076a488",
   "metadata": {},
   "source": [
    "### Lists of lists (I)"
   ]
  },
  {
   "cell_type": "code",
   "execution_count": null,
   "id": "05f67f52",
   "metadata": {},
   "outputs": [],
   "source": [
    " listoflists = [[17.5, \"1306\"], [13, \"6360\"]]"
   ]
  },
  {
   "cell_type": "code",
   "execution_count": null,
   "id": "45e37dcf",
   "metadata": {},
   "outputs": [],
   "source": [
    "listoflists.sort()"
   ]
  },
  {
   "cell_type": "code",
   "execution_count": null,
   "id": "c8bbd6e9",
   "metadata": {},
   "outputs": [],
   "source": [
    "listoflists"
   ]
  },
  {
   "cell_type": "code",
   "execution_count": null,
   "id": "a641e3f1",
   "metadata": {
    "scrolled": true
   },
   "outputs": [],
   "source": [
    "listoflists[0]"
   ]
  },
  {
   "cell_type": "code",
   "execution_count": null,
   "id": "3030b048",
   "metadata": {},
   "outputs": [],
   "source": [
    "listoflists[1]"
   ]
  },
  {
   "cell_type": "code",
   "execution_count": null,
   "id": "5a4ea1bc",
   "metadata": {
    "scrolled": false
   },
   "outputs": [],
   "source": [
    "listoflists[0][0]"
   ]
  },
  {
   "cell_type": "code",
   "execution_count": null,
   "id": "220f9a7a",
   "metadata": {
    "scrolled": true
   },
   "outputs": [],
   "source": [
    "listoflists[0][1]"
   ]
  },
  {
   "cell_type": "code",
   "execution_count": null,
   "id": "8253b5b8",
   "metadata": {},
   "outputs": [],
   "source": [
    "listoflists[0][1] = 'Something else!'"
   ]
  },
  {
   "cell_type": "code",
   "execution_count": null,
   "id": "e7346d0d",
   "metadata": {},
   "outputs": [],
   "source": [
    "listoflists"
   ]
  },
  {
   "cell_type": "markdown",
   "id": "575c2a02",
   "metadata": {},
   "source": [
    "### Adding elements to a list"
   ]
  },
  {
   "cell_type": "code",
   "execution_count": null,
   "id": "e5ccb6df",
   "metadata": {},
   "outputs": [],
   "source": [
    "mylist"
   ]
  },
  {
   "cell_type": "code",
   "execution_count": null,
   "id": "be40f418",
   "metadata": {},
   "outputs": [],
   "source": [
    "mylist.append('Add me please!')"
   ]
  },
  {
   "cell_type": "code",
   "execution_count": null,
   "id": "91ec230b",
   "metadata": {},
   "outputs": [],
   "source": [
    "mylist"
   ]
  },
  {
   "cell_type": "code",
   "execution_count": null,
   "id": "78f1a28c",
   "metadata": {},
   "outputs": [],
   "source": [
    "listoflists"
   ]
  },
  {
   "cell_type": "code",
   "execution_count": null,
   "id": "854a4976",
   "metadata": {},
   "outputs": [],
   "source": [
    "listoflists.append([99,'HAHA!'])"
   ]
  },
  {
   "cell_type": "code",
   "execution_count": null,
   "id": "f4c4549e",
   "metadata": {
    "scrolled": true
   },
   "outputs": [],
   "source": [
    "listoflists"
   ]
  },
  {
   "cell_type": "markdown",
   "id": "910bdd9a",
   "metadata": {},
   "source": [
    "### Adding elements inside a list"
   ]
  },
  {
   "cell_type": "code",
   "execution_count": null,
   "id": "b4a346c7",
   "metadata": {
    "scrolled": true
   },
   "outputs": [],
   "source": [
    "mylist"
   ]
  },
  {
   "cell_type": "code",
   "execution_count": null,
   "id": "2a9a1020",
   "metadata": {},
   "outputs": [],
   "source": [
    "mylist.insert(0,10)"
   ]
  },
  {
   "cell_type": "code",
   "execution_count": null,
   "id": "2ca04067",
   "metadata": {},
   "outputs": [],
   "source": [
    "mylist"
   ]
  },
  {
   "cell_type": "code",
   "execution_count": null,
   "id": "cd0c0fa3",
   "metadata": {},
   "outputs": [],
   "source": [
    "mylist.insert(5,15)"
   ]
  },
  {
   "cell_type": "code",
   "execution_count": null,
   "id": "f50d6d6e",
   "metadata": {},
   "outputs": [],
   "source": [
    "mylist"
   ]
  },
  {
   "cell_type": "markdown",
   "id": "540566de",
   "metadata": {},
   "source": [
    "### Removing items"
   ]
  },
  {
   "cell_type": "code",
   "execution_count": null,
   "id": "8ed218cd",
   "metadata": {
    "scrolled": true
   },
   "outputs": [],
   "source": [
    "mylist"
   ]
  },
  {
   "cell_type": "code",
   "execution_count": null,
   "id": "6f63e75e",
   "metadata": {},
   "outputs": [],
   "source": [
    "mylist.pop()"
   ]
  },
  {
   "cell_type": "code",
   "execution_count": null,
   "id": "2e392912",
   "metadata": {},
   "outputs": [],
   "source": [
    "mylist"
   ]
  },
  {
   "cell_type": "code",
   "execution_count": null,
   "id": "415cf8cd",
   "metadata": {},
   "outputs": [],
   "source": [
    "mylist.pop(0)"
   ]
  },
  {
   "cell_type": "code",
   "execution_count": null,
   "id": "f72649d1",
   "metadata": {
    "scrolled": true
   },
   "outputs": [],
   "source": [
    "mylist"
   ]
  },
  {
   "cell_type": "markdown",
   "id": "41776cbf",
   "metadata": {},
   "source": [
    "### Sum"
   ]
  },
  {
   "cell_type": "code",
   "execution_count": null,
   "id": "3319dedf",
   "metadata": {},
   "outputs": [],
   "source": [
    "list = [10, 20, 30]"
   ]
  },
  {
   "cell_type": "code",
   "execution_count": null,
   "id": "28c4b7c0",
   "metadata": {},
   "outputs": [],
   "source": [
    "sum(list)"
   ]
  },
  {
   "cell_type": "markdown",
   "id": "cf68c297",
   "metadata": {},
   "source": [
    "### Initializing lists"
   ]
  },
  {
   "cell_type": "markdown",
   "id": "b7ffc188",
   "metadata": {},
   "source": [
    "<I> list comprehensions </I>"
   ]
  },
  {
   "cell_type": "code",
   "execution_count": null,
   "id": "8288ba1a",
   "metadata": {},
   "outputs": [],
   "source": [
    "[ 0 for n in range(0, 9)]"
   ]
  },
  {
   "cell_type": "code",
   "execution_count": null,
   "id": "098c297c",
   "metadata": {},
   "outputs": [],
   "source": [
    "[ n for n in range(0, 9)]"
   ]
  },
  {
   "cell_type": "code",
   "execution_count": null,
   "id": "60a2f26a",
   "metadata": {
    "scrolled": true
   },
   "outputs": [],
   "source": [
    "[ n*n for n in range(0, 9)]"
   ]
  },
  {
   "cell_type": "code",
   "execution_count": null,
   "id": "a2fc6a06",
   "metadata": {},
   "outputs": [],
   "source": [
    "[ 0 in range(0, 9)]"
   ]
  },
  {
   "cell_type": "code",
   "execution_count": null,
   "id": "c732de9f",
   "metadata": {
    "scrolled": true
   },
   "outputs": [],
   "source": [
    "[ char for char in 'This is something!']"
   ]
  },
  {
   "cell_type": "code",
   "execution_count": null,
   "id": "3ba5ee51",
   "metadata": {},
   "outputs": [],
   "source": [
    "names = ['pol','virginie','maximilian']"
   ]
  },
  {
   "cell_type": "code",
   "execution_count": null,
   "id": "3f38f1fe",
   "metadata": {
    "scrolled": true
   },
   "outputs": [],
   "source": [
    "[n.capitalize() for n in names]"
   ]
  },
  {
   "cell_type": "markdown",
   "id": "5a9530d2",
   "metadata": {},
   "source": [
    "### Saves a lot of typing!"
   ]
  },
  {
   "cell_type": "code",
   "execution_count": null,
   "id": "2ae9c61e",
   "metadata": {},
   "outputs": [],
   "source": [
    "[2*n+1 for n in range(0,6)]"
   ]
  },
  {
   "cell_type": "code",
   "execution_count": null,
   "id": "789d95ab",
   "metadata": {},
   "outputs": [],
   "source": [
    "a=[]\n",
    "for n in range(0,6):\n",
    "    a.append(2*n+1)"
   ]
  },
  {
   "cell_type": "code",
   "execution_count": null,
   "id": "3bd41611",
   "metadata": {},
   "outputs": [],
   "source": [
    "a"
   ]
  },
  {
   "cell_type": "markdown",
   "id": "2233e849",
   "metadata": {},
   "source": [
    "### Filtered comprehensions"
   ]
  },
  {
   "cell_type": "code",
   "execution_count": null,
   "id": "f311dcb6",
   "metadata": {},
   "outputs": [],
   "source": [
    "a = [11, 22, 33, 44, 55]"
   ]
  },
  {
   "cell_type": "code",
   "execution_count": null,
   "id": "7c1f6383",
   "metadata": {},
   "outputs": [],
   "source": [
    "b = [n for n in a if n%2 == 0]"
   ]
  },
  {
   "cell_type": "code",
   "execution_count": null,
   "id": "cf387087",
   "metadata": {},
   "outputs": [],
   "source": [
    "b"
   ]
  },
  {
   "cell_type": "code",
   "execution_count": null,
   "id": "016540d3",
   "metadata": {},
   "outputs": [],
   "source": [
    " c = [n//11 for n in a if n > 20]"
   ]
  },
  {
   "cell_type": "code",
   "execution_count": null,
   "id": "d8b3a758",
   "metadata": {
    "scrolled": true
   },
   "outputs": [],
   "source": [
    "c"
   ]
  },
  {
   "cell_type": "markdown",
   "id": "ce67ff37",
   "metadata": {},
   "source": [
    "### Copying / saving a list"
   ]
  },
  {
   "cell_type": "code",
   "execution_count": null,
   "id": "df930b2b",
   "metadata": {},
   "outputs": [],
   "source": [
    "a = [\"Alice\", \"Bob\", \"Carol\"]"
   ]
  },
  {
   "cell_type": "code",
   "execution_count": null,
   "id": "fecb9b32",
   "metadata": {},
   "outputs": [],
   "source": [
    "saved = a"
   ]
  },
  {
   "cell_type": "code",
   "execution_count": null,
   "id": "5a53dc54",
   "metadata": {
    "scrolled": true
   },
   "outputs": [],
   "source": [
    "a.pop(0)"
   ]
  },
  {
   "cell_type": "code",
   "execution_count": null,
   "id": "741c9b2b",
   "metadata": {},
   "outputs": [],
   "source": [
    "a"
   ]
  },
  {
   "cell_type": "code",
   "execution_count": null,
   "id": "9fd37f8b",
   "metadata": {},
   "outputs": [],
   "source": [
    "saved"
   ]
  },
  {
   "cell_type": "markdown",
   "id": "6317e8e4",
   "metadata": {},
   "source": [
    "### The Big Surprise!!!"
   ]
  },
  {
   "cell_type": "code",
   "execution_count": null,
   "id": "b085853e",
   "metadata": {},
   "outputs": [],
   "source": [
    "a=[11,33,22]"
   ]
  },
  {
   "cell_type": "code",
   "execution_count": null,
   "id": "58a97fe4",
   "metadata": {},
   "outputs": [],
   "source": [
    "b=a"
   ]
  },
  {
   "cell_type": "code",
   "execution_count": null,
   "id": "f58dd47e",
   "metadata": {},
   "outputs": [],
   "source": [
    "b"
   ]
  },
  {
   "cell_type": "code",
   "execution_count": null,
   "id": "6ef2f78e",
   "metadata": {},
   "outputs": [],
   "source": [
    "a.sort()"
   ]
  },
  {
   "cell_type": "code",
   "execution_count": null,
   "id": "42f3290b",
   "metadata": {
    "scrolled": true
   },
   "outputs": [],
   "source": [
    "a"
   ]
  },
  {
   "cell_type": "code",
   "execution_count": null,
   "id": "d182512e",
   "metadata": {},
   "outputs": [],
   "source": [
    "b"
   ]
  },
  {
   "cell_type": "code",
   "execution_count": null,
   "id": "82ae1a98",
   "metadata": {},
   "outputs": [],
   "source": [
    "id(a)"
   ]
  },
  {
   "cell_type": "code",
   "execution_count": null,
   "id": "68ae1b1d",
   "metadata": {
    "scrolled": true
   },
   "outputs": [],
   "source": [
    "id(b)"
   ]
  },
  {
   "cell_type": "markdown",
   "id": "07ab4cbe",
   "metadata": {},
   "source": [
    "### Lists vs Strings"
   ]
  },
  {
   "cell_type": "code",
   "execution_count": null,
   "id": "7ed75279",
   "metadata": {},
   "outputs": [],
   "source": [
    "my_list = [34,26,15,10]"
   ]
  },
  {
   "cell_type": "code",
   "execution_count": null,
   "id": "df327c45",
   "metadata": {},
   "outputs": [],
   "source": [
    "my_list[0]=1999"
   ]
  },
  {
   "cell_type": "code",
   "execution_count": null,
   "id": "627ee44c",
   "metadata": {},
   "outputs": [],
   "source": [
    "my_list"
   ]
  },
  {
   "cell_type": "code",
   "execution_count": null,
   "id": "121bc1b3",
   "metadata": {},
   "outputs": [],
   "source": [
    "my_string = \"Sandwich\""
   ]
  },
  {
   "cell_type": "code",
   "execution_count": null,
   "id": "a96d20c2",
   "metadata": {},
   "outputs": [],
   "source": [
    "my_string[0]='s'"
   ]
  },
  {
   "cell_type": "markdown",
   "id": "4a6037f1",
   "metadata": {},
   "source": [
    "### List operations: remove elements"
   ]
  },
  {
   "cell_type": "code",
   "execution_count": null,
   "id": "661cd567",
   "metadata": {},
   "outputs": [],
   "source": [
    "my_list"
   ]
  },
  {
   "cell_type": "code",
   "execution_count": null,
   "id": "07635670",
   "metadata": {},
   "outputs": [],
   "source": [
    "del my_list[2]"
   ]
  },
  {
   "cell_type": "code",
   "execution_count": null,
   "id": "0ab5c806",
   "metadata": {},
   "outputs": [],
   "source": [
    "my_list"
   ]
  },
  {
   "cell_type": "code",
   "execution_count": null,
   "id": "2e617634",
   "metadata": {},
   "outputs": [],
   "source": [
    "del my_list[0:2]"
   ]
  },
  {
   "cell_type": "code",
   "execution_count": null,
   "id": "f6b2778c",
   "metadata": {},
   "outputs": [],
   "source": [
    "my_list"
   ]
  },
  {
   "cell_type": "markdown",
   "id": "34013a98",
   "metadata": {},
   "source": [
    "### Lists and strings"
   ]
  },
  {
   "cell_type": "code",
   "execution_count": null,
   "id": "9037357a",
   "metadata": {},
   "outputs": [],
   "source": [
    "sentence = 'This is a complete sentence.'"
   ]
  },
  {
   "cell_type": "code",
   "execution_count": null,
   "id": "e7526728",
   "metadata": {
    "scrolled": true
   },
   "outputs": [],
   "source": [
    "sentence.split()"
   ]
  },
  {
   "cell_type": "code",
   "execution_count": null,
   "id": "0a718757",
   "metadata": {},
   "outputs": [],
   "source": [
    "datarow = 'Apples,Bananas,Oranges'"
   ]
  },
  {
   "cell_type": "code",
   "execution_count": null,
   "id": "11ef8f3b",
   "metadata": {},
   "outputs": [],
   "source": [
    "':'.join(datarow.split(','))"
   ]
  },
  {
   "cell_type": "markdown",
   "id": "32b8c6fd",
   "metadata": {},
   "source": [
    "### Tuples"
   ]
  },
  {
   "cell_type": "code",
   "execution_count": null,
   "id": "c4738b75",
   "metadata": {},
   "outputs": [],
   "source": [
    "my_tuple = (34,26,15,10)"
   ]
  },
  {
   "cell_type": "code",
   "execution_count": null,
   "id": "353bdfd2",
   "metadata": {
    "scrolled": true
   },
   "outputs": [],
   "source": [
    "type(my_tuple)"
   ]
  },
  {
   "cell_type": "code",
   "execution_count": null,
   "id": "0f0b3400",
   "metadata": {},
   "outputs": [],
   "source": [
    "my_tuple[-1]"
   ]
  },
  {
   "cell_type": "code",
   "execution_count": null,
   "id": "ec6bae9a",
   "metadata": {},
   "outputs": [],
   "source": [
    "type(my_tuple[0:1])"
   ]
  },
  {
   "cell_type": "code",
   "execution_count": null,
   "id": "295b0ab7",
   "metadata": {},
   "outputs": [],
   "source": [
    "type((34,))"
   ]
  },
  {
   "cell_type": "code",
   "execution_count": null,
   "id": "c718073d",
   "metadata": {},
   "outputs": [],
   "source": [
    "saved = my_tuple"
   ]
  },
  {
   "cell_type": "code",
   "execution_count": null,
   "id": "3426053e",
   "metadata": {},
   "outputs": [],
   "source": [
    "my_tuple+=(99,)"
   ]
  },
  {
   "cell_type": "code",
   "execution_count": null,
   "id": "7054bb7d",
   "metadata": {},
   "outputs": [],
   "source": [
    "my_tuple"
   ]
  },
  {
   "cell_type": "code",
   "execution_count": null,
   "id": "bc476765",
   "metadata": {},
   "outputs": [],
   "source": [
    "saved"
   ]
  },
  {
   "cell_type": "markdown",
   "id": "7de0564e",
   "metadata": {},
   "source": [
    "### Sorting tuples"
   ]
  },
  {
   "cell_type": "code",
   "execution_count": null,
   "id": "5bf8a57a",
   "metadata": {},
   "outputs": [],
   "source": [
    "my_tuple"
   ]
  },
  {
   "cell_type": "code",
   "execution_count": null,
   "id": "737b8e6a",
   "metadata": {
    "scrolled": true
   },
   "outputs": [],
   "source": [
    "my_tuple.sort()"
   ]
  },
  {
   "cell_type": "code",
   "execution_count": null,
   "id": "0899cbc6",
   "metadata": {},
   "outputs": [],
   "source": [
    "my_tuple = sorted(my_tuple)"
   ]
  },
  {
   "cell_type": "code",
   "execution_count": null,
   "id": "a90d3176",
   "metadata": {},
   "outputs": [],
   "source": [
    "my_tuple"
   ]
  },
  {
   "cell_type": "code",
   "execution_count": null,
   "id": "3fd8ca55",
   "metadata": {},
   "outputs": [],
   "source": [
    "saved"
   ]
  },
  {
   "cell_type": "code",
   "execution_count": null,
   "id": "3d190464",
   "metadata": {
    "scrolled": true
   },
   "outputs": [],
   "source": [
    "len(saved)"
   ]
  },
  {
   "cell_type": "code",
   "execution_count": null,
   "id": "1dc582a8",
   "metadata": {},
   "outputs": [],
   "source": [
    "26 in my_tuple"
   ]
  },
  {
   "cell_type": "code",
   "execution_count": null,
   "id": "740d2342",
   "metadata": {},
   "outputs": [],
   "source": [
    "[n for n in my_tuple]"
   ]
  },
  {
   "cell_type": "code",
   "execution_count": null,
   "id": "e7a935bc",
   "metadata": {},
   "outputs": [],
   "source": [
    "saved.reverse()"
   ]
  },
  {
   "cell_type": "code",
   "execution_count": null,
   "id": "1f88fb49",
   "metadata": {
    "scrolled": true
   },
   "outputs": [],
   "source": [
    "my_tuple"
   ]
  },
  {
   "cell_type": "markdown",
   "id": "217424c3",
   "metadata": {},
   "source": [
    "### Converting sequence into tuples"
   ]
  },
  {
   "cell_type": "code",
   "execution_count": null,
   "id": "c486d8fb",
   "metadata": {},
   "outputs": [],
   "source": [
    "alist = [10, 15, 26, 34, 99]"
   ]
  },
  {
   "cell_type": "code",
   "execution_count": null,
   "id": "6f8e5a2d",
   "metadata": {},
   "outputs": [],
   "source": [
    "atuple = tuple(alist)"
   ]
  },
  {
   "cell_type": "code",
   "execution_count": null,
   "id": "81348571",
   "metadata": {},
   "outputs": [],
   "source": [
    "atuple"
   ]
  },
  {
   "cell_type": "code",
   "execution_count": null,
   "id": "ce366d22",
   "metadata": {},
   "outputs": [],
   "source": [
    "newtuple = tuple('Okidoo')"
   ]
  },
  {
   "cell_type": "code",
   "execution_count": null,
   "id": "cb13155b",
   "metadata": {
    "scrolled": true
   },
   "outputs": [],
   "source": [
    "newtuple"
   ]
  },
  {
   "cell_type": "markdown",
   "id": "a9568821",
   "metadata": {},
   "source": [
    "## Sets"
   ]
  },
  {
   "cell_type": "markdown",
   "id": "3de2cf8f",
   "metadata": {},
   "source": [
    "### sets do not contain duplicates"
   ]
  },
  {
   "cell_type": "code",
   "execution_count": null,
   "id": "4507fd37",
   "metadata": {},
   "outputs": [],
   "source": [
    "example_set = {11,11,11,33,33,66,66,66}"
   ]
  },
  {
   "cell_type": "code",
   "execution_count": null,
   "id": "4814ed7e",
   "metadata": {},
   "outputs": [],
   "source": [
    "example_set"
   ]
  },
  {
   "cell_type": "markdown",
   "id": "c45fc300",
   "metadata": {},
   "source": [
    "### sets are immutable"
   ]
  },
  {
   "cell_type": "code",
   "execution_count": null,
   "id": "33cdae71",
   "metadata": {},
   "outputs": [],
   "source": [
    "aset = {11, 33, 66}"
   ]
  },
  {
   "cell_type": "code",
   "execution_count": null,
   "id": "b90b0ad3",
   "metadata": {},
   "outputs": [],
   "source": [
    "bset = aset"
   ]
  },
  {
   "cell_type": "code",
   "execution_count": null,
   "id": "3472da4e",
   "metadata": {},
   "outputs": [],
   "source": [
    "id(aset)"
   ]
  },
  {
   "cell_type": "code",
   "execution_count": null,
   "id": "6f16a9c5",
   "metadata": {},
   "outputs": [],
   "source": [
    "id(bset)"
   ]
  },
  {
   "cell_type": "code",
   "execution_count": null,
   "id": "cac954ca",
   "metadata": {},
   "outputs": [],
   "source": [
    "aset = aset | {55}"
   ]
  },
  {
   "cell_type": "code",
   "execution_count": null,
   "id": "00c783e2",
   "metadata": {},
   "outputs": [],
   "source": [
    "aset"
   ]
  },
  {
   "cell_type": "markdown",
   "id": "dec667d2",
   "metadata": {},
   "source": [
    "### Set do not support indexing"
   ]
  },
  {
   "cell_type": "code",
   "execution_count": null,
   "id": "a84ef3f7",
   "metadata": {},
   "outputs": [],
   "source": [
    "myset = {'Apples', 'Bananas','Cucumbers'}"
   ]
  },
  {
   "cell_type": "code",
   "execution_count": null,
   "id": "328539ba",
   "metadata": {
    "scrolled": true
   },
   "outputs": [],
   "source": [
    "myset[0]"
   ]
  },
  {
   "cell_type": "markdown",
   "id": "e3ffc855",
   "metadata": {},
   "source": [
    "## Dictionaries"
   ]
  },
  {
   "cell_type": "code",
   "execution_count": null,
   "id": "b939325f",
   "metadata": {},
   "outputs": [],
   "source": [
    "age = {'Anna' : 25, 'Ben' :28}"
   ]
  },
  {
   "cell_type": "code",
   "execution_count": null,
   "id": "8f17c060",
   "metadata": {},
   "outputs": [],
   "source": [
    "saved = age"
   ]
  },
  {
   "cell_type": "code",
   "execution_count": null,
   "id": "565172fa",
   "metadata": {},
   "outputs": [],
   "source": [
    "age['Ben'] = 72"
   ]
  },
  {
   "cell_type": "code",
   "execution_count": null,
   "id": "f38ce89b",
   "metadata": {
    "scrolled": true
   },
   "outputs": [],
   "source": [
    "age"
   ]
  },
  {
   "cell_type": "code",
   "execution_count": null,
   "id": "08b294e3",
   "metadata": {
    "scrolled": true
   },
   "outputs": [],
   "source": [
    "saved"
   ]
  },
  {
   "cell_type": "markdown",
   "id": "9210e589",
   "metadata": {},
   "source": [
    "### Keys must be unique"
   ]
  },
  {
   "cell_type": "code",
   "execution_count": null,
   "id": "21c3456b",
   "metadata": {},
   "outputs": [],
   "source": [
    "age = {'Anna' : 25, 'Ben' :28, 'Anna' : 34}"
   ]
  },
  {
   "cell_type": "code",
   "execution_count": null,
   "id": "353f35d6",
   "metadata": {},
   "outputs": [],
   "source": [
    "age"
   ]
  },
  {
   "cell_type": "markdown",
   "id": "737e7188",
   "metadata": {},
   "source": [
    "### Displaying contents"
   ]
  },
  {
   "cell_type": "code",
   "execution_count": null,
   "id": "4dfc78fb",
   "metadata": {
    "scrolled": true
   },
   "outputs": [],
   "source": [
    "age.items()"
   ]
  },
  {
   "cell_type": "code",
   "execution_count": null,
   "id": "2a6a6e01",
   "metadata": {},
   "outputs": [],
   "source": [
    "age.keys()"
   ]
  },
  {
   "cell_type": "code",
   "execution_count": null,
   "id": "97eec87f",
   "metadata": {
    "scrolled": true
   },
   "outputs": [],
   "source": [
    "age.values()"
   ]
  },
  {
   "cell_type": "markdown",
   "id": "46f57610",
   "metadata": {},
   "source": [
    "### Update directories"
   ]
  },
  {
   "cell_type": "code",
   "execution_count": null,
   "id": "3fe60061",
   "metadata": {},
   "outputs": [],
   "source": [
    "age.update({'Ben':72})"
   ]
  },
  {
   "cell_type": "code",
   "execution_count": null,
   "id": "40238a87",
   "metadata": {},
   "outputs": [],
   "source": [
    "age"
   ]
  },
  {
   "cell_type": "markdown",
   "id": "996b9073",
   "metadata": {},
   "source": [
    "### Returning a value"
   ]
  },
  {
   "cell_type": "code",
   "execution_count": null,
   "id": "05c45763",
   "metadata": {},
   "outputs": [],
   "source": [
    "age.get('Anna')"
   ]
  },
  {
   "cell_type": "code",
   "execution_count": null,
   "id": "a863c691",
   "metadata": {},
   "outputs": [],
   "source": [
    "age['Ben']"
   ]
  },
  {
   "cell_type": "markdown",
   "id": "120c2096",
   "metadata": {},
   "source": [
    "###  Removing items"
   ]
  },
  {
   "cell_type": "code",
   "execution_count": null,
   "id": "af324113",
   "metadata": {},
   "outputs": [],
   "source": [
    "age"
   ]
  },
  {
   "cell_type": "code",
   "execution_count": null,
   "id": "574ce8f3",
   "metadata": {},
   "outputs": [],
   "source": [
    "age.pop('Anna')"
   ]
  },
  {
   "cell_type": "code",
   "execution_count": null,
   "id": "f7e2cf56",
   "metadata": {
    "scrolled": true
   },
   "outputs": [],
   "source": [
    "age"
   ]
  },
  {
   "cell_type": "markdown",
   "id": "424f6e40",
   "metadata": {},
   "source": [
    "### Remove a random item"
   ]
  },
  {
   "cell_type": "code",
   "execution_count": null,
   "id": "3059c571",
   "metadata": {},
   "outputs": [],
   "source": [
    " age = {'Anna' : 25, 'Ben' : 28, 'Charlie': 31}"
   ]
  },
  {
   "cell_type": "code",
   "execution_count": null,
   "id": "d895876a",
   "metadata": {},
   "outputs": [],
   "source": [
    "age.popitem()"
   ]
  },
  {
   "cell_type": "code",
   "execution_count": null,
   "id": "e277027e",
   "metadata": {},
   "outputs": [],
   "source": [
    "age.popitem()"
   ]
  },
  {
   "cell_type": "code",
   "execution_count": null,
   "id": "29beff88",
   "metadata": {},
   "outputs": [],
   "source": [
    "age"
   ]
  }
 ],
 "metadata": {
  "kernelspec": {
   "display_name": "Python 3 (ipykernel)",
   "language": "python",
   "name": "python3"
  },
  "language_info": {
   "codemirror_mode": {
    "name": "ipython",
    "version": 3
   },
   "file_extension": ".py",
   "mimetype": "text/x-python",
   "name": "python",
   "nbconvert_exporter": "python",
   "pygments_lexer": "ipython3",
   "version": "3.8.12"
  }
 },
 "nbformat": 4,
 "nbformat_minor": 5
}
