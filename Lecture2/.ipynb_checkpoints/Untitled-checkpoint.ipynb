{
 "cells": [
  {
   "cell_type": "markdown",
   "id": "f498cebd",
   "metadata": {},
   "source": [
    "# Lecture 2\n",
    "## Sequences\n",
    "### Lists"
   ]
  },
  {
   "cell_type": "code",
   "execution_count": 1,
   "id": "37f2a9f9",
   "metadata": {},
   "outputs": [],
   "source": [
    "mylist = [11, 12, 13, 14, 'done']"
   ]
  },
  {
   "cell_type": "code",
   "execution_count": 2,
   "id": "649df197",
   "metadata": {},
   "outputs": [
    {
     "data": {
      "text/plain": [
       "[11, 12, 13, 14, 'done']"
      ]
     },
     "execution_count": 2,
     "metadata": {},
     "output_type": "execute_result"
    }
   ],
   "source": [
    "mylist"
   ]
  },
  {
   "cell_type": "code",
   "execution_count": 3,
   "id": "8713fc16",
   "metadata": {},
   "outputs": [
    {
     "name": "stdout",
     "output_type": "stream",
     "text": [
      "[11, 12, 13, 14, 'done']\n"
     ]
    }
   ],
   "source": [
    "print(mylist)"
   ]
  },
  {
   "cell_type": "code",
   "execution_count": 4,
   "id": "64ea39d0",
   "metadata": {},
   "outputs": [
    {
     "data": {
      "text/plain": [
       "14"
      ]
     },
     "execution_count": 4,
     "metadata": {},
     "output_type": "execute_result"
    }
   ],
   "source": [
    "mylist[3]"
   ]
  },
  {
   "cell_type": "code",
   "execution_count": 5,
   "id": "be80b05a",
   "metadata": {},
   "outputs": [
    {
     "data": {
      "text/plain": [
       "int"
      ]
     },
     "execution_count": 5,
     "metadata": {},
     "output_type": "execute_result"
    }
   ],
   "source": [
    "type(mylist[3])"
   ]
  },
  {
   "cell_type": "code",
   "execution_count": 6,
   "id": "f3b03353",
   "metadata": {},
   "outputs": [
    {
     "data": {
      "text/plain": [
       "11"
      ]
     },
     "execution_count": 6,
     "metadata": {},
     "output_type": "execute_result"
    }
   ],
   "source": [
    "mylist[0]"
   ]
  },
  {
   "cell_type": "code",
   "execution_count": 7,
   "id": "cbed1a3a",
   "metadata": {},
   "outputs": [
    {
     "data": {
      "text/plain": [
       "[11]"
      ]
     },
     "execution_count": 7,
     "metadata": {},
     "output_type": "execute_result"
    }
   ],
   "source": [
    "mylist[0:1]"
   ]
  },
  {
   "cell_type": "code",
   "execution_count": 8,
   "id": "d93be6c6",
   "metadata": {},
   "outputs": [
    {
     "data": {
      "text/plain": [
       "list"
      ]
     },
     "execution_count": 8,
     "metadata": {},
     "output_type": "execute_result"
    }
   ],
   "source": [
    "type(mylist[0:1])"
   ]
  },
  {
   "cell_type": "code",
   "execution_count": 9,
   "id": "6dac3a16",
   "metadata": {
    "scrolled": true
   },
   "outputs": [
    {
     "data": {
      "text/plain": [
       "[11, 12, 13, 14, 'done']"
      ]
     },
     "execution_count": 9,
     "metadata": {},
     "output_type": "execute_result"
    }
   ],
   "source": [
    "mylist"
   ]
  },
  {
   "cell_type": "code",
   "execution_count": 10,
   "id": "6513a89d",
   "metadata": {},
   "outputs": [
    {
     "data": {
      "text/plain": [
       "[11, 12, 13]"
      ]
     },
     "execution_count": 10,
     "metadata": {},
     "output_type": "execute_result"
    }
   ],
   "source": [
    "mylist[0:3]"
   ]
  },
  {
   "cell_type": "code",
   "execution_count": 11,
   "id": "badee612",
   "metadata": {},
   "outputs": [
    {
     "data": {
      "text/plain": [
       "[11, 12, 13, 14, 'done']"
      ]
     },
     "execution_count": 11,
     "metadata": {},
     "output_type": "execute_result"
    }
   ],
   "source": [
    "mylist[0:]"
   ]
  },
  {
   "cell_type": "code",
   "execution_count": 12,
   "id": "eb712cbf",
   "metadata": {},
   "outputs": [
    {
     "data": {
      "text/plain": [
       "[11, 12, 13, 14, 'done']"
      ]
     },
     "execution_count": 12,
     "metadata": {},
     "output_type": "execute_result"
    }
   ],
   "source": [
    "mylist[:]"
   ]
  },
  {
   "cell_type": "code",
   "execution_count": 13,
   "id": "d6e014b5",
   "metadata": {},
   "outputs": [
    {
     "data": {
      "text/plain": [
       "'done'"
      ]
     },
     "execution_count": 13,
     "metadata": {},
     "output_type": "execute_result"
    }
   ],
   "source": [
    "mylist[-1]"
   ]
  },
  {
   "cell_type": "code",
   "execution_count": 14,
   "id": "433070c0",
   "metadata": {},
   "outputs": [
    {
     "data": {
      "text/plain": [
       "['done']"
      ]
     },
     "execution_count": 14,
     "metadata": {},
     "output_type": "execute_result"
    }
   ],
   "source": [
    "mylist[-1:]"
   ]
  },
  {
   "cell_type": "markdown",
   "id": "c437742b",
   "metadata": {},
   "source": [
    "### List of lists"
   ]
  },
  {
   "cell_type": "code",
   "execution_count": 15,
   "id": "3196da25",
   "metadata": {},
   "outputs": [],
   "source": [
    " a = [[1, 2], [3, 1]]"
   ]
  },
  {
   "cell_type": "code",
   "execution_count": 16,
   "id": "38fb5b76",
   "metadata": {},
   "outputs": [
    {
     "data": {
      "text/plain": [
       "[[1, 2], [3, 1]]"
      ]
     },
     "execution_count": 16,
     "metadata": {},
     "output_type": "execute_result"
    }
   ],
   "source": [
    "a"
   ]
  },
  {
   "cell_type": "code",
   "execution_count": 17,
   "id": "53be71b7",
   "metadata": {},
   "outputs": [
    {
     "data": {
      "text/plain": [
       "[1, 2]"
      ]
     },
     "execution_count": 17,
     "metadata": {},
     "output_type": "execute_result"
    }
   ],
   "source": [
    "a[0]"
   ]
  },
  {
   "cell_type": "code",
   "execution_count": 18,
   "id": "61f7c02c",
   "metadata": {},
   "outputs": [
    {
     "data": {
      "text/plain": [
       "2"
      ]
     },
     "execution_count": 18,
     "metadata": {},
     "output_type": "execute_result"
    }
   ],
   "source": [
    "a[0][1]"
   ]
  },
  {
   "cell_type": "markdown",
   "id": "b146bfe8",
   "metadata": {},
   "source": [
    "### Sorting lists"
   ]
  },
  {
   "cell_type": "code",
   "execution_count": 19,
   "id": "0331381b",
   "metadata": {},
   "outputs": [
    {
     "data": {
      "text/plain": [
       "[11, 12, 13, 14, 'done']"
      ]
     },
     "execution_count": 19,
     "metadata": {},
     "output_type": "execute_result"
    }
   ],
   "source": [
    "mylist"
   ]
  },
  {
   "cell_type": "markdown",
   "id": "2d833a9c",
   "metadata": {},
   "source": [
    "#### This will not work!"
   ]
  },
  {
   "cell_type": "code",
   "execution_count": 20,
   "id": "beca3ca5",
   "metadata": {
    "scrolled": true
   },
   "outputs": [
    {
     "ename": "TypeError",
     "evalue": "'<' not supported between instances of 'str' and 'int'",
     "output_type": "error",
     "traceback": [
      "\u001b[0;31m---------------------------------------------------------------------------\u001b[0m",
      "\u001b[0;31mTypeError\u001b[0m                                 Traceback (most recent call last)",
      "Input \u001b[0;32mIn [20]\u001b[0m, in \u001b[0;36m<cell line: 1>\u001b[0;34m()\u001b[0m\n\u001b[0;32m----> 1\u001b[0m \u001b[43mmylist\u001b[49m\u001b[38;5;241;43m.\u001b[39;49m\u001b[43msort\u001b[49m\u001b[43m(\u001b[49m\u001b[43m)\u001b[49m\n",
      "\u001b[0;31mTypeError\u001b[0m: '<' not supported between instances of 'str' and 'int'"
     ]
    }
   ],
   "source": [
    "mylist.sort()"
   ]
  },
  {
   "cell_type": "markdown",
   "id": "910f8a8e",
   "metadata": {},
   "source": [
    "### Sorting lists of strings\n",
    "#### In-place sort"
   ]
  },
  {
   "cell_type": "code",
   "execution_count": 21,
   "id": "733692df",
   "metadata": {},
   "outputs": [],
   "source": [
    " namelist = ['Alpha', 'Gamma', 'Beta']"
   ]
  },
  {
   "cell_type": "code",
   "execution_count": 22,
   "id": "994b96b0",
   "metadata": {},
   "outputs": [],
   "source": [
    "namelist.sort()"
   ]
  },
  {
   "cell_type": "code",
   "execution_count": 23,
   "id": "0fede446",
   "metadata": {},
   "outputs": [
    {
     "data": {
      "text/plain": [
       "['Alpha', 'Beta', 'Gamma']"
      ]
     },
     "execution_count": 23,
     "metadata": {},
     "output_type": "execute_result"
    }
   ],
   "source": [
    "namelist"
   ]
  },
  {
   "cell_type": "markdown",
   "id": "37908baf",
   "metadata": {},
   "source": [
    "### Sorting into a new list"
   ]
  },
  {
   "cell_type": "code",
   "execution_count": 24,
   "id": "38c060bb",
   "metadata": {},
   "outputs": [],
   "source": [
    "newlist = [0, -1, +1, -2, +2]"
   ]
  },
  {
   "cell_type": "code",
   "execution_count": 25,
   "id": "e8de8aa1",
   "metadata": {},
   "outputs": [],
   "source": [
    "sortedlist = sorted(newlist)"
   ]
  },
  {
   "cell_type": "code",
   "execution_count": 26,
   "id": "9f263e4a",
   "metadata": {},
   "outputs": [
    {
     "data": {
      "text/plain": [
       "[0, -1, 1, -2, 2]"
      ]
     },
     "execution_count": 26,
     "metadata": {},
     "output_type": "execute_result"
    }
   ],
   "source": [
    "newlist"
   ]
  },
  {
   "cell_type": "code",
   "execution_count": 27,
   "id": "8bb36579",
   "metadata": {
    "scrolled": true
   },
   "outputs": [
    {
     "data": {
      "text/plain": [
       "[-2, -1, 0, 1, 2]"
      ]
     },
     "execution_count": 27,
     "metadata": {},
     "output_type": "execute_result"
    }
   ],
   "source": [
    "sortedlist"
   ]
  },
  {
   "cell_type": "markdown",
   "id": "d5e39594",
   "metadata": {},
   "source": [
    "### Modifying the elements of a list"
   ]
  },
  {
   "cell_type": "code",
   "execution_count": 28,
   "id": "d5dcdfb2",
   "metadata": {
    "scrolled": true
   },
   "outputs": [
    {
     "data": {
      "text/plain": [
       "[11, 12, 13, 14, 'done']"
      ]
     },
     "execution_count": 28,
     "metadata": {},
     "output_type": "execute_result"
    }
   ],
   "source": [
    "mylist"
   ]
  },
  {
   "cell_type": "code",
   "execution_count": 29,
   "id": "a588caaf",
   "metadata": {},
   "outputs": [],
   "source": [
    "mylist[-1] = 'finished'"
   ]
  },
  {
   "cell_type": "code",
   "execution_count": 30,
   "id": "2b1101d0",
   "metadata": {},
   "outputs": [
    {
     "data": {
      "text/plain": [
       "[11, 12, 13, 14, 'finished']"
      ]
     },
     "execution_count": 30,
     "metadata": {},
     "output_type": "execute_result"
    }
   ],
   "source": [
    "mylist"
   ]
  },
  {
   "cell_type": "code",
   "execution_count": 31,
   "id": "82fa1ffc",
   "metadata": {},
   "outputs": [],
   "source": [
    "mylist[0:4] = ['a','b','c','d']"
   ]
  },
  {
   "cell_type": "code",
   "execution_count": 32,
   "id": "3d29eaa0",
   "metadata": {},
   "outputs": [
    {
     "data": {
      "text/plain": [
       "['a', 'b', 'c', 'd', 'finished']"
      ]
     },
     "execution_count": 32,
     "metadata": {},
     "output_type": "execute_result"
    }
   ],
   "source": [
    "mylist"
   ]
  },
  {
   "cell_type": "markdown",
   "id": "b4c19154",
   "metadata": {},
   "source": [
    "### Lists of lists (I)"
   ]
  },
  {
   "cell_type": "code",
   "execution_count": 33,
   "id": "34c0a535",
   "metadata": {},
   "outputs": [],
   "source": [
    " listoflists = [[17.5, \"1306\"], [13, \"6360\"]]"
   ]
  },
  {
   "cell_type": "code",
   "execution_count": 34,
   "id": "ea459bdc",
   "metadata": {},
   "outputs": [],
   "source": [
    "listoflists.sort()"
   ]
  },
  {
   "cell_type": "code",
   "execution_count": 35,
   "id": "e0984fac",
   "metadata": {},
   "outputs": [
    {
     "data": {
      "text/plain": [
       "[[13, '6360'], [17.5, '1306']]"
      ]
     },
     "execution_count": 35,
     "metadata": {},
     "output_type": "execute_result"
    }
   ],
   "source": [
    "listoflists"
   ]
  },
  {
   "cell_type": "code",
   "execution_count": 36,
   "id": "1f59c3db",
   "metadata": {
    "scrolled": true
   },
   "outputs": [
    {
     "data": {
      "text/plain": [
       "[13, '6360']"
      ]
     },
     "execution_count": 36,
     "metadata": {},
     "output_type": "execute_result"
    }
   ],
   "source": [
    "listoflists[0]"
   ]
  },
  {
   "cell_type": "code",
   "execution_count": 37,
   "id": "bb300388",
   "metadata": {},
   "outputs": [
    {
     "data": {
      "text/plain": [
       "[17.5, '1306']"
      ]
     },
     "execution_count": 37,
     "metadata": {},
     "output_type": "execute_result"
    }
   ],
   "source": [
    "listoflists[1]"
   ]
  },
  {
   "cell_type": "code",
   "execution_count": 38,
   "id": "225634f1",
   "metadata": {
    "scrolled": false
   },
   "outputs": [
    {
     "data": {
      "text/plain": [
       "13"
      ]
     },
     "execution_count": 38,
     "metadata": {},
     "output_type": "execute_result"
    }
   ],
   "source": [
    "listoflists[0][0]"
   ]
  },
  {
   "cell_type": "code",
   "execution_count": 40,
   "id": "e36e45c1",
   "metadata": {
    "scrolled": true
   },
   "outputs": [
    {
     "data": {
      "text/plain": [
       "'6360'"
      ]
     },
     "execution_count": 40,
     "metadata": {},
     "output_type": "execute_result"
    }
   ],
   "source": [
    "listoflists[0][1]"
   ]
  },
  {
   "cell_type": "code",
   "execution_count": 41,
   "id": "c6dad172",
   "metadata": {},
   "outputs": [],
   "source": [
    "listoflists[0][1] = 'Something else!'"
   ]
  },
  {
   "cell_type": "code",
   "execution_count": 42,
   "id": "0c61449d",
   "metadata": {},
   "outputs": [
    {
     "data": {
      "text/plain": [
       "[[13, 'Something else!'], [17.5, '1306']]"
      ]
     },
     "execution_count": 42,
     "metadata": {},
     "output_type": "execute_result"
    }
   ],
   "source": [
    "listoflists"
   ]
  },
  {
   "cell_type": "markdown",
   "id": "d149fe99",
   "metadata": {},
   "source": [
    "### Adding elements to a list"
   ]
  },
  {
   "cell_type": "code",
   "execution_count": 43,
   "id": "65e0bd07",
   "metadata": {},
   "outputs": [
    {
     "data": {
      "text/plain": [
       "['a', 'b', 'c', 'd', 'finished']"
      ]
     },
     "execution_count": 43,
     "metadata": {},
     "output_type": "execute_result"
    }
   ],
   "source": [
    "mylist"
   ]
  },
  {
   "cell_type": "code",
   "execution_count": 44,
   "id": "5e9590a8",
   "metadata": {},
   "outputs": [],
   "source": [
    "mylist.append('Add me please!')"
   ]
  },
  {
   "cell_type": "code",
   "execution_count": 45,
   "id": "910f30b4",
   "metadata": {},
   "outputs": [
    {
     "data": {
      "text/plain": [
       "['a', 'b', 'c', 'd', 'finished', 'Add me please!']"
      ]
     },
     "execution_count": 45,
     "metadata": {},
     "output_type": "execute_result"
    }
   ],
   "source": [
    "mylist"
   ]
  },
  {
   "cell_type": "code",
   "execution_count": 46,
   "id": "b1fccc7d",
   "metadata": {},
   "outputs": [
    {
     "data": {
      "text/plain": [
       "[[13, 'Something else!'], [17.5, '1306']]"
      ]
     },
     "execution_count": 46,
     "metadata": {},
     "output_type": "execute_result"
    }
   ],
   "source": [
    "listoflists"
   ]
  },
  {
   "cell_type": "code",
   "execution_count": 47,
   "id": "52adecfb",
   "metadata": {},
   "outputs": [],
   "source": [
    "listoflists.append([99,'HAHA!'])"
   ]
  },
  {
   "cell_type": "code",
   "execution_count": 48,
   "id": "3ae7c7d0",
   "metadata": {
    "scrolled": true
   },
   "outputs": [
    {
     "data": {
      "text/plain": [
       "[[13, 'Something else!'], [17.5, '1306'], [99, 'HAHA!']]"
      ]
     },
     "execution_count": 48,
     "metadata": {},
     "output_type": "execute_result"
    }
   ],
   "source": [
    "listoflists"
   ]
  },
  {
   "cell_type": "markdown",
   "id": "4ba9c055",
   "metadata": {},
   "source": [
    "### Adding elements inside a list"
   ]
  },
  {
   "cell_type": "code",
   "execution_count": 49,
   "id": "d32c332f",
   "metadata": {
    "scrolled": true
   },
   "outputs": [
    {
     "data": {
      "text/plain": [
       "['a', 'b', 'c', 'd', 'finished', 'Add me please!']"
      ]
     },
     "execution_count": 49,
     "metadata": {},
     "output_type": "execute_result"
    }
   ],
   "source": [
    "mylist"
   ]
  },
  {
   "cell_type": "code",
   "execution_count": 50,
   "id": "a196c2f8",
   "metadata": {},
   "outputs": [],
   "source": [
    "mylist.insert(0,10)"
   ]
  },
  {
   "cell_type": "code",
   "execution_count": 51,
   "id": "6fb8316d",
   "metadata": {},
   "outputs": [
    {
     "data": {
      "text/plain": [
       "[10, 'a', 'b', 'c', 'd', 'finished', 'Add me please!']"
      ]
     },
     "execution_count": 51,
     "metadata": {},
     "output_type": "execute_result"
    }
   ],
   "source": [
    "mylist"
   ]
  },
  {
   "cell_type": "code",
   "execution_count": 52,
   "id": "a9edcf08",
   "metadata": {},
   "outputs": [],
   "source": [
    "mylist.insert(5,15)"
   ]
  },
  {
   "cell_type": "code",
   "execution_count": 53,
   "id": "de201657",
   "metadata": {},
   "outputs": [
    {
     "data": {
      "text/plain": [
       "[10, 'a', 'b', 'c', 'd', 15, 'finished', 'Add me please!']"
      ]
     },
     "execution_count": 53,
     "metadata": {},
     "output_type": "execute_result"
    }
   ],
   "source": [
    "mylist"
   ]
  },
  {
   "cell_type": "markdown",
   "id": "bdf9bcc3",
   "metadata": {},
   "source": [
    "### Removing items"
   ]
  },
  {
   "cell_type": "code",
   "execution_count": 54,
   "id": "bd7a7db8",
   "metadata": {
    "scrolled": true
   },
   "outputs": [
    {
     "data": {
      "text/plain": [
       "[10, 'a', 'b', 'c', 'd', 15, 'finished', 'Add me please!']"
      ]
     },
     "execution_count": 54,
     "metadata": {},
     "output_type": "execute_result"
    }
   ],
   "source": [
    "mylist"
   ]
  },
  {
   "cell_type": "code",
   "execution_count": 55,
   "id": "9764cba8",
   "metadata": {},
   "outputs": [
    {
     "data": {
      "text/plain": [
       "'Add me please!'"
      ]
     },
     "execution_count": 55,
     "metadata": {},
     "output_type": "execute_result"
    }
   ],
   "source": [
    "mylist.pop()"
   ]
  },
  {
   "cell_type": "code",
   "execution_count": 56,
   "id": "a082fc4b",
   "metadata": {},
   "outputs": [
    {
     "data": {
      "text/plain": [
       "[10, 'a', 'b', 'c', 'd', 15, 'finished']"
      ]
     },
     "execution_count": 56,
     "metadata": {},
     "output_type": "execute_result"
    }
   ],
   "source": [
    "mylist"
   ]
  },
  {
   "cell_type": "code",
   "execution_count": 57,
   "id": "f76b0639",
   "metadata": {},
   "outputs": [
    {
     "data": {
      "text/plain": [
       "10"
      ]
     },
     "execution_count": 57,
     "metadata": {},
     "output_type": "execute_result"
    }
   ],
   "source": [
    "mylist.pop(0)"
   ]
  },
  {
   "cell_type": "code",
   "execution_count": 58,
   "id": "8e1481bb",
   "metadata": {
    "scrolled": true
   },
   "outputs": [
    {
     "data": {
      "text/plain": [
       "['a', 'b', 'c', 'd', 15, 'finished']"
      ]
     },
     "execution_count": 58,
     "metadata": {},
     "output_type": "execute_result"
    }
   ],
   "source": [
    "mylist"
   ]
  },
  {
   "cell_type": "markdown",
   "id": "b94c79a8",
   "metadata": {},
   "source": [
    "### Sum"
   ]
  },
  {
   "cell_type": "code",
   "execution_count": 59,
   "id": "30e11790",
   "metadata": {},
   "outputs": [],
   "source": [
    "list = [10, 20, 30]"
   ]
  },
  {
   "cell_type": "code",
   "execution_count": 60,
   "id": "4b275586",
   "metadata": {},
   "outputs": [
    {
     "data": {
      "text/plain": [
       "60"
      ]
     },
     "execution_count": 60,
     "metadata": {},
     "output_type": "execute_result"
    }
   ],
   "source": [
    "sum(list)"
   ]
  },
  {
   "cell_type": "markdown",
   "id": "2e0dbb5a",
   "metadata": {},
   "source": [
    "### Initializing lists"
   ]
  },
  {
   "cell_type": "markdown",
   "id": "705ba7c2",
   "metadata": {},
   "source": [
    "<I> list comprehensions </I>"
   ]
  },
  {
   "cell_type": "code",
   "execution_count": 62,
   "id": "b9054cde",
   "metadata": {},
   "outputs": [
    {
     "data": {
      "text/plain": [
       "[0, 0, 0, 0, 0, 0, 0, 0, 0]"
      ]
     },
     "execution_count": 62,
     "metadata": {},
     "output_type": "execute_result"
    }
   ],
   "source": [
    "[ 0 for n in range(0, 9)]"
   ]
  },
  {
   "cell_type": "code",
   "execution_count": 63,
   "id": "021b057f",
   "metadata": {},
   "outputs": [
    {
     "data": {
      "text/plain": [
       "[0, 1, 2, 3, 4, 5, 6, 7, 8]"
      ]
     },
     "execution_count": 63,
     "metadata": {},
     "output_type": "execute_result"
    }
   ],
   "source": [
    "[ n for n in range(0, 9)]"
   ]
  },
  {
   "cell_type": "code",
   "execution_count": 64,
   "id": "ea8e8cf4",
   "metadata": {
    "scrolled": true
   },
   "outputs": [
    {
     "data": {
      "text/plain": [
       "[0, 1, 4, 9, 16, 25, 36, 49, 64]"
      ]
     },
     "execution_count": 64,
     "metadata": {},
     "output_type": "execute_result"
    }
   ],
   "source": [
    "[ n*n for n in range(0, 9)]"
   ]
  },
  {
   "cell_type": "code",
   "execution_count": 65,
   "id": "bdfc3c42",
   "metadata": {},
   "outputs": [
    {
     "data": {
      "text/plain": [
       "[True]"
      ]
     },
     "execution_count": 65,
     "metadata": {},
     "output_type": "execute_result"
    }
   ],
   "source": [
    "[ 0 in range(0, 9)]"
   ]
  },
  {
   "cell_type": "code",
   "execution_count": 66,
   "id": "e8f56292",
   "metadata": {
    "scrolled": true
   },
   "outputs": [
    {
     "data": {
      "text/plain": [
       "['T',\n",
       " 'h',\n",
       " 'i',\n",
       " 's',\n",
       " ' ',\n",
       " 'i',\n",
       " 's',\n",
       " ' ',\n",
       " 's',\n",
       " 'o',\n",
       " 'm',\n",
       " 'e',\n",
       " 't',\n",
       " 'h',\n",
       " 'i',\n",
       " 'n',\n",
       " 'g',\n",
       " '!']"
      ]
     },
     "execution_count": 66,
     "metadata": {},
     "output_type": "execute_result"
    }
   ],
   "source": [
    "[ char for char in 'This is something!']"
   ]
  },
  {
   "cell_type": "code",
   "execution_count": 68,
   "id": "16534350",
   "metadata": {},
   "outputs": [],
   "source": [
    "names = ['pol','virginie','maximilian']"
   ]
  },
  {
   "cell_type": "code",
   "execution_count": 69,
   "id": "f1bb755a",
   "metadata": {
    "scrolled": true
   },
   "outputs": [
    {
     "data": {
      "text/plain": [
       "['Pol', 'Virginie', 'Maximilian']"
      ]
     },
     "execution_count": 69,
     "metadata": {},
     "output_type": "execute_result"
    }
   ],
   "source": [
    "[n.capitalize() for n in names]"
   ]
  },
  {
   "cell_type": "markdown",
   "id": "2d5b7c66",
   "metadata": {},
   "source": [
    "### Saves a lot of typing!"
   ]
  },
  {
   "cell_type": "code",
   "execution_count": 70,
   "id": "96d504ce",
   "metadata": {},
   "outputs": [
    {
     "data": {
      "text/plain": [
       "[1, 3, 5, 7, 9, 11]"
      ]
     },
     "execution_count": 70,
     "metadata": {},
     "output_type": "execute_result"
    }
   ],
   "source": [
    "[2*n+1 for n in range(0,6)]"
   ]
  },
  {
   "cell_type": "code",
   "execution_count": 71,
   "id": "8b4e3efb",
   "metadata": {},
   "outputs": [],
   "source": [
    "a=[]\n",
    "for n in range(0,6):\n",
    "    a.append(2*n+1)"
   ]
  },
  {
   "cell_type": "code",
   "execution_count": 72,
   "id": "26596a44",
   "metadata": {},
   "outputs": [
    {
     "data": {
      "text/plain": [
       "[1, 3, 5, 7, 9, 11]"
      ]
     },
     "execution_count": 72,
     "metadata": {},
     "output_type": "execute_result"
    }
   ],
   "source": [
    "a"
   ]
  },
  {
   "cell_type": "markdown",
   "id": "1fc46fe3",
   "metadata": {},
   "source": [
    "### Filtered comprehensions"
   ]
  },
  {
   "cell_type": "code",
   "execution_count": 73,
   "id": "54d408be",
   "metadata": {},
   "outputs": [],
   "source": [
    "a = [11, 22, 33, 44, 55]"
   ]
  },
  {
   "cell_type": "code",
   "execution_count": 74,
   "id": "0af9bb60",
   "metadata": {},
   "outputs": [],
   "source": [
    "b = [n for n in a if n%2 == 0]"
   ]
  },
  {
   "cell_type": "code",
   "execution_count": 75,
   "id": "b57a61b2",
   "metadata": {},
   "outputs": [
    {
     "data": {
      "text/plain": [
       "[22, 44]"
      ]
     },
     "execution_count": 75,
     "metadata": {},
     "output_type": "execute_result"
    }
   ],
   "source": [
    "b"
   ]
  },
  {
   "cell_type": "code",
   "execution_count": 77,
   "id": "bc54d420",
   "metadata": {},
   "outputs": [],
   "source": [
    " c = [n//11 for n in a if n > 20]"
   ]
  },
  {
   "cell_type": "code",
   "execution_count": 78,
   "id": "63bb13c1",
   "metadata": {
    "scrolled": true
   },
   "outputs": [
    {
     "data": {
      "text/plain": [
       "[2, 3, 4, 5]"
      ]
     },
     "execution_count": 78,
     "metadata": {},
     "output_type": "execute_result"
    }
   ],
   "source": [
    "c"
   ]
  },
  {
   "cell_type": "markdown",
   "id": "37906ca8",
   "metadata": {},
   "source": [
    "### Copying / saving a list"
   ]
  },
  {
   "cell_type": "code",
   "execution_count": 79,
   "id": "fb5c4a73",
   "metadata": {},
   "outputs": [],
   "source": [
    "a = [\"Alice\", \"Bob\", \"Carol\"]"
   ]
  },
  {
   "cell_type": "code",
   "execution_count": 80,
   "id": "1959cac8",
   "metadata": {},
   "outputs": [],
   "source": [
    "saved = a"
   ]
  },
  {
   "cell_type": "code",
   "execution_count": 81,
   "id": "57d2c7e6",
   "metadata": {
    "scrolled": true
   },
   "outputs": [
    {
     "data": {
      "text/plain": [
       "'Alice'"
      ]
     },
     "execution_count": 81,
     "metadata": {},
     "output_type": "execute_result"
    }
   ],
   "source": [
    "a.pop(0)"
   ]
  },
  {
   "cell_type": "code",
   "execution_count": 82,
   "id": "83b7e960",
   "metadata": {},
   "outputs": [
    {
     "data": {
      "text/plain": [
       "['Bob', 'Carol']"
      ]
     },
     "execution_count": 82,
     "metadata": {},
     "output_type": "execute_result"
    }
   ],
   "source": [
    "a"
   ]
  },
  {
   "cell_type": "code",
   "execution_count": null,
   "id": "91508047",
   "metadata": {},
   "outputs": [],
   "source": []
  }
 ],
 "metadata": {
  "kernelspec": {
   "display_name": "Python 3 (ipykernel)",
   "language": "python",
   "name": "python3"
  },
  "language_info": {
   "codemirror_mode": {
    "name": "ipython",
    "version": 3
   },
   "file_extension": ".py",
   "mimetype": "text/x-python",
   "name": "python",
   "nbconvert_exporter": "python",
   "pygments_lexer": "ipython3",
   "version": "3.8.12"
  }
 },
 "nbformat": 4,
 "nbformat_minor": 5
}
