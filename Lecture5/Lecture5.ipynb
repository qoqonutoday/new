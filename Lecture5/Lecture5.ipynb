{
 "cells": [
  {
   "cell_type": "markdown",
   "id": "3a32632c-00b8-492e-91a1-f6bc9f207bfc",
   "metadata": {},
   "source": [
    "How do I find out what version of Biopython I have installed?"
   ]
  },
  {
   "cell_type": "code",
   "execution_count": 1,
   "id": "b7234822-285a-4851-bda3-13e5568d2bc7",
   "metadata": {},
   "outputs": [],
   "source": [
    "import Bio"
   ]
  },
  {
   "cell_type": "code",
   "execution_count": 2,
   "id": "88158ea4-f615-48d1-93cd-d05a4ea953c2",
   "metadata": {},
   "outputs": [
    {
     "name": "stdout",
     "output_type": "stream",
     "text": [
      "1.78\n"
     ]
    }
   ],
   "source": [
    "print(Bio.__version__)"
   ]
  },
  {
   "cell_type": "code",
   "execution_count": 3,
   "id": "75b1aa16-d089-4262-92da-ffbcaa92f7b2",
   "metadata": {},
   "outputs": [
    {
     "data": {
      "text/plain": [
       "'/home/pieterdb/PY4BIO_2023/Lecture5'"
      ]
     },
     "execution_count": 3,
     "metadata": {},
     "output_type": "execute_result"
    }
   ],
   "source": [
    "%pwd"
   ]
  },
  {
   "cell_type": "code",
   "execution_count": 4,
   "id": "7d1cbb87-ab7d-42a6-862e-8e3c560192cb",
   "metadata": {},
   "outputs": [
    {
     "name": "stdout",
     "output_type": "stream",
     "text": [
      "/home/pieterdb/PY4BIO_2023/Lecture5\n"
     ]
    }
   ],
   "source": [
    "%cd /home/pieterdb/PY4BIO_2023/Lecture5/"
   ]
  },
  {
   "cell_type": "code",
   "execution_count": 5,
   "id": "92e85c71-0248-4a04-9efd-2ab3c213ba8a",
   "metadata": {},
   "outputs": [
    {
     "name": "stdout",
     "output_type": "stream",
     "text": [
      "gi|2765658|emb|Z78533.1|CIZ78533\n",
      "Seq('CGTAACAAGGTTTCCGTAGGTGAACCTGCGGAAGGATCATTGATGAGACCGTGG...CGC')\n",
      "740\n",
      "gi|2765657|emb|Z78532.1|CCZ78532\n",
      "Seq('CGTAACAAGGTTTCCGTAGGTGAACCTGCGGAAGGATCATTGTTGAGACAACAG...GGC')\n",
      "753\n",
      "gi|2765656|emb|Z78531.1|CFZ78531\n",
      "Seq('CGTAACAAGGTTTCCGTAGGTGAACCTGCGGAAGGATCATTGTTGAGACAGCAG...TAA')\n",
      "748\n",
      "gi|2765655|emb|Z78530.1|CMZ78530\n",
      "Seq('CGTAACAAGGTTTCCGTAGGTGAACCTGCGGAAGGATCATTGTTGAAACAACAT...CAT')\n",
      "744\n",
      "gi|2765654|emb|Z78529.1|CLZ78529\n",
      "Seq('ACGGCGAGCTGCCGAAGGACATTGTTGAGACAGCAGAATATACGATTGAGTGAA...AAA')\n",
      "733\n",
      "gi|2765652|emb|Z78527.1|CYZ78527\n",
      "Seq('CGTAACAAGGTTTCCGTAGGTGAACCTGCGGAAGGATCATTGTTGAGACAGTAG...CCC')\n",
      "718\n",
      "gi|2765651|emb|Z78526.1|CGZ78526\n",
      "Seq('CGTAACAAGGTTTCCGTAGGTGAACCTGCGGAAGGATCATTGTTGAGACAGTAG...TGT')\n",
      "730\n",
      "gi|2765650|emb|Z78525.1|CAZ78525\n",
      "Seq('TGTTGAGATAGCAGAATATACATCGAGTGAATCCGGAGGACCTGTGGTTATTCG...GCA')\n",
      "704\n",
      "gi|2765649|emb|Z78524.1|CFZ78524\n",
      "Seq('CGTAACAAGGTTTCCGTAGGTGAACCTGCGGAAGGATCATTGTTGAGATAGTAG...AGC')\n",
      "740\n",
      "gi|2765648|emb|Z78523.1|CHZ78523\n",
      "Seq('CGTAACCAGGTTTCCGTAGGTGAACCTGCGGCAGGATCATTGTTGAGACAGCAG...AAG')\n",
      "709\n",
      "gi|2765647|emb|Z78522.1|CMZ78522\n",
      "Seq('CGTAACAAGGTTTCCGTAGGTGAACCTGCGGAAGGATCATTGTTGAGACAGCAG...GAG')\n",
      "700\n",
      "gi|2765646|emb|Z78521.1|CCZ78521\n",
      "Seq('GTAGGTGAACCTGCGGAAGGATCATTGTTGAGACAGTAGAATATATGATCGAGT...ACC')\n",
      "726\n",
      "gi|2765645|emb|Z78520.1|CSZ78520\n",
      "Seq('CGTAACAAGGTTTCCGTAGGTGAACCTGCGGAAGGATCATTGTTGAGACAGCAG...TTT')\n",
      "753\n",
      "gi|2765644|emb|Z78519.1|CPZ78519\n",
      "Seq('ATATGATCGAGTGAATCTGGTGGACTTGTGGTTACTCAGCTCGCCATAGGCTTT...TTA')\n",
      "699\n",
      "gi|2765643|emb|Z78518.1|CRZ78518\n",
      "Seq('CGTAACAAGGTTTCCGTAGGTGAACCTGCGGGAGGATCATTGTTGAGATAGTAG...TCC')\n",
      "658\n",
      "gi|2765642|emb|Z78517.1|CFZ78517\n",
      "Seq('CGTAACAAGGTTTCCGTAGGTGAACCTGCGGAAGGATCATTGTTGAGACAGTAG...AGC')\n",
      "752\n",
      "gi|2765641|emb|Z78516.1|CPZ78516\n",
      "Seq('CGTAACAAGGTTTCCGTAGGTGAACCTGCGGAAGGATCATTGTTGAGACAGTAT...TAA')\n",
      "726\n",
      "gi|2765640|emb|Z78515.1|MXZ78515\n",
      "Seq('CGTAACAAGGTTTCCGTAGGTGAACCTGCGGAAGGATCATTGCTGAGACCGTAG...AGC')\n",
      "765\n",
      "gi|2765639|emb|Z78514.1|PSZ78514\n",
      "Seq('CGTAACAAGGTTTCCGTAGGTGGACCTTCGGGAGGATCATTTTTGAAGCCCCCA...CTA')\n",
      "755\n",
      "gi|2765638|emb|Z78513.1|PBZ78513\n",
      "Seq('CGTAACAAGGTTTCCGTAGGTGAACCTGCGGAAGGATCATTGTTGAGACCGCCA...GAG')\n",
      "742\n",
      "gi|2765637|emb|Z78512.1|PWZ78512\n",
      "Seq('CGTAACAAGGTTTCCGTAGGTGGACCTTCGGGAGGATCATTTTTGAAGCCCCCA...AGC')\n",
      "762\n",
      "gi|2765636|emb|Z78511.1|PEZ78511\n",
      "Seq('CGTAACAAGGTTTCCGTAGGTGAACCTTCGGAAGGATCATTGTTGAGACCCCCA...GGA')\n",
      "745\n",
      "gi|2765635|emb|Z78510.1|PCZ78510\n",
      "Seq('CTAACCAGGGTTCCGAGGTGACCTTCGGGAGGATTCCTTTTTAAGCCCCCGAAA...TTA')\n",
      "750\n",
      "gi|2765634|emb|Z78509.1|PPZ78509\n",
      "Seq('CGTAACAAGGTTTCCGTAGGTGAACCTGCGGAAGGATCATTGTTGAGACCGCCA...GGA')\n",
      "731\n",
      "gi|2765633|emb|Z78508.1|PLZ78508\n",
      "Seq('CGTAACAAGGTTTCCGTAGGTGAACCTGCGGAAGGATCATTGTTGAGACCGCCA...TGA')\n",
      "741\n",
      "gi|2765632|emb|Z78507.1|PLZ78507\n",
      "Seq('CGTAACAAGGTTTCCGTAGGTGAACCTGCGGAAGGATCATTGTTGAGACCCCCA...TGA')\n",
      "740\n",
      "gi|2765631|emb|Z78506.1|PLZ78506\n",
      "Seq('CGTAACAAGGTTTCCGTAGGTGAACCTGCGGAAGGATCATTGTTGAGACCGCAA...TGA')\n",
      "727\n",
      "gi|2765630|emb|Z78505.1|PSZ78505\n",
      "Seq('CGTAACAAGGTTTCCGTAGGTGAACCTGCGGAAGGATCATTGTTGAGACCGCCA...TTT')\n",
      "711\n",
      "gi|2765629|emb|Z78504.1|PKZ78504\n",
      "Seq('CGTAACAAGGTTTCCGTAGGTGAACCTTCGGAAGGATCATTGTTGAGACCGCAA...TAA')\n",
      "743\n",
      "gi|2765628|emb|Z78503.1|PCZ78503\n",
      "Seq('CGTAACCAGGTTTCCGTAGGTGAACCTCCGGAAGGATCCTTGTTGAGACCGCCA...TAA')\n",
      "727\n",
      "gi|2765627|emb|Z78502.1|PBZ78502\n",
      "Seq('CGTAACCAGGTTTCCGTAGGTGAACCTCCGGAAGGATCATTGTTGAGACCGCCA...CGC')\n",
      "757\n",
      "gi|2765626|emb|Z78501.1|PCZ78501\n",
      "Seq('CGTAACAAGGTTTCCGTAGGTGAACCTGCGGAAGGATCATTGTTGAGACCGCAA...AGA')\n",
      "770\n",
      "gi|2765625|emb|Z78500.1|PWZ78500\n",
      "Seq('CGTAACAAGGTTTCCGTAGGTGAACCTGCGGAAGGCTCATTGTTGAGACCGCAA...AAG')\n",
      "767\n",
      "gi|2765624|emb|Z78499.1|PMZ78499\n",
      "Seq('CGTAACAAGGTTTCCGTAGGTGAACCTGCGGAGGGATCATTGTTGAGATCGCAT...ACC')\n",
      "759\n",
      "gi|2765623|emb|Z78498.1|PMZ78498\n",
      "Seq('CGTAACAAGGTTTCCGTAGGTGAACCTGCGGAAAGGTCATTGTTGAGATCACAT...AGC')\n",
      "750\n",
      "gi|2765622|emb|Z78497.1|PDZ78497\n",
      "Seq('CGTAACAAGGTTTCCGTAGGTGAACCTGCGGAAGGATCATTGTTGAGATCACAT...AGC')\n",
      "788\n",
      "gi|2765621|emb|Z78496.1|PAZ78496\n",
      "Seq('CGTAACAAGGTTTCCGTAGGTGAACCTGCGGAAGGATCATTGTTGAGATCGCAT...AGC')\n",
      "774\n",
      "gi|2765620|emb|Z78495.1|PEZ78495\n",
      "Seq('CGTAACAAGGTTTCCGTAGGTGAACCTCCGGAAGGATCATTGTTGAGATCACAT...GTG')\n",
      "789\n",
      "gi|2765619|emb|Z78494.1|PNZ78494\n",
      "Seq('CGTAACAAGGTTTCCGTAGGTGAACCTGCGGAAGGATCATTGTTGAGGTCGCAT...AAG')\n",
      "688\n",
      "gi|2765618|emb|Z78493.1|PGZ78493\n",
      "Seq('CGTAACAAGGATTCCGTAGGTGAACCTGCGGAAGGATCATTGTTGAGATCGCAT...CCC')\n",
      "719\n",
      "gi|2765617|emb|Z78492.1|PBZ78492\n",
      "Seq('CGTAACAAGGTTTCCGTAGGTGAACCTGCGGAAGGATCATTGTTGAGATCGCAT...ATA')\n",
      "743\n",
      "gi|2765616|emb|Z78491.1|PCZ78491\n",
      "Seq('CGTAACAAGGTTTCCGTAGGTGAACCTGCGGAAGGATCATTGTTGAGATCGCAT...AGC')\n",
      "737\n",
      "gi|2765615|emb|Z78490.1|PFZ78490\n",
      "Seq('CGTAACAAGGTTTCCGTAGGTGAACCTGCGGAAGGATCATTGTTGAGATCACAT...TGA')\n",
      "728\n",
      "gi|2765614|emb|Z78489.1|PDZ78489\n",
      "Seq('CGTAACAAGGTTTCCGTAGGTGAACCTGCGGAAGGATCATTGTTGAGATCACAT...GGC')\n",
      "740\n",
      "gi|2765613|emb|Z78488.1|PTZ78488\n",
      "Seq('CTGTAGGTGAACCTGCGGAAGGATCATTGTTGAGATCACGCAATAATTGATCGA...GCT')\n",
      "696\n",
      "gi|2765612|emb|Z78487.1|PHZ78487\n",
      "Seq('CGTAACAAGGTTTCCGTAGGTGAACCTGCGGAAGGATCATTGTTGAGATCACAT...TAA')\n",
      "732\n",
      "gi|2765611|emb|Z78486.1|PBZ78486\n",
      "Seq('CGTCACGAGGTTTCCGTAGGTGAATCTGCGGGAGGATCATTGTTGAGATCACAT...TGA')\n",
      "731\n",
      "gi|2765610|emb|Z78485.1|PHZ78485\n",
      "Seq('CTGAACCTGGTGTCCGAAGGTGAATCTGCGGATGGATCATTGTTGAGATATCAT...GTA')\n",
      "735\n",
      "gi|2765609|emb|Z78484.1|PCZ78484\n",
      "Seq('CGTAACAAGGTTTCCGTAGGTGAACCTGGGGAAGGATCATTGTTGAGATCACAT...TTT')\n",
      "720\n",
      "gi|2765608|emb|Z78483.1|PVZ78483\n",
      "Seq('CGTAACAAGGTTTCCGTAGGTGAACCTGCGGAAGGATCATTGTTGAGATCACAT...GCA')\n",
      "740\n",
      "gi|2765607|emb|Z78482.1|PEZ78482\n",
      "Seq('TCTACTGCAGTGACCGAGATTTGCCATCGAGCCTCCTGGGAGCTTTCTTGCTGG...GCA')\n",
      "629\n",
      "gi|2765606|emb|Z78481.1|PIZ78481\n",
      "Seq('CGTAACAAGGTTTCCGTAGGTGAACCTGCGGAAGGATCATTGTTGAGATCACAT...TGA')\n",
      "572\n",
      "gi|2765605|emb|Z78480.1|PGZ78480\n",
      "Seq('CGTAACAAGGTTTCCGTAGGTGAACCTGCGGAAGGATCATTGTTGAGATCACAT...TGA')\n",
      "587\n",
      "gi|2765604|emb|Z78479.1|PPZ78479\n",
      "Seq('CGTAACAAGGTTTCCGTAGGTGAACCTGCGGAAGGATCATTGTTGAGATCACAT...AGT')\n",
      "700\n",
      "gi|2765603|emb|Z78478.1|PVZ78478\n",
      "Seq('CGTAACAAGGTTTCCGTAGGTGAACCTCCGGAAGGATCAGTGTTGAGATCACAT...GGC')\n",
      "636\n",
      "gi|2765602|emb|Z78477.1|PVZ78477\n",
      "Seq('CGTAACAAGGTTTCCGTAGGTGAACCTGCGGAAGGATCATTGTTGAGATCACAT...TGC')\n",
      "716\n",
      "gi|2765601|emb|Z78476.1|PGZ78476\n",
      "Seq('CGTAACAAGGTTTCCGTAGGTGAACCTGCGGAAGGATCATTGTTGAGATCACAT...CCC')\n",
      "592\n",
      "gi|2765600|emb|Z78475.1|PSZ78475\n",
      "Seq('CGTAACAAGGTTTCCGTAGGTGAACCTGCGGAAGGATCATTGTTGAGATCACAT...GGT')\n",
      "716\n",
      "gi|2765599|emb|Z78474.1|PKZ78474\n",
      "Seq('CGTAACAAGGTTTCCGTAGGTGAACCTGCGGAAGGATCATTGTTGAGATCACGT...CTT')\n",
      "733\n",
      "gi|2765598|emb|Z78473.1|PSZ78473\n",
      "Seq('CGTAACAAGGTTTCCGTAGGTGAACCTGCGGAAGGATCATTGTTGAGATCACAT...AGG')\n",
      "626\n",
      "gi|2765597|emb|Z78472.1|PLZ78472\n",
      "Seq('CGTAACAAGGTTTCCGTAGGTGAACCTGCGGAAGGATCATTGTTGAGATCACAT...AGC')\n",
      "737\n",
      "gi|2765596|emb|Z78471.1|PDZ78471\n",
      "Seq('CGTAACAAGGTTTCCGTAGGTGAACCTGCGGAAGGATCATTGTTGAGATCACAT...AGC')\n",
      "740\n",
      "gi|2765595|emb|Z78470.1|PPZ78470\n",
      "Seq('CGTAACAAGGTTTCCGTAGGTGAACCTGCGGAAGGATCATTGTTGAGATCACAT...GTT')\n",
      "574\n",
      "gi|2765594|emb|Z78469.1|PHZ78469\n",
      "Seq('CGTAACAAGGTTTCCGTAGGTGAACCTGCGGAAGGATCATTGTTGAGATCACAT...GTT')\n",
      "594\n",
      "gi|2765593|emb|Z78468.1|PAZ78468\n",
      "Seq('CGTAACAAGGTTTCCGTAGGTGAACCTGCGGAAGGATCATTGTTGAGATCGCAT...GTT')\n",
      "610\n",
      "gi|2765592|emb|Z78467.1|PSZ78467\n",
      "Seq('CGTAACAAGGTTTCCGTAGGTGAACCTGCGGAAGGATCATTGTTGAGATCACAT...TGA')\n",
      "730\n",
      "gi|2765591|emb|Z78466.1|PPZ78466\n",
      "Seq('CGTAACAAGGTTTCCGTAGGTGAACCTGCGGAAGGATCATTGTTGAGATCACAT...CCC')\n",
      "641\n",
      "gi|2765590|emb|Z78465.1|PRZ78465\n",
      "Seq('CGTAACAAGGTTTCCGTAGGTGAACCTGCGGAAGGATCATTGTTGAGATCACAT...TGC')\n",
      "702\n",
      "gi|2765589|emb|Z78464.1|PGZ78464\n",
      "Seq('CGTAACAAGGTTTCCGTAGGTGAGCGGAAGGGTCATTGTTGAGATCACATAATA...AGC')\n",
      "733\n",
      "gi|2765588|emb|Z78463.1|PGZ78463\n",
      "Seq('CGTAACAAGGTTTCCGTAGGTGAACCTGCGGAAGGTTCATTGTTGAGATCACAT...AGC')\n",
      "738\n",
      "gi|2765587|emb|Z78462.1|PSZ78462\n",
      "Seq('CGTCACGAGGTCTCCGGATGTGACCCTGCGGAAGGATCATTGTTGAGATCACAT...CAT')\n",
      "736\n",
      "gi|2765586|emb|Z78461.1|PWZ78461\n",
      "Seq('CGTAACAAGGTTTCCGTAGGTGAACCTCCGGAAGGATCATTGTTGAGATCACAT...TAA')\n",
      "732\n",
      "gi|2765585|emb|Z78460.1|PCZ78460\n",
      "Seq('CGTAACAAGGTTTCCGTAGGTGAACCTCCGGAAGGATCATTGTTGAGATCACAT...TTA')\n",
      "745\n",
      "gi|2765584|emb|Z78459.1|PDZ78459\n",
      "Seq('CGTAACAAGGTTTCCGTAGGTGAACCTGCGGAAGGATCATTGTTGAGATCACAT...TTT')\n",
      "744\n",
      "gi|2765583|emb|Z78458.1|PHZ78458\n",
      "Seq('CGTAACAAGGTTTCCGTAGGTGAACCTGCGGAAGGATCATTGTTGAGATCACAT...TTG')\n",
      "738\n",
      "gi|2765582|emb|Z78457.1|PCZ78457\n",
      "Seq('CGTAACAAGGTTTCCGTAGGTGAACCTCCGGAAGGATCATTGTTGAGATCACAT...GAG')\n",
      "739\n",
      "gi|2765581|emb|Z78456.1|PTZ78456\n",
      "Seq('CGTAACAAGGTTTCCGTAGGTGAACCTGCGGAAGGATCATTGTTGAGATCACAT...AGC')\n",
      "740\n",
      "gi|2765580|emb|Z78455.1|PJZ78455\n",
      "Seq('CGTAACCAGGTTTCCGTAGGTGGACCTTCGGGAGGATCATTTTTGAGATCACAT...GCA')\n",
      "745\n",
      "gi|2765579|emb|Z78454.1|PFZ78454\n",
      "Seq('CGTAACAAGGTTTCCGTAGGTGAACCTGCGGAAGGATCATTGTTGAGATCACAT...AAC')\n",
      "695\n",
      "gi|2765578|emb|Z78453.1|PSZ78453\n",
      "Seq('CGTAACAAGGTTTCCGTAGGTGAACCTGCGGAAGGATCATTGTTGAGATCACAT...GCA')\n",
      "745\n",
      "gi|2765577|emb|Z78452.1|PBZ78452\n",
      "Seq('CGTAACAAGGTTTCCGTAGGTGAACCTGCGGAAGGATCATTGTTGAGATCACAT...GCA')\n",
      "743\n",
      "gi|2765576|emb|Z78451.1|PHZ78451\n",
      "Seq('CGTAACAAGGTTTCCGTAGGTGTACCTCCGGAAGGATCATTGTTGAGATCACAT...AGC')\n",
      "730\n",
      "gi|2765575|emb|Z78450.1|PPZ78450\n",
      "Seq('GGAAGGATCATTGCTGATATCACATAATAATTGATCGAGTTAAGCTGGAGGATC...GAG')\n",
      "706\n",
      "gi|2765574|emb|Z78449.1|PMZ78449\n",
      "Seq('CGTAACAAGGTTTCCGTAGGTGAACCTGCGGAAGGATCATTGTTGAGATCACAT...TGC')\n",
      "744\n",
      "gi|2765573|emb|Z78448.1|PAZ78448\n",
      "Seq('CGTAACAAGGTTTCCGTAGGTGAACCTGCGGAAGGATCATTGTTGAGATCACAT...AGG')\n",
      "742\n",
      "gi|2765572|emb|Z78447.1|PVZ78447\n",
      "Seq('CGTAACAAGGATTCCGTAGGTGAACCTGCGGGAGGATCATTGTTGAGATCACAT...AGC')\n",
      "694\n",
      "gi|2765571|emb|Z78446.1|PAZ78446\n",
      "Seq('CGTAACAAGGTTTCCGTAGGTGAACCTCCGGAAGGATCATTGTTGAGATCACAT...CCC')\n",
      "712\n",
      "gi|2765570|emb|Z78445.1|PUZ78445\n",
      "Seq('CGTAACAAGGTTTCCGTAGGTGAACCTGCGGAAGGATCATTGTTGAGATCACAT...TGT')\n",
      "715\n",
      "gi|2765569|emb|Z78444.1|PAZ78444\n",
      "Seq('CGTAACAAGGTTTCCGTAGGGTGAACTGCGGAAGGATCATTGTTGAGATCACAT...ATT')\n",
      "688\n",
      "gi|2765568|emb|Z78443.1|PLZ78443\n",
      "Seq('CGTAACAAGGTTTCCGTAGGTGAACCTGCGGAAGGATCATTGTTGAGATCACAT...AGG')\n",
      "784\n",
      "gi|2765567|emb|Z78442.1|PBZ78442\n",
      "Seq('GTAGGTGAACCTGCGGAAGGATCATTGTTGAGATCACATAATAATTGATCGAGT...AGT')\n",
      "721\n",
      "gi|2765566|emb|Z78441.1|PSZ78441\n",
      "Seq('GGAAGGTCATTGCCGATATCACATAATAATTGATCGAGTTAATCTGGAGGATCT...GAG')\n",
      "703\n",
      "gi|2765565|emb|Z78440.1|PPZ78440\n",
      "Seq('CGTAACAAGGTTTCCGTAGGTGGACCTCCGGGAGGATCATTGTTGAGATCACAT...GCA')\n",
      "744\n",
      "gi|2765564|emb|Z78439.1|PBZ78439\n",
      "Seq('CATTGTTGAGATCACATAATAATTGATCGAGTTAATCTGGAGGATCTGTTTACT...GCC')\n",
      "592\n"
     ]
    }
   ],
   "source": [
    "from Bio import SeqIO\n",
    "for seq_record in SeqIO.parse(\"multi_fasta_gb_header.fasta\", \"fasta\"):\n",
    "    print( seq_record.id )\n",
    "    print( repr(seq_record.seq) )\n",
    "    #print( seq_record.seq )\n",
    "    print( len(seq_record) )"
   ]
  },
  {
   "cell_type": "code",
   "execution_count": 6,
   "id": "4c8930e3-68da-4712-8e8c-62bf6a012378",
   "metadata": {},
   "outputs": [
    {
     "name": "stdout",
     "output_type": "stream",
     "text": [
      "ID: Z78533.1\n",
      "Name: Z78533\n",
      "Description: C.irapeanum 5.8S rRNA gene and ITS1 and ITS2 DNA\n",
      "Number of features: 5\n",
      "/molecule_type=DNA\n",
      "/topology=linear\n",
      "/data_file_division=PLN\n",
      "/date=30-NOV-2006\n",
      "/accessions=['Z78533']\n",
      "/sequence_version=1\n",
      "/gi=2765658\n",
      "/keywords=['5.8S ribosomal RNA', '5.8S rRNA gene', 'internal transcribed spacer', 'ITS1', 'ITS2']\n",
      "/source=Cypripedium irapeanum\n",
      "/organism=Cypripedium irapeanum\n",
      "/taxonomy=['Eukaryota', 'Viridiplantae', 'Streptophyta', 'Embryophyta', 'Tracheophyta', 'Spermatophyta', 'Magnoliophyta', 'Liliopsida', 'Asparagales', 'Orchidaceae', 'Cypripedioideae', 'Cypripedium']\n",
      "/references=[Reference(title='Phylogenetics of the slipper orchids (Cypripedioideae: Orchidaceae): nuclear rDNA ITS sequences', ...), Reference(title='Direct Submission', ...)]\n",
      "Seq('CGTAACAAGGTTTCCGTAGGTGAACCTGCGGAAGGATCATTGATGAGACCGTGG...CGC')\n"
     ]
    }
   ],
   "source": [
    "for seq_record in SeqIO.parse(\"sequence.gb\", \"genbank\"):\n",
    "    print(seq_record)\n",
    "    #added to print just one record example\n",
    "    break "
   ]
  },
  {
   "cell_type": "code",
   "execution_count": 7,
   "id": "7725538a-03d3-4746-8a0d-cec8a3ca7b92",
   "metadata": {},
   "outputs": [
    {
     "name": "stdout",
     "output_type": "stream",
     "text": [
      "Z78533.1\n",
      "Seq('CGTAACAAGGTTTCCGTAGGTGAACCTGCGGAAGGATCATTGATGAGACCGTGG...CGC')\n",
      "740\n"
     ]
    }
   ],
   "source": [
    "for seq_record in SeqIO.parse(\"sequence.gb\", \"genbank\"):\n",
    "    print(seq_record.id)\n",
    "    print(repr(seq_record.seq))\n",
    "    print(len(seq_record))"
   ]
  },
  {
   "cell_type": "code",
   "execution_count": 8,
   "id": "8cb984d5-f058-4277-9ad2-47a4c76aed2b",
   "metadata": {},
   "outputs": [],
   "source": [
    "my_seq = seq_record.seq"
   ]
  },
  {
   "cell_type": "code",
   "execution_count": 9,
   "id": "6d13fd10",
   "metadata": {},
   "outputs": [
    {
     "data": {
      "text/plain": [
       "Seq('CGTAACAAGGTTTCCGTAGGTGAACCTGCGGAAGGATCATTGATGAGACCGTGG...CGC')"
      ]
     },
     "execution_count": 9,
     "metadata": {},
     "output_type": "execute_result"
    }
   ],
   "source": [
    "my_seq"
   ]
  },
  {
   "cell_type": "code",
   "execution_count": 10,
   "id": "da7385b8-c6a0-47db-85fd-8eae396ac0e6",
   "metadata": {},
   "outputs": [
    {
     "data": {
      "text/plain": [
       "'C'"
      ]
     },
     "execution_count": 10,
     "metadata": {},
     "output_type": "execute_result"
    }
   ],
   "source": [
    "my_seq[0]"
   ]
  },
  {
   "cell_type": "code",
   "execution_count": 11,
   "id": "079ec566-be58-4533-9483-544cb5c42a68",
   "metadata": {},
   "outputs": [
    {
     "data": {
      "text/plain": [
       "'G'"
      ]
     },
     "execution_count": 11,
     "metadata": {},
     "output_type": "execute_result"
    }
   ],
   "source": [
    "my_seq[1]"
   ]
  },
  {
   "cell_type": "code",
   "execution_count": 12,
   "id": "40e85164-b018-465f-996b-f0d2eb13a9d4",
   "metadata": {},
   "outputs": [
    {
     "data": {
      "text/plain": [
       "'A'"
      ]
     },
     "execution_count": 12,
     "metadata": {},
     "output_type": "execute_result"
    }
   ],
   "source": [
    "my_seq[3]"
   ]
  },
  {
   "cell_type": "code",
   "execution_count": 13,
   "id": "bf8479f7-448a-416b-96d1-b5cded9de106",
   "metadata": {},
   "outputs": [
    {
     "data": {
      "text/plain": [
       "'C'"
      ]
     },
     "execution_count": 13,
     "metadata": {},
     "output_type": "execute_result"
    }
   ],
   "source": [
    "my_seq[-1]"
   ]
  },
  {
   "cell_type": "code",
   "execution_count": 14,
   "id": "12d12f72-896e-4228-9dbc-70a8fb123034",
   "metadata": {},
   "outputs": [
    {
     "data": {
      "text/plain": [
       "Seq('CGCATTTGAGTCGCCCACGGGGGCGGACTGGACCCCAGTGTAGGCTTACCGCCA...TGC')"
      ]
     },
     "execution_count": 14,
     "metadata": {},
     "output_type": "execute_result"
    }
   ],
   "source": [
    "my_seq[::-1]"
   ]
  },
  {
   "cell_type": "code",
   "execution_count": 15,
   "id": "3fbb99ca-bda4-4d1e-902a-025a18db674f",
   "metadata": {},
   "outputs": [
    {
     "data": {
      "text/plain": [
       "2"
      ]
     },
     "execution_count": 15,
     "metadata": {},
     "output_type": "execute_result"
    }
   ],
   "source": [
    "\"AAAA\".count(\"AA\")"
   ]
  },
  {
   "cell_type": "code",
   "execution_count": 16,
   "id": "81c361ef-bba6-4f00-9a1b-811dad2c3df6",
   "metadata": {},
   "outputs": [],
   "source": [
    "from Bio.Seq import Seq"
   ]
  },
  {
   "cell_type": "code",
   "execution_count": 17,
   "id": "2c10631f-1089-42ea-be8d-41a6927e7278",
   "metadata": {},
   "outputs": [
    {
     "data": {
      "text/plain": [
       "2"
      ]
     },
     "execution_count": 17,
     "metadata": {},
     "output_type": "execute_result"
    }
   ],
   "source": [
    "Seq(\"AAAA\").count(\"AA\")"
   ]
  },
  {
   "cell_type": "code",
   "execution_count": 18,
   "id": "0f52c91a-5cb6-4598-ac98-baccdadc1276",
   "metadata": {},
   "outputs": [],
   "source": [
    "from Bio.SeqUtils import GC"
   ]
  },
  {
   "cell_type": "code",
   "execution_count": 19,
   "id": "c9ab1865-ccfa-4449-bea9-8a30372842f7",
   "metadata": {},
   "outputs": [
    {
     "data": {
      "text/plain": [
       "59.5945945945946"
      ]
     },
     "execution_count": 19,
     "metadata": {},
     "output_type": "execute_result"
    }
   ],
   "source": [
    "GC(my_seq)"
   ]
  },
  {
   "cell_type": "code",
   "execution_count": 20,
   "id": "b595d943-373b-490e-99d0-c15f222e0ccc",
   "metadata": {},
   "outputs": [],
   "source": [
    "my_seq = Seq(\"GATCGATGGGCCTATATAGGATCGAAAATCGC\")"
   ]
  },
  {
   "cell_type": "code",
   "execution_count": 21,
   "id": "353ffea8-2f14-499c-ad9f-4cbd5e9a03f8",
   "metadata": {},
   "outputs": [
    {
     "data": {
      "text/plain": [
       "Seq('GCTGTAGTAAG')"
      ]
     },
     "execution_count": 21,
     "metadata": {},
     "output_type": "execute_result"
    }
   ],
   "source": [
    "my_seq[0::3]"
   ]
  },
  {
   "cell_type": "code",
   "execution_count": 22,
   "id": "2f00e5c9-240f-434a-8a0e-0c7b9f68d0df",
   "metadata": {},
   "outputs": [
    {
     "data": {
      "text/plain": [
       "Seq('AGGCATGCATC')"
      ]
     },
     "execution_count": 22,
     "metadata": {},
     "output_type": "execute_result"
    }
   ],
   "source": [
    "my_seq[1::3]"
   ]
  },
  {
   "cell_type": "code",
   "execution_count": 23,
   "id": "d0f48b69-6c11-4171-8bdb-1ca3998e0b68",
   "metadata": {},
   "outputs": [
    {
     "data": {
      "text/plain": [
       "Seq('TAGCTAAGAC')"
      ]
     },
     "execution_count": 23,
     "metadata": {},
     "output_type": "execute_result"
    }
   ],
   "source": [
    "my_seq[2::3]"
   ]
  },
  {
   "cell_type": "code",
   "execution_count": 24,
   "id": "9627b811-2217-4b72-866d-9b8862144a69",
   "metadata": {},
   "outputs": [],
   "source": [
    " protein_seq = Seq(\"EVRNAK\")"
   ]
  },
  {
   "cell_type": "code",
   "execution_count": 25,
   "id": "95c93d5b-9c23-40f4-924d-3847eb6f2776",
   "metadata": {},
   "outputs": [],
   "source": [
    " dna_seq = Seq(\"ACGT\")"
   ]
  },
  {
   "cell_type": "code",
   "execution_count": 26,
   "id": "fa0baa6d-4054-465c-a2bd-4462c5bae6a1",
   "metadata": {},
   "outputs": [
    {
     "data": {
      "text/plain": [
       "Seq('EVRNAKACGT')"
      ]
     },
     "execution_count": 26,
     "metadata": {},
     "output_type": "execute_result"
    }
   ],
   "source": [
    "protein_seq + dna_seq"
   ]
  },
  {
   "cell_type": "code",
   "execution_count": 27,
   "id": "c9a8a1c1-cb35-4726-a26a-765c4369959d",
   "metadata": {},
   "outputs": [],
   "source": [
    "dna_seq = Seq(\"acgtACGT\")"
   ]
  },
  {
   "cell_type": "code",
   "execution_count": 28,
   "id": "4934e9bc-9206-410e-a409-5d42afed1425",
   "metadata": {},
   "outputs": [
    {
     "data": {
      "text/plain": [
       "Seq('ACGTACGT')"
      ]
     },
     "execution_count": 28,
     "metadata": {},
     "output_type": "execute_result"
    }
   ],
   "source": [
    "dna_seq.upper()"
   ]
  },
  {
   "cell_type": "code",
   "execution_count": 29,
   "id": "1c9bb4e6-1a79-4091-bb87-498974311583",
   "metadata": {},
   "outputs": [
    {
     "data": {
      "text/plain": [
       "Seq('acgtacgt')"
      ]
     },
     "execution_count": 29,
     "metadata": {},
     "output_type": "execute_result"
    }
   ],
   "source": [
    "dna_seq.lower()"
   ]
  },
  {
   "cell_type": "code",
   "execution_count": 30,
   "id": "d59bd132-8566-471e-888c-6febc18de691",
   "metadata": {},
   "outputs": [],
   "source": [
    "messenger_rna = Seq(\"AUGGCCAUUGUAAUGGGCCGCUGAAAGGGUGCCCGAUAG\")"
   ]
  },
  {
   "cell_type": "code",
   "execution_count": 31,
   "id": "8a250534-89b6-4053-a6d8-81e122c9f2ba",
   "metadata": {},
   "outputs": [
    {
     "data": {
      "text/plain": [
       "Seq('MAIVMGR*KGAR*')"
      ]
     },
     "execution_count": 31,
     "metadata": {},
     "output_type": "execute_result"
    }
   ],
   "source": [
    "messenger_rna.translate()"
   ]
  },
  {
   "cell_type": "code",
   "execution_count": 32,
   "id": "fe86622a-9b9f-460c-986c-e26fa2a4a6d4",
   "metadata": {},
   "outputs": [],
   "source": [
    "coding_dna = Seq(\"ATGGCCATTGTAATGGGCCGCTGAAAGGGTGCCCGATAG\")"
   ]
  },
  {
   "cell_type": "code",
   "execution_count": 33,
   "id": "1cd751a8-4c0e-442a-acad-b36138466e8e",
   "metadata": {},
   "outputs": [
    {
     "data": {
      "text/plain": [
       "Seq('MAIVMGRWKGAR*')"
      ]
     },
     "execution_count": 33,
     "metadata": {},
     "output_type": "execute_result"
    }
   ],
   "source": [
    "coding_dna.translate(table=\"Vertebrate Mitochondrial\")"
   ]
  },
  {
   "cell_type": "code",
   "execution_count": 34,
   "id": "85acc457-78f6-41d0-9fa6-c624025350af",
   "metadata": {},
   "outputs": [
    {
     "data": {
      "text/plain": [
       "Seq('MAIVMGRWKGAR*')"
      ]
     },
     "execution_count": 34,
     "metadata": {},
     "output_type": "execute_result"
    }
   ],
   "source": [
    "coding_dna.translate(table=2)"
   ]
  },
  {
   "cell_type": "code",
   "execution_count": 35,
   "id": "65d575b5-74e1-45a0-87fd-c68728d31c0b",
   "metadata": {},
   "outputs": [],
   "source": [
    " from Bio.Data import CodonTable"
   ]
  },
  {
   "cell_type": "code",
   "execution_count": 36,
   "id": "3249c7ff-5352-4950-8313-0a92fb117e65",
   "metadata": {},
   "outputs": [],
   "source": [
    "standard_table = CodonTable.unambiguous_dna_by_id[1]"
   ]
  },
  {
   "cell_type": "code",
   "execution_count": 37,
   "id": "9cfb5741-47b8-4f0d-999f-c4cde5e03b38",
   "metadata": {},
   "outputs": [],
   "source": [
    "mito_table = CodonTable.unambiguous_dna_by_id[2]"
   ]
  },
  {
   "cell_type": "code",
   "execution_count": 38,
   "id": "47b8b471-7c90-40f0-bbff-93603edd9ef1",
   "metadata": {},
   "outputs": [
    {
     "name": "stdout",
     "output_type": "stream",
     "text": [
      "Table 2 Vertebrate Mitochondrial, SGC1\n",
      "\n",
      "  |  T      |  C      |  A      |  G      |\n",
      "--+---------+---------+---------+---------+--\n",
      "T | TTT F   | TCT S   | TAT Y   | TGT C   | T\n",
      "T | TTC F   | TCC S   | TAC Y   | TGC C   | C\n",
      "T | TTA L   | TCA S   | TAA Stop| TGA W   | A\n",
      "T | TTG L   | TCG S   | TAG Stop| TGG W   | G\n",
      "--+---------+---------+---------+---------+--\n",
      "C | CTT L   | CCT P   | CAT H   | CGT R   | T\n",
      "C | CTC L   | CCC P   | CAC H   | CGC R   | C\n",
      "C | CTA L   | CCA P   | CAA Q   | CGA R   | A\n",
      "C | CTG L   | CCG P   | CAG Q   | CGG R   | G\n",
      "--+---------+---------+---------+---------+--\n",
      "A | ATT I(s)| ACT T   | AAT N   | AGT S   | T\n",
      "A | ATC I(s)| ACC T   | AAC N   | AGC S   | C\n",
      "A | ATA M(s)| ACA T   | AAA K   | AGA Stop| A\n",
      "A | ATG M(s)| ACG T   | AAG K   | AGG Stop| G\n",
      "--+---------+---------+---------+---------+--\n",
      "G | GTT V   | GCT A   | GAT D   | GGT G   | T\n",
      "G | GTC V   | GCC A   | GAC D   | GGC G   | C\n",
      "G | GTA V   | GCA A   | GAA E   | GGA G   | A\n",
      "G | GTG V(s)| GCG A   | GAG E   | GGG G   | G\n",
      "--+---------+---------+---------+---------+--\n"
     ]
    }
   ],
   "source": [
    "print(mito_table)"
   ]
  },
  {
   "cell_type": "code",
   "execution_count": 39,
   "id": "3a4e259c-be6c-414e-acf4-cefbb3cb432a",
   "metadata": {},
   "outputs": [
    {
     "data": {
      "text/plain": [
       "Seq('MAIVMGR*KGAR*')"
      ]
     },
     "execution_count": 39,
     "metadata": {},
     "output_type": "execute_result"
    }
   ],
   "source": [
    "coding_dna.translate(table=1)"
   ]
  },
  {
   "cell_type": "code",
   "execution_count": 40,
   "id": "82836476-d3a2-4afd-9172-d633f40660e6",
   "metadata": {},
   "outputs": [
    {
     "data": {
      "text/plain": [
       "Seq('MAIVMGR')"
      ]
     },
     "execution_count": 40,
     "metadata": {},
     "output_type": "execute_result"
    }
   ],
   "source": [
    "coding_dna.translate(table=1,to_stop=True)"
   ]
  },
  {
   "cell_type": "code",
   "execution_count": 44,
   "id": "748a6391-c830-4973-8d14-f35451724440",
   "metadata": {},
   "outputs": [],
   "source": [
    "seq1 = Seq(\"ACGT\")"
   ]
  },
  {
   "cell_type": "code",
   "execution_count": 45,
   "id": "cf6a3c9b-90a3-41ab-a7cb-26490c397bd8",
   "metadata": {},
   "outputs": [],
   "source": [
    "seq2 = Seq(\"AGGT\")"
   ]
  },
  {
   "cell_type": "code",
   "execution_count": 46,
   "id": "3050e6f7-7dc9-4532-9c22-abe0c73fc0a4",
   "metadata": {},
   "outputs": [
    {
     "data": {
      "text/plain": [
       "False"
      ]
     },
     "execution_count": 46,
     "metadata": {},
     "output_type": "execute_result"
    }
   ],
   "source": [
    "seq1==seq2"
   ]
  },
  {
   "cell_type": "code",
   "execution_count": 47,
   "id": "db7129f0-07b2-451f-b4b6-30d0e3c4d0d5",
   "metadata": {},
   "outputs": [],
   "source": [
    "from Bio.Seq import MutableSeq"
   ]
  },
  {
   "cell_type": "code",
   "execution_count": 48,
   "id": "96ebe769-6d0c-4106-8b85-b135bf21df9b",
   "metadata": {},
   "outputs": [],
   "source": [
    "my_seq = MutableSeq(\"ACTCGTCGTCG\")"
   ]
  },
  {
   "cell_type": "code",
   "execution_count": 49,
   "id": "4ebdb5af-9e70-4b96-a337-c6028f0adcf8",
   "metadata": {},
   "outputs": [
    {
     "data": {
      "text/plain": [
       "MutableSeq('ACTCGTCGTCG')"
      ]
     },
     "execution_count": 49,
     "metadata": {},
     "output_type": "execute_result"
    }
   ],
   "source": [
    "my_seq"
   ]
  },
  {
   "cell_type": "code",
   "execution_count": 50,
   "id": "335efdd1-15ab-4f77-9598-ccc508ccc2e8",
   "metadata": {},
   "outputs": [
    {
     "data": {
      "text/plain": [
       "'T'"
      ]
     },
     "execution_count": 50,
     "metadata": {},
     "output_type": "execute_result"
    }
   ],
   "source": [
    "my_seq[5]"
   ]
  },
  {
   "cell_type": "code",
   "execution_count": 51,
   "id": "05f45b3c-b493-4285-bc13-2b591fc2c108",
   "metadata": {},
   "outputs": [],
   "source": [
    "my_seq[5] = 'A'"
   ]
  },
  {
   "cell_type": "code",
   "execution_count": 52,
   "id": "c8f1d099-4480-4f24-90e5-9979666feba4",
   "metadata": {},
   "outputs": [
    {
     "data": {
      "text/plain": [
       "MutableSeq('ACTCGACGTCG')"
      ]
     },
     "execution_count": 52,
     "metadata": {},
     "output_type": "execute_result"
    }
   ],
   "source": [
    "my_seq"
   ]
  },
  {
   "cell_type": "code",
   "execution_count": 53,
   "id": "f6f5cbf5-cf8a-45e6-bc57-48c1b203e08d",
   "metadata": {},
   "outputs": [],
   "source": [
    "from Bio.Seq import UnknownSeq"
   ]
  },
  {
   "cell_type": "code",
   "execution_count": 54,
   "id": "c577e905-b3c7-4a50-a2b8-3e65231ba73b",
   "metadata": {},
   "outputs": [],
   "source": [
    " unk_dna = UnknownSeq(20)"
   ]
  },
  {
   "cell_type": "code",
   "execution_count": 55,
   "id": "a2c783b2-9818-4ab3-98d8-80a39a774d38",
   "metadata": {},
   "outputs": [
    {
     "name": "stdout",
     "output_type": "stream",
     "text": [
      "????????????????????\n"
     ]
    }
   ],
   "source": [
    "print(unk_dna)"
   ]
  },
  {
   "cell_type": "code",
   "execution_count": 56,
   "id": "2d91c7da-2705-4a20-9214-293345d7e87a",
   "metadata": {},
   "outputs": [
    {
     "data": {
      "text/plain": [
       "Seq('????????????????????ACTCGACGTCG')"
      ]
     },
     "execution_count": 56,
     "metadata": {},
     "output_type": "execute_result"
    }
   ],
   "source": [
    " unk_dna+my_seq"
   ]
  },
  {
   "cell_type": "code",
   "execution_count": 57,
   "id": "2b85feac-6678-46f9-ac53-0c134755ff3a",
   "metadata": {},
   "outputs": [],
   "source": [
    "from Bio import AlignIO"
   ]
  },
  {
   "cell_type": "code",
   "execution_count": 58,
   "id": "a6e16066-7a88-49fa-9e2b-f84be9cc890c",
   "metadata": {},
   "outputs": [],
   "source": [
    "alignment = AlignIO.read(\"PF05371.sth\", \"stockholm\")"
   ]
  },
  {
   "cell_type": "code",
   "execution_count": 59,
   "id": "cc25500a-e9fc-44f5-95ab-a567624176ad",
   "metadata": {},
   "outputs": [
    {
     "name": "stdout",
     "output_type": "stream",
     "text": [
      "Alignment with 20 rows and 82 columns\n",
      "--------------------agtanat----EP-TAAEAAFTAL...--- A0A1J0VHQ7_9GAMM/29-82\n",
      "--------------------------a---------ASAAFDAV...--- A0A085DSG1_9GAMM/1-44\n",
      "---------------------------AEGDDP---AKAAFNSL...--- A0A0P9AAU4_9GAMM/24-72\n",
      "---------------------aessip-------QPAQDAITSI...v-- K8W5V2_9GAMM/28-78\n",
      "--------------------------f-AADDATSQAKAAFDSL...--- CAPSD_BPIF1/22-73\n",
      "---------aalvatgaanaaatldps---------VAAAFTAI...--- G0AGW2_COLFT/20-80\n",
      "---------------------------AEPNAATNYATEAMDSL...--- CAPSD_BPIKE/30-81\n",
      "-------------------sganaalp-------AAATTAFTDL...--- G0A214_METMM/20-72\n",
      "adrarakqaaaaaalsvaamsaqaelp-------AAATAAITAV...--- N6Z3H0_9RHOO/17-88\n",
      "--------------------ttlppev----------TAAFTGI...--- A0A1I3UID1_9ALTE/3-51\n",
      "-------------------asaaahaq------EAAASAAFDAV...--- A0A085DVW1_9GAMM/10-63\n",
      "------------------------age---GASTDYAGQAMDSL...--- A0A1S8Y744_9ENTR/27-78\n",
      "------------------------ign-----AQADASAAFSEI...--- A0A1U9RGB5_9GAMM/30-79\n",
      "---------------------------AEGDDP---AKAAFNSL...--- CAPSD_BPM13/24-72\n",
      "----------------------aalpa--------EAQAAMDEL...tkq A0A090R4K9_9VIBR/20-68\n",
      "---------------------------AEGDDP---AKAAFNSL...--- A0A0P9AYN8_9PROT/24-72\n",
      "--------------------------d-GTSTATSYATEAMNSL...--- CAPSD_BPI22/32-83\n",
      "-----------------------vhaq----EA-SGAAAAFDEV...--- A0A2A3XI27_9GAMM/32-82\n",
      "----------------asgsanaalpa--------HVTDAFTAV...--- A0A1E5CL89_9VIBR/22-76\n",
      "---------------------ahaqea-------PGASAAFSAI...--- A0A291JUA2_9GAMM/34-84\n"
     ]
    }
   ],
   "source": [
    "print(alignment) "
   ]
  },
  {
   "cell_type": "code",
   "execution_count": 60,
   "id": "9bd071dd-fdfd-4f1f-94bf-fe34a869cdbd",
   "metadata": {},
   "outputs": [
    {
     "name": "stdout",
     "output_type": "stream",
     "text": [
      "ID: A0A1J0VHQ7_9GAMM/29-82\n",
      "Name: A0A1J0VHQ7_9GAMM\n",
      "Description: A0A1J0VHQ7_9GAMM/29-82\n",
      "Number of features: 0\n",
      "/accession=A0A1J0VHQ7.1\n",
      "/start=29\n",
      "/end=82\n",
      "Seq('--------------------agtanat----EP-TAAEAAFTALQSEADAMAGY...---')\n"
     ]
    }
   ],
   "source": [
    "print(alignment[0])"
   ]
  },
  {
   "cell_type": "code",
   "execution_count": 61,
   "id": "80505f85-c3c7-4d03-bdc2-5f1075f7329e",
   "metadata": {},
   "outputs": [
    {
     "name": "stdout",
     "output_type": "stream",
     "text": [
      "Alignment length 82\n"
     ]
    }
   ],
   "source": [
    " print(\"Alignment length %i\" % alignment.get_alignment_length())"
   ]
  },
  {
   "cell_type": "code",
   "execution_count": 62,
   "id": "7eb7b0fa-d2f9-46db-809d-1697428dccda",
   "metadata": {},
   "outputs": [
    {
     "name": "stdout",
     "output_type": "stream",
     "text": [
      "--------------------agtanat----EP-TAAEAAFTALQSEADAMAGYAWPVVAGIVGSLLAIGLFKKFANKA--- - A0A1J0VHQ7_9GAMM/29-82\n",
      "--------------------------a---------ASAAFDAVAEQGTEMAGYAWPVVGAITASLIGIGLFKKFANKA--- - A0A085DSG1_9GAMM/1-44\n",
      "---------------------------AEGDDP---AKAAFNSLQASATEYIGYAWAMVVVIVGATIGIKLFKKFTSKA--- - A0A0P9AAU4_9GAMM/24-72\n",
      "---------------------aessip-------QPAQDAITSIGETATGMIDLAWPVIALVVGGFLAIKLFKKVSNK-v-- - K8W5V2_9GAMM/28-78\n",
      "--------------------------f-AADDATSQAKAAFDSLTAQATEMSGYAWALVVLVVGATVGIKLFKKFVSRA--- - CAPSD_BPIF1/22-73\n",
      "---------aalvatgaanaaatldps---------VAAAFTAIGDNATAMFGLAMPVVASVLGMFIVLRLFKKFGNKA--- - G0AGW2_COLFT/20-80\n",
      "---------------------------AEPNAATNYATEAMDSLKTQAIDLISQTWPVVTTVVVAGLVIRLFKKFSSKA--- - CAPSD_BPIKE/30-81\n",
      "-------------------sganaalp-------AAATTAFTDLQTDALSLVDLAWTAAIPITIAFIILRMFKRAASSA--- - G0A214_METMM/20-72\n",
      "adrarakqaaaaaalsvaamsaqaelp-------AAATAAITAVKEDGTDLVAAGWPVLVAITGGLILMGLFKKVLSRA--- - N6Z3H0_9RHOO/17-88\n",
      "--------------------ttlppev----------TAAFTGISDNFDAMAAEAWPVVATIVGGFILLKLFKKFANKA--- - A0A1I3UID1_9ALTE/3-51\n",
      "-------------------asaaahaq------EAAASAAFDAVAEQGTEMAGYAWPVVGAITASLIGIGLFKKFANKA--- - A0A085DVW1_9GAMM/10-63\n",
      "------------------------age---GASTDYAGQAMDSLLTQANDLIAKVWPVVVAVVGAGLAIRLFKKFSSKA--- - A0A1S8Y744_9ENTR/27-78\n",
      "------------------------ign-----AQADASAAFSEIQSTGADMAGQAWPVVAAITASLIGIKLFKKFANRA--- - A0A1U9RGB5_9GAMM/30-79\n",
      "---------------------------AEGDDP---AKAAFNSLQASATEYIGYAWAMVVVIVGATIGIKLFKKFTSKA--- - CAPSD_BPM13/24-72\n",
      "----------------------aalpa--------EAQAAMDELGTFATDMVAAAWVIVPIVVVGFIGIKLFKKAQ---tkq - A0A090R4K9_9VIBR/20-68\n",
      "---------------------------AEGDDP---AKAAFNSLQASATEYIGYAWAMVVVIVGATIGIKLFKKFTSKA--- - A0A0P9AYN8_9PROT/24-72\n",
      "--------------------------d-GTSTATSYATEAMNSLKTQATDLIDQTWPVVTSVAVAGLAIRLFKKFSSKA--- - CAPSD_BPI22/32-83\n",
      "-----------------------vhaq----EA-SGAAAAFDEVSASGAEMAGYAWPVVASITAALIGIKLFKKFANRA--- - A0A2A3XI27_9GAMM/32-82\n",
      "----------------asgsanaalpa--------HVTDAFTAVGTLVTDLEAQAWIIVPVVFIALAGITLFKKFGNKA--- - A0A1E5CL89_9VIBR/22-76\n",
      "---------------------ahaqea-------PGASAAFSAISSQASDFSGDAWPVVIGVTSALVGIKLFKKFISRA--- - A0A291JUA2_9GAMM/34-84\n"
     ]
    }
   ],
   "source": [
    "for record in alignment:\n",
    "    print(\"%s - %s\" % (record.seq, record.id))"
   ]
  },
  {
   "cell_type": "code",
   "execution_count": 63,
   "id": "9e4432e8-a484-4034-95f8-31a2e1a312a6",
   "metadata": {},
   "outputs": [
    {
     "name": "stdout",
     "output_type": "stream",
     "text": [
      "CAPSD_BPIF1/22-73 ['PDB; 1IFK A; 1-50;']\n",
      "CAPSD_BPIKE/30-81 ['PDB; 1IFL A; 1-52;']\n",
      "CAPSD_BPM13/24-72 ['PDB; 2MJZ V; 1-49;', 'PDB; 2MJZ S; 1-49;', 'PDB; 2MJZ N; 1-49;', 'PDB; 2MJZ C; 1-49;', 'PDB; 2MJZ M; 1-49;', 'PDB; 2MJZ g; 1-49;', 'PDB; 2MJZ D; 1-49;', 'PDB; 2MJZ h; 1-49;', 'PDB; 2CPS A; 1-49;', 'PDB; 2MJZ a; 1-49;', 'PDB; 2MJZ A; 1-49;', 'PDB; 2CPB A; 1-49;', 'PDB; 2MJZ Q; 1-49;', 'PDB; 2MJZ H; 1-49;', 'PDB; 2MJZ Z; 1-49;', 'PDB; 2MJZ I; 1-49;', 'PDB; 2MJZ J; 1-49;', 'PDB; 2MJZ G; 1-49;', 'PDB; 2MJZ E; 1-49;', 'PDB; 2MJZ K; 1-49;', 'PDB; 2MJZ i; 1-49;', 'PDB; 2MJZ U; 1-49;', 'PDB; 2MJZ B; 1-49;', 'PDB; 2MJZ L; 1-49;', 'PDB; 2MJZ O; 1-49;', 'PDB; 2MJZ e; 1-49;', 'PDB; 2MJZ F; 1-49;', 'PDB; 2MJZ X; 1-49;', 'PDB; 2MJZ d; 1-49;', 'PDB; 2MJZ Y; 1-49;', 'PDB; 2MJZ R; 1-49;', 'PDB; 2MJZ f; 1-49;', 'PDB; 2MJZ T; 1-49;', 'PDB; 2MJZ c; 1-49;', 'PDB; 2MJZ W; 1-49;', 'PDB; 2MJZ b; 1-49;', 'PDB; 2MJZ P; 1-49;']\n"
     ]
    }
   ],
   "source": [
    "for record in alignment:\n",
    "    if record.dbxrefs:\n",
    "        print(record.id, record.dbxrefs)"
   ]
  },
  {
   "cell_type": "code",
   "execution_count": 64,
   "id": "2d838160-4a93-446b-8172-f3d8e3a159cd",
   "metadata": {},
   "outputs": [
    {
     "name": "stdout",
     "output_type": "stream",
     "text": [
      "Alignment with 20 rows and 82 columns\n",
      "--------------------agtanat----EP-TAAEAAFTAL...--- A0A1J0VHQ7_9GAMM/29-82\n",
      "--------------------------a---------ASAAFDAV...--- A0A085DSG1_9GAMM/1-44\n",
      "---------------------------AEGDDP---AKAAFNSL...--- A0A0P9AAU4_9GAMM/24-72\n",
      "---------------------aessip-------QPAQDAITSI...v-- K8W5V2_9GAMM/28-78\n",
      "--------------------------f-AADDATSQAKAAFDSL...--- CAPSD_BPIF1/22-73\n",
      "---------aalvatgaanaaatldps---------VAAAFTAI...--- G0AGW2_COLFT/20-80\n",
      "---------------------------AEPNAATNYATEAMDSL...--- CAPSD_BPIKE/30-81\n",
      "-------------------sganaalp-------AAATTAFTDL...--- G0A214_METMM/20-72\n",
      "adrarakqaaaaaalsvaamsaqaelp-------AAATAAITAV...--- N6Z3H0_9RHOO/17-88\n",
      "--------------------ttlppev----------TAAFTGI...--- A0A1I3UID1_9ALTE/3-51\n",
      "-------------------asaaahaq------EAAASAAFDAV...--- A0A085DVW1_9GAMM/10-63\n",
      "------------------------age---GASTDYAGQAMDSL...--- A0A1S8Y744_9ENTR/27-78\n",
      "------------------------ign-----AQADASAAFSEI...--- A0A1U9RGB5_9GAMM/30-79\n",
      "---------------------------AEGDDP---AKAAFNSL...--- CAPSD_BPM13/24-72\n",
      "----------------------aalpa--------EAQAAMDEL...tkq A0A090R4K9_9VIBR/20-68\n",
      "---------------------------AEGDDP---AKAAFNSL...--- A0A0P9AYN8_9PROT/24-72\n",
      "--------------------------d-GTSTATSYATEAMNSL...--- CAPSD_BPI22/32-83\n",
      "-----------------------vhaq----EA-SGAAAAFDEV...--- A0A2A3XI27_9GAMM/32-82\n",
      "----------------asgsanaalpa--------HVTDAFTAV...--- A0A1E5CL89_9VIBR/22-76\n",
      "---------------------ahaqea-------PGASAAFSAI...--- A0A291JUA2_9GAMM/34-84\n"
     ]
    }
   ],
   "source": [
    "print(alignment)"
   ]
  },
  {
   "cell_type": "code",
   "execution_count": 65,
   "id": "bbf8958a-d7d7-4d08-be56-8448b28785d9",
   "metadata": {},
   "outputs": [
    {
     "name": "stdout",
     "output_type": "stream",
     "text": [
      "Alignment with 20 rows and 6 columns\n",
      "------ A0A1J0VHQ7_9GAMM/29-82\n",
      "------ A0A085DSG1_9GAMM/1-44\n",
      "------ A0A0P9AAU4_9GAMM/24-72\n",
      "------ K8W5V2_9GAMM/28-78\n",
      "------ CAPSD_BPIF1/22-73\n",
      "------ G0AGW2_COLFT/20-80\n",
      "------ CAPSD_BPIKE/30-81\n",
      "------ G0A214_METMM/20-72\n",
      "adrara N6Z3H0_9RHOO/17-88\n",
      "------ A0A1I3UID1_9ALTE/3-51\n",
      "------ A0A085DVW1_9GAMM/10-63\n",
      "------ A0A1S8Y744_9ENTR/27-78\n",
      "------ A0A1U9RGB5_9GAMM/30-79\n",
      "------ CAPSD_BPM13/24-72\n",
      "------ A0A090R4K9_9VIBR/20-68\n",
      "------ A0A0P9AYN8_9PROT/24-72\n",
      "------ CAPSD_BPI22/32-83\n",
      "------ A0A2A3XI27_9GAMM/32-82\n",
      "------ A0A1E5CL89_9VIBR/22-76\n",
      "------ A0A291JUA2_9GAMM/34-84\n"
     ]
    }
   ],
   "source": [
    "print(alignment[:,:6])"
   ]
  },
  {
   "cell_type": "code",
   "execution_count": 66,
   "id": "0aa34f46-6c9a-4375-8a60-2352ed024c68",
   "metadata": {},
   "outputs": [],
   "source": [
    "import os"
   ]
  },
  {
   "cell_type": "code",
   "execution_count": 67,
   "id": "534c96e1-3296-4396-bb56-8ed3480d08c2",
   "metadata": {},
   "outputs": [],
   "source": [
    "from Bio.Align.Applications import ClustalOmegaCommandline"
   ]
  },
  {
   "cell_type": "code",
   "execution_count": null,
   "id": "53eea6fa-1e32-405e-8f65-79a96419039d",
   "metadata": {},
   "outputs": [],
   "source": [
    "clustalo_exe = r\"/usr/bin/clustalo\""
   ]
  },
  {
   "cell_type": "code",
   "execution_count": 68,
   "id": "cab42af6-8a78-47df-8fc1-1140215c22ce",
   "metadata": {},
   "outputs": [],
   "source": [
    "clustalomega_cline = ClustalOmegaCommandline(infile=\"BRCA2_multi.fa\", outfile=\"BRCA2_multi.clustalo\", verbose=True, auto=True)"
   ]
  },
  {
   "cell_type": "code",
   "execution_count": 69,
   "id": "d9fe00cc-7123-468b-8cf4-577b89c0b940",
   "metadata": {},
   "outputs": [
    {
     "name": "stdout",
     "output_type": "stream",
     "text": [
      "clustalo -i BRCA2_multi.fa -o BRCA2_multi.clustalo --auto -v\n"
     ]
    }
   ],
   "source": [
    "print(clustalomega_cline)"
   ]
  },
  {
   "cell_type": "code",
   "execution_count": null,
   "id": "8ec0609c-d294-4d47-80cd-3afb825d7f36",
   "metadata": {},
   "outputs": [],
   "source": [
    "assert os.path.isfile(clustalo_exe), \"Clustal O executable missing\""
   ]
  },
  {
   "cell_type": "code",
   "execution_count": null,
   "id": "c04f25ad-357a-472a-b7f4-4ad6818d5893",
   "metadata": {},
   "outputs": [],
   "source": [
    "stdout, stderr = clustalomega_cline()"
   ]
  },
  {
   "cell_type": "code",
   "execution_count": null,
   "id": "5649e89d-16e4-46ac-9694-b9964c95d2f4",
   "metadata": {},
   "outputs": [],
   "source": [
    "from Bio import AlignIO"
   ]
  },
  {
   "cell_type": "code",
   "execution_count": null,
   "id": "dbcb7c63-01e5-48a6-aee0-fbf2813d7886",
   "metadata": {},
   "outputs": [],
   "source": [
    "align = AlignIO.read(\"msa_example.aln\", \"clustal\")"
   ]
  },
  {
   "cell_type": "code",
   "execution_count": null,
   "id": "cef6e731-6d35-4551-bc88-29bfbe51920f",
   "metadata": {},
   "outputs": [],
   "source": [
    "print(align)"
   ]
  },
  {
   "cell_type": "code",
   "execution_count": 70,
   "id": "d168f80a-4474-4897-abfb-9d5a2ada4f5b",
   "metadata": {},
   "outputs": [],
   "source": [
    "from Bio import Phylo"
   ]
  },
  {
   "cell_type": "code",
   "execution_count": 71,
   "id": "ff745a2f-d6ea-43e3-a741-dcadb390243b",
   "metadata": {},
   "outputs": [],
   "source": [
    "tree = Phylo.read(\"msa_example.dnd\", \"newick\")"
   ]
  },
  {
   "cell_type": "code",
   "execution_count": 72,
   "id": "d45b666d-b703-4b04-8a57-532da65b3340",
   "metadata": {},
   "outputs": [
    {
     "name": "stdout",
     "output_type": "stream",
     "text": [
      "  _______________________________________________________________________ test1\n",
      " |\n",
      "_|______ test2\n",
      " |\n",
      " |________________________________________________________ test3\n",
      "\n"
     ]
    }
   ],
   "source": [
    "Phylo.draw_ascii(tree)"
   ]
  },
  {
   "cell_type": "code",
   "execution_count": 73,
   "id": "d3685d88-c9f4-409c-8911-b316fff533bb",
   "metadata": {},
   "outputs": [],
   "source": [
    "from Bio.Blast import NCBIWWW"
   ]
  },
  {
   "cell_type": "code",
   "execution_count": 74,
   "id": "cef98a10-5b1a-47f8-a407-586c4b543c02",
   "metadata": {},
   "outputs": [
    {
     "ename": "KeyboardInterrupt",
     "evalue": "",
     "output_type": "error",
     "traceback": [
      "\u001b[0;31m---------------------------------------------------------------------------\u001b[0m",
      "\u001b[0;31mKeyboardInterrupt\u001b[0m                         Traceback (most recent call last)",
      "Cell \u001b[0;32mIn[74], line 1\u001b[0m\n\u001b[0;32m----> 1\u001b[0m result_handle \u001b[38;5;241m=\u001b[39m \u001b[43mNCBIWWW\u001b[49m\u001b[38;5;241;43m.\u001b[39;49m\u001b[43mqblast\u001b[49m\u001b[43m(\u001b[49m\u001b[38;5;124;43m\"\u001b[39;49m\u001b[38;5;124;43mblastn\u001b[39;49m\u001b[38;5;124;43m\"\u001b[39;49m\u001b[43m,\u001b[49m\u001b[43m \u001b[49m\u001b[38;5;124;43m\"\u001b[39;49m\u001b[38;5;124;43mnt\u001b[39;49m\u001b[38;5;124;43m\"\u001b[39;49m\u001b[43m,\u001b[49m\u001b[43m \u001b[49m\u001b[38;5;124;43m\"\u001b[39;49m\u001b[38;5;124;43m8332116\u001b[39;49m\u001b[38;5;124;43m\"\u001b[39;49m\u001b[43m)\u001b[49m\n",
      "File \u001b[0;32m~/anaconda3/lib/python3.8/site-packages/Bio/Blast/NCBIWWW.py:246\u001b[0m, in \u001b[0;36mqblast\u001b[0;34m(program, database, sequence, url_base, auto_format, composition_based_statistics, db_genetic_code, endpoints, entrez_query, expect, filter, gapcosts, genetic_code, hitlist_size, i_thresh, layout, lcase_mask, matrix_name, nucl_penalty, nucl_reward, other_advanced, perc_ident, phi_pattern, query_file, query_believe_defline, query_from, query_to, searchsp_eff, service, threshold, ungapped_alignment, word_size, short_query, alignments, alignment_view, descriptions, entrez_links_new_window, expect_low, expect_high, format_entrez_query, format_object, format_type, ncbi_gi, results_file, show_overview, megablast, template_type, template_length)\u001b[0m\n\u001b[1;32m    244\u001b[0m wait \u001b[38;5;241m=\u001b[39m qblast\u001b[38;5;241m.\u001b[39m_previous \u001b[38;5;241m+\u001b[39m delay \u001b[38;5;241m-\u001b[39m current\n\u001b[1;32m    245\u001b[0m \u001b[38;5;28;01mif\u001b[39;00m wait \u001b[38;5;241m>\u001b[39m \u001b[38;5;241m0\u001b[39m:\n\u001b[0;32m--> 246\u001b[0m     \u001b[43mtime\u001b[49m\u001b[38;5;241;43m.\u001b[39;49m\u001b[43msleep\u001b[49m\u001b[43m(\u001b[49m\u001b[43mwait\u001b[49m\u001b[43m)\u001b[49m\n\u001b[1;32m    247\u001b[0m     qblast\u001b[38;5;241m.\u001b[39m_previous \u001b[38;5;241m=\u001b[39m current \u001b[38;5;241m+\u001b[39m wait\n\u001b[1;32m    248\u001b[0m \u001b[38;5;28;01melse\u001b[39;00m:\n",
      "\u001b[0;31mKeyboardInterrupt\u001b[0m: "
     ]
    }
   ],
   "source": [
    "result_handle = NCBIWWW.qblast(\"blastn\", \"nt\", \"8332116\")"
   ]
  },
  {
   "cell_type": "code",
   "execution_count": 75,
   "id": "8e7aad32-e7b0-40db-9d21-f93a74a76c0f",
   "metadata": {},
   "outputs": [],
   "source": [
    "from Bio.Blast import NCBIXML"
   ]
  },
  {
   "cell_type": "code",
   "execution_count": null,
   "id": "e12558ac-527c-45d0-bb6d-c05ae33f1215",
   "metadata": {},
   "outputs": [],
   "source": [
    "blast_record = NCBIXML.read(result_handle)"
   ]
  },
  {
   "cell_type": "code",
   "execution_count": 76,
   "id": "f95ab136-d16e-4ecf-91f6-479cc46d1b19",
   "metadata": {},
   "outputs": [
    {
     "name": "stdout",
     "output_type": "stream",
     "text": [
      "\n",
      "\n",
      "query: NG_007114.1:4986-6416 Homo sapiens insulin (INS), RefSeqGene on chromosome 11\n",
      "match: gi|1028630736|ref|NG_050578.1| Homo sapiens INS-IGF2 readthrough (INS-IGF2), RefSeqGene on chromosom \n",
      "match: gi|161086962|ref|NG_007114.1| Homo sapiens insulin (INS), RefSeqGene on chromosome 11 \n",
      "match: gi|28460836|gb|AC132217.15| Homo sapiens chromosome 11, clone RP11-889I17, complete sequence \n",
      "match: gi|186437|gb|M10039.1|HUMINSPR Human alpha-type insulin gene and 5' flanking polymorphic region \n",
      "match: gi|1036032746|gb|AH002844.2| Homo sapiens insulin (INS) gene, complete cds \n",
      "match: gi|307071|gb|L15440.1|HUMINSTHIG Homo sapiens tyrosine hydroxylase (TH) gene, 3' end; insulin (INS)  \n",
      "match: gi|33930|emb|V00565.1| Human gene for preproinsulin, from chromosome 11. Includes a highly polymorph \n",
      "match: gi|1036031581|gb|AH012037.2| Homo sapiens haplotype ICa tyrosine hydroxylase (TH) gene, partial sequ \n",
      "match: gi|26190552|gb|AC130303.8| Homo sapiens chromosome 11, clone RP4-539G11, complete sequence \n",
      "match: gi|3776077|emb|AJ009655.1| Homo sapiens ins gene, partial \n",
      "match: gi|1036031555|gb|AH011815.2| Gorilla gorilla tyrosine hydroxylase (TH) gene, partial cds; tyrosine h \n",
      "match: gi|1036031554|gb|AH011814.2| Pan troglodytes tyrosine hydroxylase (TH) gene, partial cds; and insuli \n",
      "match: gi|38251|emb|X61089.1| P.troglodytes gene for preproinsulin \n",
      "match: gi|1036031556|gb|AH011816.2| Pongo pygmaeus tyrosine hydroxylase (TH) gene, partial cds; tyrosine hy \n",
      "match: gi|168986623|gb|AC199962.4| Pongo abelii BAC clone CH276-476G11 from chromosome unknown, complete se \n",
      "match: gi|22808|emb|X61092.1| C.aethiops gene for preproinsulin \n",
      "match: gi|23379795|gb|AY092023.1| Gorilla gorilla insulin gene, partial cds \n",
      "match: gi|23379797|gb|AY092024.1| Pongo pygmaeus insulin gene, partial cds \n",
      "match: gi|176555|gb|J02989.1|ATRINS Owl monkey (A.trivirgatus) insulin gene, complete cds \n",
      "match: gi|1843419891|ref|NM_001185098.2| Homo sapiens insulin (INS), transcript variant 3, mRNA \n",
      "match: gi|1843419891|ref|NM_001185098.2| Homo sapiens insulin (INS), transcript variant 3, mRNA \n",
      "match: gi|1849004674|ref|XM_034931941.1| PREDICTED: Pan paniscus insulin (INS), mRNA \n",
      "match: gi|1849004674|ref|XM_034931941.1| PREDICTED: Pan paniscus insulin (INS), mRNA \n",
      "match: gi|1034085319|ref|XM_016919751.1| PREDICTED: Pan troglodytes insulin (INS), transcript variant X1, m \n",
      "match: gi|1034085319|ref|XM_016919751.1| PREDICTED: Pan troglodytes insulin (INS), transcript variant X1, m \n",
      "match: gi|1777267316|ref|XM_017948138.3| PREDICTED: Papio anubis insulin (INS), transcript variant X1, mRNA \n",
      "match: gi|1777267316|ref|XM_017948138.3| PREDICTED: Papio anubis insulin (INS), transcript variant X1, mRNA \n",
      "match: gi|1411103763|ref|XM_025355226.1| PREDICTED: Theropithecus gelada insulin (INS), transcript variant  \n",
      "match: gi|1411103763|ref|XM_025355226.1| PREDICTED: Theropithecus gelada insulin (INS), transcript variant  \n",
      "match: gi|1938827703|ref|XM_008004561.2| PREDICTED: Chlorocebus sabaeus insulin (INS), transcript variant X \n",
      "match: gi|1938827703|ref|XM_008004561.2| PREDICTED: Chlorocebus sabaeus insulin (INS), transcript variant X \n",
      "match: gi|1938827691|ref|XM_008004390.2| PREDICTED: Chlorocebus sabaeus tyrosine hydroxylase (TH), transcri \n",
      "match: gi|1938827691|ref|XM_008004390.2| PREDICTED: Chlorocebus sabaeus tyrosine hydroxylase (TH), transcri \n",
      "match: gi|1938827690|ref|XM_008004333.2| PREDICTED: Chlorocebus sabaeus tyrosine hydroxylase (TH), transcri \n",
      "match: gi|1938827690|ref|XM_008004333.2| PREDICTED: Chlorocebus sabaeus tyrosine hydroxylase (TH), transcri \n",
      "match: gi|1297703552|ref|XM_023183519.1| PREDICTED: Piliocolobus tephrosceles insulin (INS), transcript var \n",
      "match: gi|1297703552|ref|XM_023183519.1| PREDICTED: Piliocolobus tephrosceles insulin (INS), transcript var \n",
      "match: gi|729773940|dbj|LC010798.1| Homo sapiens DNA, minisatellite:Seq14 \n",
      "match: gi|729773956|dbj|LC010814.1| Homo sapiens DNA, minisatellite:Seq30 >gi|731164368|dbj|LC010957.1| Hom \n",
      "match: gi|729773928|dbj|LC010786.1| Homo sapiens DNA, minisatellite:Seq2 \n",
      "match: gi|729773941|dbj|LC010799.1| Homo sapiens DNA, minisatellite:Seq15 \n",
      "match: gi|729773938|dbj|LC010796.1| Homo sapiens DNA, minisatellite:Seq12 \n",
      "match: gi|729773934|dbj|LC010792.1| Homo sapiens DNA, minisatellite:Seq8 \n",
      "match: gi|729773949|dbj|LC010807.1| Homo sapiens DNA, minisatellite:Seq23 \n",
      "match: gi|729773939|dbj|LC010797.1| Homo sapiens DNA, minisatellite:Seq13 \n",
      "match: gi|729773955|dbj|LC010813.1| Homo sapiens DNA, minisatellite:Seq29 \n",
      "match: gi|729773929|dbj|LC010787.1| Homo sapiens DNA, minisatellite:Seq3 >gi|729773930|dbj|LC010788.1| Homo \n",
      "match: gi|729773944|dbj|LC010802.1| Homo sapiens DNA, minisatellite:Seq18 \n",
      "match: gi|1059087098|ref|XM_017887801.1| PREDICTED: Rhinopithecus bieti insulin (INS), transcript variant X \n",
      "match: gi|1059087098|ref|XM_017887801.1| PREDICTED: Rhinopithecus bieti insulin (INS), transcript variant X \n",
      "match: gi|729773942|dbj|LC010800.1| Homo sapiens DNA, minisatellite:Seq16 \n",
      "match: gi|729773942|dbj|LC010800.1| Homo sapiens DNA, minisatellite:Seq16 \n",
      "match: gi|1411103765|ref|XM_025355227.1| PREDICTED: Theropithecus gelada insulin (INS), transcript variant  \n",
      "match: gi|1411103765|ref|XM_025355227.1| PREDICTED: Theropithecus gelada insulin (INS), transcript variant  \n",
      "match: gi|729773933|dbj|LC010791.1| Homo sapiens DNA, minisatellite:Seq7 \n",
      "match: gi|1411103761|ref|XM_025355224.1| PREDICTED: Theropithecus gelada insulin (INS), transcript variant  \n",
      "match: gi|729773953|dbj|LC010811.1| Homo sapiens DNA, minisatellite:Seq27 \n",
      "match: gi|729773948|dbj|LC010806.1| Homo sapiens DNA, minisatellite:Seq22 \n",
      "match: gi|731164365|dbj|LC010954.1| Homo sapiens DNA, minisatellite:Seq1 \n",
      "match: gi|729773954|dbj|LC010812.1| Homo sapiens DNA, minisatellite:Seq28 >gi|731164367|dbj|LC010956.1| Hom \n",
      "match: gi|729773943|dbj|LC010801.1| Homo sapiens DNA, minisatellite:Seq17 \n",
      "match: gi|729773937|dbj|LC010795.1| Homo sapiens DNA, minisatellite:Seq11 \n"
     ]
    }
   ],
   "source": [
    "E_VALUE_THRESH = 1e-20\n",
    "for record in NCBIXML.parse(open(\"insulin.xml\")):\n",
    "    if record.alignments:\n",
    "        print(\"\\n\")\n",
    "        print(\"query: %s\" % record.query[:100])\n",
    "        for align in record.alignments:\n",
    "            for hsp in align.hsps:\n",
    "                if hsp.expect < E_VALUE_THRESH:\n",
    "                    print(\"match: %s \" % align.title[:100])"
   ]
  },
  {
   "cell_type": "code",
   "execution_count": 77,
   "id": "a2a90db8-0a3f-4d0b-9cf7-387fc4d08cab",
   "metadata": {},
   "outputs": [],
   "source": [
    "from Bio import Entrez"
   ]
  },
  {
   "cell_type": "code",
   "execution_count": 87,
   "id": "80e84c4f-9882-4d70-9e27-f6a2c846ddb3",
   "metadata": {},
   "outputs": [],
   "source": [
    "handle = Entrez.esearch(db=\"nucleotide\",term=\"Homo sapiens[Orgn] AND INS[Gene]\")"
   ]
  },
  {
   "cell_type": "code",
   "execution_count": 79,
   "id": "493524e1-4177-4fdd-828a-e0c81bb48c46",
   "metadata": {},
   "outputs": [],
   "source": [
    "Entrez.email='pieterdb@irc.vib-ugent.be'"
   ]
  },
  {
   "cell_type": "code",
   "execution_count": 80,
   "id": "394d90c9-c847-4c53-830b-339b525b6255",
   "metadata": {},
   "outputs": [],
   "source": [
    "record = Entrez.read(handle)"
   ]
  },
  {
   "cell_type": "code",
   "execution_count": 81,
   "id": "4dae0dad-fa78-4ec4-be47-3543b15707d8",
   "metadata": {
    "scrolled": true
   },
   "outputs": [
    {
     "name": "stdout",
     "output_type": "stream",
     "text": [
      "['1028630736', '161086962', '568815587', '2194973393', '1843419891', '1677531262', '1677529882', '1677499294', '2385826524', '1883396571', '1883396569', '1883396567', '1883396565', '1883396563', '1883396560', '1878291136', '333826818', '123999447', '1036032746', '1036031581']\n"
     ]
    }
   ],
   "source": [
    "print (record[\"IdList\"])"
   ]
  },
  {
   "cell_type": "code",
   "execution_count": 82,
   "id": "fd1b305b",
   "metadata": {
    "scrolled": true
   },
   "outputs": [
    {
     "data": {
      "text/plain": [
       "{'Count': '36', 'RetMax': '20', 'RetStart': '0', 'IdList': ['1028630736', '161086962', '568815587', '2194973393', '1843419891', '1677531262', '1677529882', '1677499294', '2385826524', '1883396571', '1883396569', '1883396567', '1883396565', '1883396563', '1883396560', '1878291136', '333826818', '123999447', '1036032746', '1036031581'], 'TranslationSet': [{'From': 'Homo sapiens[Orgn]', 'To': '\"Homo sapiens\"[Organism]'}], 'TranslationStack': [{'Term': '\"Homo sapiens\"[Organism]', 'Field': 'Organism', 'Count': '28486319', 'Explode': 'Y'}, {'Term': 'INS[Gene]', 'Field': 'Gene', 'Count': '1511', 'Explode': 'N'}, 'AND'], 'QueryTranslation': '\"Homo sapiens\"[Organism] AND INS[Gene]'}"
      ]
     },
     "execution_count": 82,
     "metadata": {},
     "output_type": "execute_result"
    }
   ],
   "source": [
    "record"
   ]
  },
  {
   "cell_type": "code",
   "execution_count": 89,
   "id": "897e803c",
   "metadata": {},
   "outputs": [],
   "source": [
    "handle = Entrez.efetch(db=\"nucleotide\", id=\"333826818\", rettype=\"gb\", retmode=\"text\")"
   ]
  },
  {
   "cell_type": "code",
   "execution_count": 84,
   "id": "799d4f0c",
   "metadata": {
    "scrolled": false
   },
   "outputs": [
    {
     "name": "stdout",
     "output_type": "stream",
     "text": [
      "LOCUS       JF909299                 285 bp    mRNA    linear   PRI 25-JUL-2016\n",
      "DEFINITION  Homo sapiens insulin (INS) mRNA, partial cds.\n",
      "ACCESSION   JF909299\n",
      "VERSION     JF909299.1\n",
      "KEYWORDS    .\n",
      "SOURCE      Homo sapiens (human)\n",
      "  ORGANISM  Homo sapiens\n",
      "            Eukaryota; Metazoa; Chordata; Craniata; Vertebrata; Euteleostomi;\n",
      "            Mammalia; Eutheria; Euarchontoglires; Primates; Haplorrhini;\n",
      "            Catarrhini; Hominidae; Homo.\n",
      "REFERENCE   1  (bases 1 to 285)\n",
      "  AUTHORS   Piri,H., Kazemi,B., Bandehpour,M., Rezaei,M., Goodarzi,M.T.,\n",
      "            Khodadadi,I., Hasanzadeh,T., Sirati Sabet,M., Tasa,D.,\n",
      "            Heidari,H.R., Karimi,J., Yari Khosroshahi,A., Eghdami,A. and\n",
      "            Tavakkoli,A.H.\n",
      "  TITLE     Preparation of human insulin gene construct in order to use in\n",
      "            diabetes mellitus gene therapy\n",
      "  JOURNAL   Unpublished\n",
      "REFERENCE   2  (bases 1 to 285)\n",
      "  AUTHORS   Piri,H., Kazemi,B., Bandehpour,M., Rezaei,M., Goodarzi,M.T.,\n",
      "            Khodadadi,I., Hasanzadeh,T., Sirati Sabet,M., Tasa,D.,\n",
      "            Heidari,H.R., Karimi,J., Yari Khosroshahi,A., Eghdami,A. and\n",
      "            Tavakkoli,A.H.\n",
      "  TITLE     Direct Submission\n",
      "  JOURNAL   Submitted (09-APR-2011) Biochemistry, Qazvin University of Medical\n",
      "            Science, Bahonar Blvd., Qazvin 3419759811, Iran\n",
      "FEATURES             Location/Qualifiers\n",
      "     source          1..285\n",
      "                     /organism=\"Homo sapiens\"\n",
      "                     /mol_type=\"mRNA\"\n",
      "                     /db_xref=\"taxon:9606\"\n",
      "                     /clone=\"pBindIns\"\n",
      "                     /sex=\"male\"\n",
      "                     /tissue_type=\"pancreas\"\n",
      "                     /country=\"Iran\"\n",
      "                     /PCR_primers=\"fwd_name: INS-fwd, fwd_seq:\n",
      "                     cttggaagcttatggccctgtggatgcgc, rev_name: INS-rev, rev_seq:\n",
      "                     gcttactcgagctagttgcagtagttctccag\"\n",
      "     gene            <1..>285\n",
      "                     /gene=\"INS\"\n",
      "     CDS             <1..>285\n",
      "                     /gene=\"INS\"\n",
      "                     /note=\"decreases blood glucose concentration and increases\n",
      "                     cell permeability to monosaccharides, amino acids and\n",
      "                     fatty acids; accelerates glycolysis, pentose phosphate\n",
      "                     cycle, and glycogen synthesis in liver\"\n",
      "                     /codon_start=2\n",
      "                     /product=\"insulin\"\n",
      "                     /protein_id=\"AEG19452.1\"\n",
      "                     /translation=\"WGPDPAAAFVNQHLCGSHLVEALYLVCGERGFFYTPKTRREAED\n",
      "                     LQVGQVELGGGPGAGSLQPLALEGSLQKRGIVEQCCTSICSLYQLENYCN\"\n",
      "     sig_peptide     <1..25\n",
      "                     /gene=\"INS\"\n",
      "     misc_feature    26..115\n",
      "                     /gene=\"INS\"\n",
      "                     /note=\"insulin B chain\"\n",
      "     misc_feature    124..216\n",
      "                     /gene=\"INS\"\n",
      "                     /note=\"C-peptide\"\n",
      "     misc_feature    223..>285\n",
      "                     /gene=\"INS\"\n",
      "                     /note=\"insulin A chain\"\n",
      "ORIGIN      \n",
      "        1 ctggggacct gacccagccg cagcctttgt gaaccaacac ctgtgcggct cacacctggt\n",
      "       61 ggaagctctc tacctagtgt gcggggaacg aggcttcttc tacacaccca agacccgccg\n",
      "      121 ggaggcagag gacctgcagg tggggcaggt ggagctgggc gggggccctg gtgcaggcag\n",
      "      181 cctgcagccc ttggccctgg aggggtccct gcagaagcgt ggcattgtgg aacaatgctg\n",
      "      241 taccagcatc tgctccctct accagctgga gaactactgc aacta\n",
      "//\n",
      "\n",
      "\n"
     ]
    }
   ],
   "source": [
    "print(handle.read())"
   ]
  },
  {
   "cell_type": "code",
   "execution_count": 85,
   "id": "44c08228",
   "metadata": {},
   "outputs": [],
   "source": [
    "from Bio import SeqIO"
   ]
  },
  {
   "cell_type": "code",
   "execution_count": 90,
   "id": "b479867b",
   "metadata": {},
   "outputs": [],
   "source": [
    "record=SeqIO.read(handle,\"genbank\")"
   ]
  },
  {
   "cell_type": "code",
   "execution_count": null,
   "id": "8e17f62c",
   "metadata": {},
   "outputs": [],
   "source": []
  },
  {
   "cell_type": "code",
   "execution_count": 91,
   "id": "0287b88b",
   "metadata": {},
   "outputs": [
    {
     "name": "stdout",
     "output_type": "stream",
     "text": [
      "ID: JF909299.1\n",
      "Name: JF909299\n",
      "Description: Homo sapiens insulin (INS) mRNA, partial cds\n",
      "Number of features: 7\n",
      "/molecule_type=mRNA\n",
      "/topology=linear\n",
      "/data_file_division=PRI\n",
      "/date=25-JUL-2016\n",
      "/accessions=['JF909299']\n",
      "/sequence_version=1\n",
      "/keywords=['']\n",
      "/source=Homo sapiens (human)\n",
      "/organism=Homo sapiens\n",
      "/taxonomy=['Eukaryota', 'Metazoa', 'Chordata', 'Craniata', 'Vertebrata', 'Euteleostomi', 'Mammalia', 'Eutheria', 'Euarchontoglires', 'Primates', 'Haplorrhini', 'Catarrhini', 'Hominidae', 'Homo']\n",
      "/references=[Reference(title='Preparation of human insulin gene construct in order to use in diabetes mellitus gene therapy', ...), Reference(title='Direct Submission', ...)]\n",
      "Seq('CTGGGGACCTGACCCAGCCGCAGCCTTTGTGAACCAACACCTGTGCGGCTCACA...CTA')\n"
     ]
    }
   ],
   "source": [
    "print(record)"
   ]
  },
  {
   "cell_type": "code",
   "execution_count": null,
   "id": "fb84e1d7",
   "metadata": {},
   "outputs": [],
   "source": []
  }
 ],
 "metadata": {
  "kernelspec": {
   "display_name": "Python 3 (ipykernel)",
   "language": "python",
   "name": "python3"
  },
  "language_info": {
   "codemirror_mode": {
    "name": "ipython",
    "version": 3
   },
   "file_extension": ".py",
   "mimetype": "text/x-python",
   "name": "python",
   "nbconvert_exporter": "python",
   "pygments_lexer": "ipython3",
   "version": "3.8.12"
  }
 },
 "nbformat": 4,
 "nbformat_minor": 5
}
