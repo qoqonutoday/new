{
 "cells": [
  {
   "cell_type": "code",
   "execution_count": 1,
   "id": "a9d04dda",
   "metadata": {},
   "outputs": [],
   "source": [
    "from Bio.Seq import Seq"
   ]
  },
  {
   "cell_type": "code",
   "execution_count": 2,
   "id": "d74eca6b",
   "metadata": {},
   "outputs": [],
   "source": [
    "my_seq=Seq(\"TATAATT\")"
   ]
  },
  {
   "cell_type": "code",
   "execution_count": 3,
   "id": "291d836f",
   "metadata": {},
   "outputs": [
    {
     "data": {
      "text/plain": [
       "Seq('TATAATT')"
      ]
     },
     "execution_count": 3,
     "metadata": {},
     "output_type": "execute_result"
    }
   ],
   "source": [
    "my_seq"
   ]
  }
 ],
 "metadata": {
  "kernelspec": {
   "display_name": "Python 3 (ipykernel)",
   "language": "python",
   "name": "python3"
  },
  "language_info": {
   "codemirror_mode": {
    "name": "ipython",
    "version": 3
   },
   "file_extension": ".py",
   "mimetype": "text/x-python",
   "name": "python",
   "nbconvert_exporter": "python",
   "pygments_lexer": "ipython3",
   "version": "3.10.4"
  }
 },
 "nbformat": 4,
 "nbformat_minor": 5
}
