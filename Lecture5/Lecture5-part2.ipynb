{
 "cells": [
  {
   "cell_type": "markdown",
   "id": "7e70a3c8",
   "metadata": {},
   "source": [
    "### Biopython motif objects"
   ]
  },
  {
   "cell_type": "code",
   "execution_count": 1,
   "id": "ecca49ca",
   "metadata": {},
   "outputs": [],
   "source": [
    "from Bio import motifs"
   ]
  },
  {
   "cell_type": "code",
   "execution_count": 2,
   "id": "042c37ad",
   "metadata": {},
   "outputs": [],
   "source": [
    "from Bio.Seq import Seq"
   ]
  },
  {
   "cell_type": "code",
   "execution_count": 3,
   "id": "f805f2bb",
   "metadata": {},
   "outputs": [],
   "source": [
    "instances = [Seq(\"TACAA\"),Seq(\"TACGC\"),Seq(\"TACAC\"),Seq(\"TACCC\"),Seq(\"AACCC\"),Seq(\"AATGC\"),Seq(\"AATGC\")]"
   ]
  },
  {
   "cell_type": "code",
   "execution_count": 4,
   "id": "0a61bdf0",
   "metadata": {},
   "outputs": [
    {
     "data": {
      "text/plain": [
       "[Seq('TACAA'),\n",
       " Seq('TACGC'),\n",
       " Seq('TACAC'),\n",
       " Seq('TACCC'),\n",
       " Seq('AACCC'),\n",
       " Seq('AATGC'),\n",
       " Seq('AATGC')]"
      ]
     },
     "execution_count": 4,
     "metadata": {},
     "output_type": "execute_result"
    }
   ],
   "source": [
    "instances"
   ]
  },
  {
   "cell_type": "code",
   "execution_count": 5,
   "id": "eaee4a8a",
   "metadata": {},
   "outputs": [],
   "source": [
    " m = motifs.create(instances)"
   ]
  },
  {
   "cell_type": "code",
   "execution_count": 6,
   "id": "cd8c759d",
   "metadata": {
    "scrolled": true
   },
   "outputs": [
    {
     "name": "stdout",
     "output_type": "stream",
     "text": [
      "TACAA\n",
      "TACGC\n",
      "TACAC\n",
      "TACCC\n",
      "AACCC\n",
      "AATGC\n",
      "AATGC\n",
      "\n"
     ]
    }
   ],
   "source": [
    " print(m)"
   ]
  },
  {
   "cell_type": "code",
   "execution_count": 7,
   "id": "87c461c6",
   "metadata": {
    "scrolled": true
   },
   "outputs": [
    {
     "name": "stdout",
     "output_type": "stream",
     "text": [
      "        0      1      2      3      4\n",
      "A:   3.00   7.00   0.00   2.00   1.00\n",
      "C:   0.00   0.00   5.00   2.00   6.00\n",
      "G:   0.00   0.00   0.00   3.00   0.00\n",
      "T:   4.00   0.00   2.00   0.00   0.00\n",
      "\n"
     ]
    }
   ],
   "source": [
    "print(m.counts)"
   ]
  },
  {
   "cell_type": "code",
   "execution_count": 8,
   "id": "e8119a2a",
   "metadata": {},
   "outputs": [
    {
     "data": {
      "text/plain": [
       "Seq('TACGC')"
      ]
     },
     "execution_count": 8,
     "metadata": {},
     "output_type": "execute_result"
    }
   ],
   "source": [
    "m.consensus"
   ]
  },
  {
   "cell_type": "code",
   "execution_count": 9,
   "id": "97b32593",
   "metadata": {},
   "outputs": [],
   "source": [
    "arnt = motifs.read(open(\"MA0004.1.sites\"), \"sites\")"
   ]
  },
  {
   "cell_type": "code",
   "execution_count": 10,
   "id": "b38265ed",
   "metadata": {
    "scrolled": true
   },
   "outputs": [
    {
     "name": "stdout",
     "output_type": "stream",
     "text": [
      "        0      1      2      3      4      5\n",
      "A:   4.00  19.00   0.00   0.00   0.00   0.00\n",
      "C:  16.00   0.00  20.00   0.00   0.00   0.00\n",
      "G:   0.00   1.00   0.00  20.00   0.00  20.00\n",
      "T:   0.00   0.00   0.00   0.00  20.00   0.00\n",
      "\n"
     ]
    }
   ],
   "source": [
    " print(arnt.counts)"
   ]
  },
  {
   "cell_type": "code",
   "execution_count": 12,
   "id": "43d45d27",
   "metadata": {},
   "outputs": [
    {
     "name": "stdout",
     "output_type": "stream",
     "text": [
      "[Seq('CACGTG'), Seq('CACGTG'), Seq('CACGTG')]\n"
     ]
    }
   ],
   "source": [
    "print(arnt.instances[:3])"
   ]
  },
  {
   "cell_type": "code",
   "execution_count": 13,
   "id": "4db3bcaa",
   "metadata": {
    "scrolled": true
   },
   "outputs": [
    {
     "name": "stdout",
     "output_type": "stream",
     "text": [
      "CACGTG\n",
      "CACGTG\n",
      "CACGTG\n",
      "CACGTG\n",
      "CACGTG\n",
      "CACGTG\n",
      "CACGTG\n",
      "CACGTG\n",
      "CACGTG\n",
      "CACGTG\n",
      "CACGTG\n",
      "CACGTG\n",
      "CACGTG\n",
      "CACGTG\n",
      "CACGTG\n",
      "AACGTG\n",
      "AACGTG\n",
      "AACGTG\n",
      "AACGTG\n",
      "CGCGTG\n"
     ]
    }
   ],
   "source": [
    "for instance in arnt.instances:\n",
    "    print(instance)"
   ]
  },
  {
   "cell_type": "code",
   "execution_count": 14,
   "id": "a48f06ec",
   "metadata": {},
   "outputs": [],
   "source": [
    "with open(\"SRF.pfm\") as handle:\n",
    "    srf = motifs.read(handle, \"pfm\")"
   ]
  },
  {
   "cell_type": "code",
   "execution_count": 15,
   "id": "2f0c70ee",
   "metadata": {
    "scrolled": true
   },
   "outputs": [
    {
     "name": "stdout",
     "output_type": "stream",
     "text": [
      "        0      1      2      3      4      5      6      7      8      9     10     11\n",
      "A:   2.00   9.00   0.00   1.00  32.00   3.00  46.00   1.00  43.00  15.00   2.00   2.00\n",
      "C:   1.00  33.00  45.00  45.00   1.00   1.00   0.00   0.00   0.00   1.00   0.00   1.00\n",
      "G:  39.00   2.00   1.00   0.00   0.00   0.00   0.00   0.00   0.00   0.00  44.00  43.00\n",
      "T:   4.00   2.00   0.00   0.00  13.00  42.00   0.00  45.00   3.00  30.00   0.00   0.00\n",
      "\n"
     ]
    }
   ],
   "source": [
    "print(srf.counts)"
   ]
  },
  {
   "cell_type": "code",
   "execution_count": 16,
   "id": "d925bef7",
   "metadata": {},
   "outputs": [
    {
     "name": "stdout",
     "output_type": "stream",
     "text": [
      "None\n"
     ]
    }
   ],
   "source": [
    "print(srf.instances)"
   ]
  },
  {
   "cell_type": "code",
   "execution_count": 17,
   "id": "b5ab977e",
   "metadata": {},
   "outputs": [
    {
     "name": "stdout",
     "output_type": "stream",
     "text": [
      "CACGTG\n"
     ]
    }
   ],
   "source": [
    "print(arnt.counts.consensus)"
   ]
  },
  {
   "cell_type": "code",
   "execution_count": 18,
   "id": "8a9c27f2",
   "metadata": {},
   "outputs": [
    {
     "name": "stdout",
     "output_type": "stream",
     "text": [
      "GCCCATATATGG\n"
     ]
    }
   ],
   "source": [
    "print(srf.counts.consensus)"
   ]
  },
  {
   "cell_type": "code",
   "execution_count": 19,
   "id": "515bab4c",
   "metadata": {
    "scrolled": true
   },
   "outputs": [
    {
     "name": "stdout",
     "output_type": "stream",
     "text": [
      "        0      1      2      3      4      5      6      7      8      9     10     11\n",
      "A:   0.04   0.20   0.00   0.02   0.70   0.07   1.00   0.02   0.93   0.33   0.04   0.04\n",
      "C:   0.02   0.72   0.98   0.98   0.02   0.02   0.00   0.00   0.00   0.02   0.00   0.02\n",
      "G:   0.85   0.04   0.02   0.00   0.00   0.00   0.00   0.00   0.00   0.00   0.96   0.93\n",
      "T:   0.09   0.04   0.00   0.00   0.28   0.91   0.00   0.98   0.07   0.65   0.00   0.00\n",
      "\n"
     ]
    }
   ],
   "source": [
    " print(srf.pwm)"
   ]
  },
  {
   "cell_type": "code",
   "execution_count": 20,
   "id": "4ded3bb4",
   "metadata": {},
   "outputs": [
    {
     "name": "stdout",
     "output_type": "stream",
     "text": [
      "        0      1      2      3      4      5      6      7      8      9     10     11\n",
      "A:  -2.52  -0.35   -inf  -3.52   1.48  -1.94   2.00  -3.52   1.90   0.38  -2.52  -2.52\n",
      "C:  -3.52   1.52   1.97   1.97  -3.52  -3.52   -inf   -inf   -inf  -3.52   -inf  -3.52\n",
      "G:   1.76  -2.52  -3.52   -inf   -inf   -inf   -inf   -inf   -inf   -inf   1.94   1.90\n",
      "T:  -1.52  -2.52   -inf   -inf   0.18   1.87   -inf   1.97  -1.94   1.38   -inf   -inf\n",
      "\n"
     ]
    }
   ],
   "source": [
    " print(srf.pssm)"
   ]
  },
  {
   "cell_type": "code",
   "execution_count": 21,
   "id": "6d0b4313",
   "metadata": {
    "scrolled": true
   },
   "outputs": [
    {
     "name": "stdout",
     "output_type": "stream",
     "text": [
      "        0      1      2      3      4      5      6      7      8      9     10     11\n",
      "A:  -2.52  -0.35   -inf  -3.52   1.48  -1.94   2.00  -3.52   1.90   0.38  -2.52  -2.52\n",
      "C:  -3.52   1.52   1.97   1.97  -3.52  -3.52   -inf   -inf   -inf  -3.52   -inf  -3.52\n",
      "G:   1.76  -2.52  -3.52   -inf   -inf   -inf   -inf   -inf   -inf   -inf   1.94   1.90\n",
      "T:  -1.52  -2.52   -inf   -inf   0.18   1.87   -inf   1.97  -1.94   1.38   -inf   -inf\n",
      "\n"
     ]
    }
   ],
   "source": [
    "print(srf.pwm.log_odds())"
   ]
  },
  {
   "cell_type": "markdown",
   "id": "9df370b1",
   "metadata": {},
   "source": [
    "# MEME"
   ]
  },
  {
   "cell_type": "code",
   "execution_count": 22,
   "id": "9bd5ff84",
   "metadata": {},
   "outputs": [],
   "source": [
    "handle = open(\"meme_run_2.xml\")"
   ]
  },
  {
   "cell_type": "code",
   "execution_count": 23,
   "id": "54dace05",
   "metadata": {},
   "outputs": [],
   "source": [
    "record = motifs.parse(handle, \"meme\")"
   ]
  },
  {
   "cell_type": "code",
   "execution_count": 24,
   "id": "c877b04a",
   "metadata": {},
   "outputs": [],
   "source": [
    "handle.close()"
   ]
  },
  {
   "cell_type": "code",
   "execution_count": 25,
   "id": "567e59d1",
   "metadata": {},
   "outputs": [
    {
     "data": {
      "text/plain": [
       "3"
      ]
     },
     "execution_count": 25,
     "metadata": {},
     "output_type": "execute_result"
    }
   ],
   "source": [
    "len(record)"
   ]
  },
  {
   "cell_type": "code",
   "execution_count": 26,
   "id": "2c31d9ae",
   "metadata": {},
   "outputs": [],
   "source": [
    "motif = record[0]"
   ]
  },
  {
   "cell_type": "code",
   "execution_count": 27,
   "id": "18327bb7",
   "metadata": {},
   "outputs": [
    {
     "name": "stdout",
     "output_type": "stream",
     "text": [
      "TGTGTGTG\n"
     ]
    }
   ],
   "source": [
    "print(motif.consensus)"
   ]
  },
  {
   "cell_type": "code",
   "execution_count": 28,
   "id": "fbaa76da",
   "metadata": {},
   "outputs": [
    {
     "name": "stdout",
     "output_type": "stream",
     "text": [
      "TGTGKSTG\n"
     ]
    }
   ],
   "source": [
    "print(motif.degenerate_consensus)"
   ]
  },
  {
   "cell_type": "code",
   "execution_count": 29,
   "id": "acd228c9",
   "metadata": {},
   "outputs": [
    {
     "data": {
      "text/plain": [
       "500"
      ]
     },
     "execution_count": 29,
     "metadata": {},
     "output_type": "execute_result"
    }
   ],
   "source": [
    "motif.num_occurrences"
   ]
  },
  {
   "cell_type": "code",
   "execution_count": 30,
   "id": "b838c619",
   "metadata": {},
   "outputs": [
    {
     "data": {
      "text/plain": [
       "8"
      ]
     },
     "execution_count": 30,
     "metadata": {},
     "output_type": "execute_result"
    }
   ],
   "source": [
    "motif.length"
   ]
  },
  {
   "cell_type": "code",
   "execution_count": 31,
   "id": "65ecb00c",
   "metadata": {},
   "outputs": [],
   "source": [
    "evalue = motif.evalue"
   ]
  },
  {
   "cell_type": "code",
   "execution_count": 32,
   "id": "f237f508",
   "metadata": {},
   "outputs": [
    {
     "name": "stdout",
     "output_type": "stream",
     "text": [
      "0.04\n"
     ]
    }
   ],
   "source": [
    " print(\"%3.1g\" % evalue)"
   ]
  },
  {
   "cell_type": "code",
   "execution_count": 33,
   "id": "ad19d795",
   "metadata": {},
   "outputs": [
    {
     "data": {
      "text/plain": [
       "'TGTGKSTG'"
      ]
     },
     "execution_count": 33,
     "metadata": {},
     "output_type": "execute_result"
    }
   ],
   "source": [
    "motif.name"
   ]
  },
  {
   "cell_type": "code",
   "execution_count": 34,
   "id": "8bd3bef7",
   "metadata": {},
   "outputs": [],
   "source": [
    "motif = record['TGTGKSTG']"
   ]
  },
  {
   "cell_type": "code",
   "execution_count": 35,
   "id": "012fd117",
   "metadata": {},
   "outputs": [
    {
     "data": {
      "text/plain": [
       "500"
      ]
     },
     "execution_count": 35,
     "metadata": {},
     "output_type": "execute_result"
    }
   ],
   "source": [
    "len(motif.instances)"
   ]
  },
  {
   "cell_type": "code",
   "execution_count": 36,
   "id": "31592729",
   "metadata": {},
   "outputs": [
    {
     "data": {
      "text/plain": [
       "Instance('TGTGTGTG')"
      ]
     },
     "execution_count": 36,
     "metadata": {},
     "output_type": "execute_result"
    }
   ],
   "source": [
    "motif.instances[0]"
   ]
  },
  {
   "cell_type": "code",
   "execution_count": 37,
   "id": "c45de8d2",
   "metadata": {},
   "outputs": [
    {
     "data": {
      "text/plain": [
       "165"
      ]
     },
     "execution_count": 37,
     "metadata": {},
     "output_type": "execute_result"
    }
   ],
   "source": [
    "motif.instances[0].start"
   ]
  },
  {
   "cell_type": "code",
   "execution_count": 38,
   "id": "2b764641",
   "metadata": {},
   "outputs": [
    {
     "data": {
      "text/plain": [
       "'-'"
      ]
     },
     "execution_count": 38,
     "metadata": {},
     "output_type": "execute_result"
    }
   ],
   "source": [
    "motif.instances[0].strand"
   ]
  },
  {
   "cell_type": "code",
   "execution_count": 39,
   "id": "6681fade",
   "metadata": {},
   "outputs": [
    {
     "data": {
      "text/plain": [
       "8"
      ]
     },
     "execution_count": 39,
     "metadata": {},
     "output_type": "execute_result"
    }
   ],
   "source": [
    "motif.instances[0].length"
   ]
  },
  {
   "cell_type": "code",
   "execution_count": 40,
   "id": "f2a0f064",
   "metadata": {},
   "outputs": [],
   "source": [
    " pvalue = motif.instances[0].pvalue"
   ]
  },
  {
   "cell_type": "code",
   "execution_count": 41,
   "id": "40cb8388",
   "metadata": {},
   "outputs": [
    {
     "name": "stdout",
     "output_type": "stream",
     "text": [
      "1.12e-05\n"
     ]
    }
   ],
   "source": [
    "print(\"%5.3g\" % pvalue)"
   ]
  },
  {
   "cell_type": "code",
   "execution_count": null,
   "id": "ffa0aff5",
   "metadata": {},
   "outputs": [],
   "source": []
  }
 ],
 "metadata": {
  "kernelspec": {
   "display_name": "base",
   "language": "python",
   "name": "base"
  },
  "language_info": {
   "codemirror_mode": {
    "name": "ipython",
    "version": 3
   },
   "file_extension": ".py",
   "mimetype": "text/x-python",
   "name": "python",
   "nbconvert_exporter": "python",
   "pygments_lexer": "ipython3",
   "version": "3.8.12"
  }
 },
 "nbformat": 4,
 "nbformat_minor": 5
}
