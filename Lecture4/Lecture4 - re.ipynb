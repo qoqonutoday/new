{
 "cells": [
  {
   "cell_type": "code",
   "execution_count": 1,
   "id": "7adda401",
   "metadata": {},
   "outputs": [],
   "source": [
    "import re"
   ]
  },
  {
   "cell_type": "code",
   "execution_count": 2,
   "id": "3c6c33f9",
   "metadata": {},
   "outputs": [],
   "source": [
    "p = re.compile('[a-z]+')"
   ]
  },
  {
   "cell_type": "code",
   "execution_count": 3,
   "id": "47f78702",
   "metadata": {},
   "outputs": [
    {
     "data": {
      "text/plain": [
       "re.compile(r'[a-z]+', re.UNICODE)"
      ]
     },
     "execution_count": 3,
     "metadata": {},
     "output_type": "execute_result"
    }
   ],
   "source": [
    "p"
   ]
  },
  {
   "cell_type": "code",
   "execution_count": 4,
   "id": "a737aee3",
   "metadata": {},
   "outputs": [],
   "source": [
    "m=p.match('string')"
   ]
  },
  {
   "cell_type": "code",
   "execution_count": 5,
   "id": "130d7be3",
   "metadata": {},
   "outputs": [
    {
     "data": {
      "text/plain": [
       "<re.Match object; span=(0, 6), match='string'>"
      ]
     },
     "execution_count": 5,
     "metadata": {},
     "output_type": "execute_result"
    }
   ],
   "source": [
    "m"
   ]
  },
  {
   "cell_type": "markdown",
   "id": "ad34b246",
   "metadata": {},
   "source": [
    "## Getting many matches"
   ]
  },
  {
   "cell_type": "code",
   "execution_count": 6,
   "id": "6775a802",
   "metadata": {},
   "outputs": [],
   "source": [
    "p=re.compile('\\d+')"
   ]
  },
  {
   "cell_type": "code",
   "execution_count": 7,
   "id": "a310051a",
   "metadata": {},
   "outputs": [
    {
     "data": {
      "text/plain": [
       "re.compile(r'\\d+', re.UNICODE)"
      ]
     },
     "execution_count": 7,
     "metadata": {},
     "output_type": "execute_result"
    }
   ],
   "source": [
    "p"
   ]
  },
  {
   "cell_type": "code",
   "execution_count": 8,
   "id": "522059ef",
   "metadata": {},
   "outputs": [
    {
     "data": {
      "text/plain": [
       "['10', '5', '6']"
      ]
     },
     "execution_count": 8,
     "metadata": {},
     "output_type": "execute_result"
    }
   ],
   "source": [
    "p.findall('10 little dogs, 5 large ponies, 6 yummie sweets')"
   ]
  },
  {
   "cell_type": "code",
   "execution_count": 9,
   "id": "8dd397e3",
   "metadata": {},
   "outputs": [],
   "source": [
    "iterator=p.finditer('10 little dogs, 5 large ponies, 6 yummie sweets')"
   ]
  },
  {
   "cell_type": "code",
   "execution_count": 10,
   "id": "ad59f93c",
   "metadata": {},
   "outputs": [
    {
     "data": {
      "text/plain": [
       "<callable_iterator at 0x7f1420200d90>"
      ]
     },
     "execution_count": 10,
     "metadata": {},
     "output_type": "execute_result"
    }
   ],
   "source": [
    "iterator"
   ]
  },
  {
   "cell_type": "code",
   "execution_count": 11,
   "id": "d46314a4",
   "metadata": {},
   "outputs": [
    {
     "name": "stdout",
     "output_type": "stream",
     "text": [
      "(0, 2)\n",
      "(16, 17)\n",
      "(32, 33)\n"
     ]
    }
   ],
   "source": [
    "for match in iterator:\n",
    "    print(match.span())"
   ]
  },
  {
   "cell_type": "markdown",
   "id": "df705023",
   "metadata": {},
   "source": [
    "## Grouping"
   ]
  },
  {
   "cell_type": "code",
   "execution_count": 12,
   "id": "bffbdf5e",
   "metadata": {},
   "outputs": [
    {
     "data": {
      "text/plain": [
       "<re.Match object; span=(0, 9), match='ababAAAcd'>"
      ]
     },
     "execution_count": 12,
     "metadata": {},
     "output_type": "execute_result"
    }
   ],
   "source": [
    "re.search(\"(ab)*AAA(cd)*\", \"ababAAAcd\")"
   ]
  },
  {
   "cell_type": "code",
   "execution_count": 31,
   "id": "783a8c51",
   "metadata": {},
   "outputs": [
    {
     "data": {
      "text/plain": [
       "(0, 4)"
      ]
     },
     "execution_count": 31,
     "metadata": {},
     "output_type": "execute_result"
    }
   ],
   "source": [
    "re.search(\"((ab)*)AAA(cd)*\", \"ababAAAcdcd\").span(1)"
   ]
  },
  {
   "cell_type": "code",
   "execution_count": 14,
   "id": "cc2024b4",
   "metadata": {
    "scrolled": true
   },
   "outputs": [
    {
     "data": {
      "text/plain": [
       "'ababAAAcd'"
      ]
     },
     "execution_count": 14,
     "metadata": {},
     "output_type": "execute_result"
    }
   ],
   "source": [
    "re.search(\"(ab)*AAA(cd)*\", \"ababAAAcd\").group(0)"
   ]
  },
  {
   "cell_type": "code",
   "execution_count": 15,
   "id": "3da099d9",
   "metadata": {},
   "outputs": [
    {
     "data": {
      "text/plain": [
       "'ab'"
      ]
     },
     "execution_count": 15,
     "metadata": {},
     "output_type": "execute_result"
    }
   ],
   "source": [
    "re.search(\"(ab)*AAA(cd)*\", \"ababAAAcd\").group(1)"
   ]
  },
  {
   "cell_type": "code",
   "execution_count": 16,
   "id": "c455b080",
   "metadata": {},
   "outputs": [
    {
     "data": {
      "text/plain": [
       "'cd'"
      ]
     },
     "execution_count": 16,
     "metadata": {},
     "output_type": "execute_result"
    }
   ],
   "source": [
    "re.search(\"(ab)*AAA(cd)*\", \"ababAAAcd\").group(2)"
   ]
  },
  {
   "cell_type": "code",
   "execution_count": 17,
   "id": "918b94e1",
   "metadata": {
    "scrolled": true
   },
   "outputs": [
    {
     "ename": "IndexError",
     "evalue": "no such group",
     "output_type": "error",
     "traceback": [
      "\u001b[0;31m---------------------------------------------------------------------------\u001b[0m",
      "\u001b[0;31mIndexError\u001b[0m                                Traceback (most recent call last)",
      "Cell \u001b[0;32mIn[17], line 1\u001b[0m\n\u001b[0;32m----> 1\u001b[0m \u001b[43mre\u001b[49m\u001b[38;5;241;43m.\u001b[39;49m\u001b[43msearch\u001b[49m\u001b[43m(\u001b[49m\u001b[38;5;124;43m\"\u001b[39;49m\u001b[38;5;124;43m(ab)*AAA(cd)*\u001b[39;49m\u001b[38;5;124;43m\"\u001b[39;49m\u001b[43m,\u001b[49m\u001b[43m \u001b[49m\u001b[38;5;124;43m\"\u001b[39;49m\u001b[38;5;124;43mababAAAcd\u001b[39;49m\u001b[38;5;124;43m\"\u001b[39;49m\u001b[43m)\u001b[49m\u001b[38;5;241;43m.\u001b[39;49m\u001b[43mgroup\u001b[49m\u001b[43m(\u001b[49m\u001b[38;5;241;43m3\u001b[39;49m\u001b[43m)\u001b[49m\n",
      "\u001b[0;31mIndexError\u001b[0m: no such group"
     ]
    }
   ],
   "source": [
    "re.search(\"(ab)*AAA(cd)*\", \"ababAAAcd\").group(3)"
   ]
  },
  {
   "cell_type": "code",
   "execution_count": 18,
   "id": "b6e120cc",
   "metadata": {},
   "outputs": [],
   "source": [
    "p=re.compile('(a(b)c)d')"
   ]
  },
  {
   "cell_type": "code",
   "execution_count": 19,
   "id": "c1f4988c",
   "metadata": {},
   "outputs": [],
   "source": [
    "m=p.match('abcd')"
   ]
  },
  {
   "cell_type": "code",
   "execution_count": 20,
   "id": "5c48d4e5",
   "metadata": {},
   "outputs": [
    {
     "data": {
      "text/plain": [
       "'abcd'"
      ]
     },
     "execution_count": 20,
     "metadata": {},
     "output_type": "execute_result"
    }
   ],
   "source": [
    "m.group(0)"
   ]
  },
  {
   "cell_type": "code",
   "execution_count": 21,
   "id": "984d0938",
   "metadata": {},
   "outputs": [
    {
     "data": {
      "text/plain": [
       "'abc'"
      ]
     },
     "execution_count": 21,
     "metadata": {},
     "output_type": "execute_result"
    }
   ],
   "source": [
    "m.group(1)"
   ]
  },
  {
   "cell_type": "code",
   "execution_count": 22,
   "id": "9b6c70c3",
   "metadata": {
    "scrolled": true
   },
   "outputs": [
    {
     "data": {
      "text/plain": [
       "'b'"
      ]
     },
     "execution_count": 22,
     "metadata": {},
     "output_type": "execute_result"
    }
   ],
   "source": [
    "m.group(2)"
   ]
  },
  {
   "cell_type": "code",
   "execution_count": 23,
   "id": "972836dc",
   "metadata": {},
   "outputs": [
    {
     "data": {
      "text/plain": [
       "('abc', 'b')"
      ]
     },
     "execution_count": 23,
     "metadata": {},
     "output_type": "execute_result"
    }
   ],
   "source": [
    "m.groups()"
   ]
  },
  {
   "cell_type": "code",
   "execution_count": 25,
   "id": "48176c4f",
   "metadata": {},
   "outputs": [
    {
     "data": {
      "text/plain": [
       "('BBBBB',)"
      ]
     },
     "execution_count": 25,
     "metadata": {},
     "output_type": "execute_result"
    }
   ],
   "source": [
    "re.match(\"A(B+)C\",\"ABBBBBC\").groups()"
   ]
  },
  {
   "cell_type": "code",
   "execution_count": 26,
   "id": "67492277",
   "metadata": {},
   "outputs": [
    {
     "data": {
      "text/plain": [
       "(0, 7)"
      ]
     },
     "execution_count": 26,
     "metadata": {},
     "output_type": "execute_result"
    }
   ],
   "source": [
    "re.match(\"A(B+)C\",\"ABBBBBC\").span()"
   ]
  },
  {
   "cell_type": "code",
   "execution_count": 27,
   "id": "057e4587",
   "metadata": {},
   "outputs": [
    {
     "data": {
      "text/plain": [
       "(1, 6)"
      ]
     },
     "execution_count": 27,
     "metadata": {},
     "output_type": "execute_result"
    }
   ],
   "source": [
    "re.match(\"A(B+)C\",\"ABBBBBC\").span(1)"
   ]
  },
  {
   "cell_type": "markdown",
   "id": "5c8b29fb",
   "metadata": {},
   "source": [
    "## Split"
   ]
  },
  {
   "cell_type": "code",
   "execution_count": 33,
   "id": "7124a60d",
   "metadata": {},
   "outputs": [],
   "source": [
    "p=re.compile(r'\\W+')"
   ]
  },
  {
   "cell_type": "code",
   "execution_count": 34,
   "id": "ab3a2009",
   "metadata": {},
   "outputs": [
    {
     "data": {
      "text/plain": [
       "['Just', 'a', 'simple', 'test', 'how', 'to', 'use', 'split', '']"
      ]
     },
     "execution_count": 34,
     "metadata": {},
     "output_type": "execute_result"
    }
   ],
   "source": [
    "p.split('Just a simple test how to use split().')"
   ]
  },
  {
   "cell_type": "code",
   "execution_count": 35,
   "id": "27599cf2",
   "metadata": {},
   "outputs": [
    {
     "data": {
      "text/plain": [
       "['Just', 'a', 'simple', 'test how to use split().']"
      ]
     },
     "execution_count": 35,
     "metadata": {},
     "output_type": "execute_result"
    }
   ],
   "source": [
    "p.split('Just a simple test how to use split().', 3)"
   ]
  },
  {
   "cell_type": "code",
   "execution_count": 36,
   "id": "2b4ac9c2",
   "metadata": {},
   "outputs": [],
   "source": [
    "p=re.compile(r'(\\W+)')"
   ]
  },
  {
   "cell_type": "code",
   "execution_count": 37,
   "id": "fa5f2c55",
   "metadata": {},
   "outputs": [
    {
     "data": {
      "text/plain": [
       "['Heu', '... ', 'what', ' ', 'to', ' ', 'say']"
      ]
     },
     "execution_count": 37,
     "metadata": {},
     "output_type": "execute_result"
    }
   ],
   "source": [
    "p.split('Heu... what to say')"
   ]
  },
  {
   "cell_type": "markdown",
   "id": "fa1ba515",
   "metadata": {},
   "source": [
    "## Search and replace"
   ]
  },
  {
   "cell_type": "code",
   "execution_count": 38,
   "id": "1478c53b",
   "metadata": {},
   "outputs": [],
   "source": [
    "p=re.compile('(blue|white|red)')"
   ]
  },
  {
   "cell_type": "code",
   "execution_count": 39,
   "id": "6cd828aa",
   "metadata": {},
   "outputs": [
    {
     "data": {
      "text/plain": [
       "'color socks and color shoes'"
      ]
     },
     "execution_count": 39,
     "metadata": {},
     "output_type": "execute_result"
    }
   ],
   "source": [
    "p.sub('color','blue socks and white shoes')"
   ]
  },
  {
   "cell_type": "code",
   "execution_count": 40,
   "id": "6a354da5",
   "metadata": {},
   "outputs": [
    {
     "data": {
      "text/plain": [
       "'color socks and white shoes'"
      ]
     },
     "execution_count": 40,
     "metadata": {},
     "output_type": "execute_result"
    }
   ],
   "source": [
    "p.sub('color','blue socks and white shoes',count=1)"
   ]
  },
  {
   "cell_type": "code",
   "execution_count": 44,
   "id": "85fdb906",
   "metadata": {},
   "outputs": [],
   "source": [
    "p = re.compile(r'\\W+(\\w+)\\W+\\1')"
   ]
  },
  {
   "cell_type": "code",
   "execution_count": 52,
   "id": "8e719c85",
   "metadata": {},
   "outputs": [
    {
     "data": {
      "text/plain": [
       "<re.Match object; span=(8, 16), match=' the the'>"
      ]
     },
     "execution_count": 52,
     "metadata": {},
     "output_type": "execute_result"
    }
   ],
   "source": [
    "p.search('Paris in the the spring')"
   ]
  },
  {
   "cell_type": "code",
   "execution_count": 53,
   "id": "325655c0",
   "metadata": {},
   "outputs": [
    {
     "data": {
      "text/plain": [
       "' the the'"
      ]
     },
     "execution_count": 53,
     "metadata": {},
     "output_type": "execute_result"
    }
   ],
   "source": [
    "p.search('Paris in the the spring').group()"
   ]
  },
  {
   "cell_type": "code",
   "execution_count": 54,
   "id": "182879f5",
   "metadata": {},
   "outputs": [
    {
     "data": {
      "text/plain": [
       "'the'"
      ]
     },
     "execution_count": 54,
     "metadata": {},
     "output_type": "execute_result"
    }
   ],
   "source": [
    "p.search('Paris in the the spring').group(1)"
   ]
  }
 ],
 "metadata": {
  "kernelspec": {
   "display_name": "base",
   "language": "python",
   "name": "base"
  },
  "language_info": {
   "codemirror_mode": {
    "name": "ipython",
    "version": 3
   },
   "file_extension": ".py",
   "mimetype": "text/x-python",
   "name": "python",
   "nbconvert_exporter": "python",
   "pygments_lexer": "ipython3",
   "version": "3.8.12"
  }
 },
 "nbformat": 4,
 "nbformat_minor": 5
}
